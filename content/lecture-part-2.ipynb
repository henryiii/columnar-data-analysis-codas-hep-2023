{
 "cells": [
  {
   "cell_type": "markdown",
   "id": "0ae7471a-6bf1-44fd-951f-e2b7495e7b85",
   "metadata": {
    "slideshow": {
     "slide_type": "slide"
    },
    "tags": []
   },
   "source": [
    "# CoDaS-HEP Columnar Data Analysis, part 2"
   ]
  },
  {
   "cell_type": "markdown",
   "id": "89f1b028-5e84-45df-9f0e-0ea18ebcd464",
   "metadata": {
    "slideshow": {
     "slide_type": "fragment"
    },
    "tags": []
   },
   "source": [
    "This is the second of four notebooks on [columnar data analysis](https://indico.cern.ch/event/1287965/timetable/#41-columnar-data-analysis), presented at CoDaS-HEP at 13:30pm on July 20, 2023 by Jim Pivarski and Ioana Ifrim.\n",
    "\n",
    "See the [GitHub repo](https://github.com/ioanaif/columnar-data-analysis-codas-hep-2023) for instructions on how to run it."
   ]
  },
  {
   "cell_type": "markdown",
   "id": "ae02b208-8568-4478-987c-4491278694cd",
   "metadata": {
    "slideshow": {
     "slide_type": "slide"
    },
    "tags": []
   },
   "source": [
    "## From ROOT files into arrays"
   ]
  },
  {
   "cell_type": "markdown",
   "id": "c253d4ea-ac4a-42cc-b705-22c4a717906c",
   "metadata": {
    "slideshow": {
     "slide_type": "fragment"
    },
    "tags": []
   },
   "source": [
    "Physics data are in ROOT files. For columnar analysis, we'll need to get the data into arrays."
   ]
  },
  {
   "cell_type": "code",
   "execution_count": null,
   "id": "de7a701e-c9c1-4d90-9d2f-83e2c9dc1a4e",
   "metadata": {
    "slideshow": {
     "slide_type": "fragment"
    },
    "tags": []
   },
   "outputs": [],
   "source": [
    "import ROOT\n",
    "\n",
    "rdf = ROOT.RDataFrame(\"Events\", \"data/SMHiggsToZZTo4L.root\")\n",
    "\n",
    "rdf.AsNumpy([\"MET_pt\", \"MET_phi\"])"
   ]
  },
  {
   "cell_type": "markdown",
   "id": "913cc905-bed9-4f76-9b64-4da460bff346",
   "metadata": {
    "slideshow": {
     "slide_type": "slide"
    },
    "tags": []
   },
   "source": [
    "For variable-length data, such as particle quantities in events with arbitrarily many particles, the NumPy array has `dtype=object`."
   ]
  },
  {
   "cell_type": "code",
   "execution_count": null,
   "id": "24a55d5b-36e9-4f85-b35e-e8cd75141643",
   "metadata": {
    "slideshow": {
     "slide_type": "fragment"
    },
    "tags": []
   },
   "outputs": [],
   "source": [
    "muon_quantities = rdf.AsNumpy([\"Muon_pt\", \"Muon_phi\"])\n",
    "muon_quantities"
   ]
  },
  {
   "cell_type": "markdown",
   "id": "98c0ff08-b1ca-470d-aa6e-6dafcea014ea",
   "metadata": {
    "slideshow": {
     "slide_type": "slide"
    },
    "tags": []
   },
   "source": [
    "NumPy `dtype=object` arrays are essentially lists: every element is a Python object and NumPy does not know the internal structure.\n",
    "\n",
    "On the one hand, this limits speed of calculation (notice the units):"
   ]
  },
  {
   "cell_type": "code",
   "execution_count": null,
   "id": "5a5319b0-f731-464e-8d4a-a66e3c651005",
   "metadata": {
    "slideshow": {
     "slide_type": "fragment"
    },
    "tags": []
   },
   "outputs": [],
   "source": [
    "import numpy as np\n",
    "\n",
    "numeric_array = np.arange(500000, dtype=np.int64)\n",
    "python_objects = np.array(range(500000), dtype=object)"
   ]
  },
  {
   "cell_type": "code",
   "execution_count": null,
   "id": "4b34815a-235a-4936-a0d4-d0675a58e39a",
   "metadata": {
    "slideshow": {
     "slide_type": "fragment"
    },
    "tags": []
   },
   "outputs": [],
   "source": [
    "%%timeit\n",
    "\n",
    "numeric_array**2"
   ]
  },
  {
   "cell_type": "code",
   "execution_count": null,
   "id": "47404116-9eff-4c61-8633-f437a8fad4ae",
   "metadata": {
    "slideshow": {
     "slide_type": "fragment"
    },
    "tags": []
   },
   "outputs": [],
   "source": [
    "%%timeit\n",
    "\n",
    "python_objects**2"
   ]
  },
  {
   "cell_type": "markdown",
   "id": "eb4ef5af-7697-4347-9f95-677f2a089c4f",
   "metadata": {
    "slideshow": {
     "slide_type": "slide"
    },
    "tags": []
   },
   "source": [
    "And on the other hand, it limits expressiveness:"
   ]
  },
  {
   "cell_type": "code",
   "execution_count": null,
   "id": "99eed7c7-f024-4c56-a5ea-88072e37fab1",
   "metadata": {
    "slideshow": {
     "slide_type": "fragment"
    },
    "tags": []
   },
   "outputs": [],
   "source": [
    "numeric_array = np.empty((2, 2, 3), dtype=np.int64)\n",
    "python_objects = np.empty(2, dtype=object)\n",
    "\n",
    "numeric_array[:] = [[[1, 2, 3], [4, 5, 6]], [[10, 20, 30], [40, 50, 60]]]\n",
    "python_objects[:] = [[[1, 2, 3], [4, 5, 6]], [[10, 20, 30], [40, 50, 60]]]"
   ]
  },
  {
   "cell_type": "code",
   "execution_count": null,
   "id": "c16b9d30-c596-4307-93f4-75a15090ea99",
   "metadata": {
    "slideshow": {
     "slide_type": "fragment"
    },
    "tags": []
   },
   "outputs": [],
   "source": [
    "numeric_array[:, :, 1:]    # drop first element from innermost dimension"
   ]
  },
  {
   "cell_type": "code",
   "execution_count": null,
   "id": "a06f93d2-99b5-47bf-bb49-be06849ed1f9",
   "metadata": {
    "slideshow": {
     "slide_type": "fragment"
    },
    "tags": [
     "raises-exception"
    ]
   },
   "outputs": [],
   "source": [
    "python_objects[:, :, 1:]   # can't manipulate anything past the first dimension"
   ]
  },
  {
   "cell_type": "markdown",
   "id": "ead9c5a5-0e5f-425e-8243-dbbd50b7e7fa",
   "metadata": {
    "slideshow": {
     "slide_type": "slide"
    },
    "tags": []
   },
   "source": [
    "Thus, to compute $p_x$ and $p_y$ from muon $p_T$ and $\\phi$ in Python, we'd have to drop down into imperative or list comprehensions (functional):"
   ]
  },
  {
   "cell_type": "code",
   "execution_count": null,
   "id": "335097f9-0259-4c0b-b863-390993dbaa0e",
   "metadata": {
    "slideshow": {
     "slide_type": "fragment"
    },
    "tags": []
   },
   "outputs": [],
   "source": [
    "all_pt, all_phi = muon_quantities[\"Muon_pt\"], muon_quantities[\"Muon_phi\"]\n",
    "\n",
    "all_px = np.array([[pt * np.cos(phi) for pt, phi in zip(event_pt, event_phi)] for event_pt, event_phi in zip(all_pt, all_phi)], dtype=object)\n",
    "all_py = np.array([[pt * np.sin(phi) for pt, phi in zip(event_pt, event_phi)] for event_pt, event_phi in zip(all_pt, all_phi)], dtype=object)\n",
    "\n",
    "all_px, all_py"
   ]
  },
  {
   "cell_type": "markdown",
   "id": "b56c2e9d-966f-4949-b99c-f28cbd5042c3",
   "metadata": {
    "slideshow": {
     "slide_type": "slide"
    },
    "tags": []
   },
   "source": [
    "However, if we instead read the file with Uproot (to be described later),"
   ]
  },
  {
   "cell_type": "code",
   "execution_count": null,
   "id": "6c2b9558-869c-4eae-b83b-5f395879cb7b",
   "metadata": {
    "slideshow": {
     "slide_type": "fragment"
    },
    "tags": []
   },
   "outputs": [],
   "source": [
    "import uproot\n",
    "\n",
    "with uproot.open(\"data/SMHiggsToZZTo4L.root:Events\") as events:\n",
    "    muon_quantities2 = events.arrays([\"Muon_pt\", \"Muon_phi\"])\n",
    "\n",
    "muon_quantities2.show()"
   ]
  },
  {
   "cell_type": "markdown",
   "id": "af426787-7df7-4275-ae34-3ab0987a2f96",
   "metadata": {
    "slideshow": {
     "slide_type": "slide"
    },
    "tags": []
   },
   "source": [
    "Operations on these Awkward Arrays (to be described later) can be expressed in an array-oriented way:"
   ]
  },
  {
   "cell_type": "code",
   "execution_count": null,
   "id": "2c7526bb-897d-434f-a113-44bb819465c8",
   "metadata": {
    "slideshow": {
     "slide_type": "fragment"
    },
    "tags": []
   },
   "outputs": [],
   "source": [
    "all_pt, all_phi = muon_quantities2[\"Muon_pt\"], muon_quantities2[\"Muon_phi\"]\n",
    "\n",
    "all_px = all_pt * np.cos(all_phi)\n",
    "all_py = all_pt * np.sin(all_phi)\n",
    "\n",
    "all_px, all_py"
   ]
  },
  {
   "cell_type": "markdown",
   "id": "5bb30888-236b-4db6-970a-d6ce07efd909",
   "metadata": {
    "slideshow": {
     "slide_type": "fragment"
    },
    "tags": []
   },
   "source": [
    "To be fair, that's not how RDataFrame is _supposed_ to be used: it's a functional programming framework that takes functions as strings of C++ code (which it compiles).\n",
    "\n",
    "The `ROOT::VecOps` library presents an array-oriented style _per event_."
   ]
  },
  {
   "cell_type": "code",
   "execution_count": null,
   "id": "42ec6003-4e32-4f67-b519-3fd0db9742e8",
   "metadata": {
    "slideshow": {
     "slide_type": "fragment"
    },
    "tags": []
   },
   "outputs": [],
   "source": [
    "(\n",
    "    rdf.Define(\"px\", \"Muon_pt * ROOT::VecOps::cos(Muon_phi)\")\n",
    "       .Define(\"py\", \"Muon_pt * ROOT::VecOps::sin(Muon_phi)\")\n",
    "       .AsNumpy([\"px\", \"py\"])\n",
    ")"
   ]
  },
  {
   "cell_type": "markdown",
   "id": "8ec4f1ff-40ad-4955-b192-b27e37bb74c4",
   "metadata": {
    "slideshow": {
     "slide_type": "slide"
    },
    "tags": []
   },
   "source": [
    "## Tools from Scikit-HEP"
   ]
  },
  {
   "cell_type": "markdown",
   "id": "37b33a8f-af91-4bd5-8e76-c8bb0c66b74e",
   "metadata": {
    "slideshow": {
     "slide_type": "fragment"
    },
    "tags": []
   },
   "source": [
    "<img src=\"img/scikit-hep-logo.svg\" width=\"300\">"
   ]
  },
  {
   "cell_type": "markdown",
   "id": "0ef3bcf3-26b6-480c-b848-a5362878436d",
   "metadata": {
    "slideshow": {
     "slide_type": "fragment"
    },
    "tags": []
   },
   "source": [
    "Scikit-HEP is an umbrella organization for particle physics software in Python.\n",
    "\n",
    "See [scikit-hep.org](https://scikit-hep.org/) for more information."
   ]
  },
  {
   "cell_type": "markdown",
   "id": "f1e88f00-27fc-4aba-b74e-df50d9737698",
   "metadata": {
    "slideshow": {
     "slide_type": "slide"
    },
    "tags": []
   },
   "source": [
    "<img src=\"img/uproot-logo.svg\" width=\"300\">"
   ]
  },
  {
   "cell_type": "markdown",
   "id": "68c46721-e04b-4566-b53e-f01ab583c643",
   "metadata": {
    "slideshow": {
     "slide_type": "fragment"
    },
    "tags": []
   },
   "source": [
    "Uproot is a reimplementation of ROOT file I/O in Python.\n",
    "\n",
    "See [uproot.readthedocs.io](https://uproot.readthedocs.io/) for tutorials and reference documentation."
   ]
  },
  {
   "cell_type": "markdown",
   "id": "09bc495d-8025-46c9-b034-4dad3783517c",
   "metadata": {
    "slideshow": {
     "slide_type": "fragment"
    },
    "tags": []
   },
   "source": [
    "<img src=\"img/abstraction-layers.svg\" width=\"800\">"
   ]
  },
  {
   "cell_type": "markdown",
   "id": "f20e5b76-0c1d-4a37-93ff-86422a8815aa",
   "metadata": {
    "slideshow": {
     "slide_type": "slide"
    },
    "tags": []
   },
   "source": [
    "ROOT files can contain standalone objects, such as histograms, and tables of data (\"TTrees\") whose columns are arrays (\"TBranches\").\n",
    "\n",
    "As a low-level detail, ranges of entries in the arrays can only be read in granular units (\"TBaskets\")."
   ]
  },
  {
   "cell_type": "markdown",
   "id": "f1fea76d-db72-4894-85f0-70502b279ba2",
   "metadata": {
    "slideshow": {
     "slide_type": "fragment"
    },
    "tags": []
   },
   "source": [
    "<img src=\"img/terminology.svg\" width=\"700\">"
   ]
  },
  {
   "cell_type": "markdown",
   "id": "b92c4f09-87f1-41e1-af64-a7f236d6a90b",
   "metadata": {
    "slideshow": {
     "slide_type": "fragment"
    },
    "tags": []
   },
   "source": [
    "Uproot reads standalone objects, including TTree metadata, in slow, imperative Python.\n",
    "\n",
    "It reads, decompresses, and interprets TBranch arrays in fast, array-oriented NumPy."
   ]
  },
  {
   "cell_type": "markdown",
   "id": "2f930ba3-8ac6-413c-af7f-66f8c82e4eb5",
   "metadata": {
    "slideshow": {
     "slide_type": "slide"
    },
    "tags": []
   },
   "source": [
    "\"Open a file.\""
   ]
  },
  {
   "cell_type": "code",
   "execution_count": null,
   "id": "2601d5a2-a00b-4978-a3c0-8e3ee4787b5f",
   "metadata": {
    "slideshow": {
     "slide_type": "fragment"
    },
    "tags": []
   },
   "outputs": [],
   "source": [
    "file = uproot.open(\"data/SMHiggsToZZTo4L.root\")\n",
    "file"
   ]
  },
  {
   "cell_type": "markdown",
   "id": "940caf7d-2daf-4aa1-b889-d14a5fe9f7cb",
   "metadata": {
    "slideshow": {
     "slide_type": "fragment"
    },
    "tags": []
   },
   "source": [
    "\"What's in the file?\""
   ]
  },
  {
   "cell_type": "code",
   "execution_count": null,
   "id": "37bbe7e9-7a7d-4086-b322-0fbd91999f0a",
   "metadata": {
    "slideshow": {
     "slide_type": "fragment"
    },
    "tags": []
   },
   "outputs": [],
   "source": [
    "file.keys()"
   ]
  },
  {
   "cell_type": "code",
   "execution_count": null,
   "id": "d843f7a8-07b7-4018-a8f7-d60f46894592",
   "metadata": {
    "slideshow": {
     "slide_type": "fragment"
    },
    "tags": []
   },
   "outputs": [],
   "source": [
    "file.classnames()"
   ]
  },
  {
   "cell_type": "markdown",
   "id": "41828681-9f96-4427-8ced-386e16cc722d",
   "metadata": {
    "slideshow": {
     "slide_type": "fragment"
    },
    "tags": []
   },
   "source": [
    "\"Read the TTree metadata. (Not the arrays!)\""
   ]
  },
  {
   "cell_type": "code",
   "execution_count": null,
   "id": "a3f866a3-1427-4532-adff-38ce6065084b",
   "metadata": {
    "slideshow": {
     "slide_type": "fragment"
    },
    "tags": []
   },
   "outputs": [],
   "source": [
    "tree = file[\"Events\"]\n",
    "tree"
   ]
  },
  {
   "cell_type": "markdown",
   "id": "2beefbec-95d9-4705-a8aa-d87764cca728",
   "metadata": {
    "slideshow": {
     "slide_type": "fragment"
    },
    "tags": []
   },
   "source": [
    "\"What TBranch types are in the TTree?\""
   ]
  },
  {
   "cell_type": "code",
   "execution_count": null,
   "id": "bec79d80-bda6-4e32-bf6d-e53b25270585",
   "metadata": {
    "slideshow": {
     "slide_type": "fragment"
    },
    "tags": []
   },
   "outputs": [],
   "source": [
    "tree.show()"
   ]
  },
  {
   "cell_type": "markdown",
   "id": "1411be0e-0ad9-4ad0-a603-4e71ac9e5802",
   "metadata": {
    "slideshow": {
     "slide_type": "slide"
    },
    "tags": []
   },
   "source": [
    "\"Can I get that information programmatically?\"\n",
    "\n",
    "(Yes.)"
   ]
  },
  {
   "cell_type": "code",
   "execution_count": null,
   "id": "9afff669-b8d6-4171-bff6-0f397d1e772e",
   "metadata": {
    "slideshow": {
     "slide_type": "fragment"
    },
    "tags": []
   },
   "outputs": [],
   "source": [
    "{key: branch.typename for key, branch in tree.items()}"
   ]
  },
  {
   "cell_type": "markdown",
   "id": "7b288155-705c-4b80-afe8-9e9275b4afca",
   "metadata": {
    "slideshow": {
     "slide_type": "slide"
    },
    "tags": []
   },
   "source": [
    "\"Read the muon $pT$, $\\eta$, $\\phi$, and mass, and no other arrays.\""
   ]
  },
  {
   "cell_type": "code",
   "execution_count": null,
   "id": "5edba913-5e68-4613-a17b-8389aa8ba58d",
   "metadata": {
    "slideshow": {
     "slide_type": "fragment"
    },
    "tags": []
   },
   "outputs": [],
   "source": [
    "muon_kinematics = tree.arrays([\"Muon_pt\", \"Muon_eta\", \"Muon_phi\", \"Muon_mass\"])\n",
    "muon_kinematics"
   ]
  },
  {
   "cell_type": "markdown",
   "id": "07fe1251-05f0-43bb-af84-3a3d2eac0759",
   "metadata": {
    "slideshow": {
     "slide_type": "slide"
    },
    "tags": []
   },
   "source": [
    "\"Show me that (already read) array in more detail, including data types.\""
   ]
  },
  {
   "cell_type": "code",
   "execution_count": null,
   "id": "c67ca2b8-1187-4965-98ca-2603fb38c2ee",
   "metadata": {
    "slideshow": {
     "slide_type": "fragment"
    },
    "tags": []
   },
   "outputs": [],
   "source": [
    "muon_kinematics.show(type=True)"
   ]
  },
  {
   "cell_type": "markdown",
   "id": "e28b63ab-d452-4551-9306-1724ab720ca6",
   "metadata": {
    "slideshow": {
     "slide_type": "slide"
    },
    "tags": []
   },
   "source": [
    "\"Which TBranches have anything to do with muons or electrons?\""
   ]
  },
  {
   "cell_type": "code",
   "execution_count": null,
   "id": "6555d182-e38e-477b-a2dd-330c5140ef6c",
   "metadata": {
    "slideshow": {
     "slide_type": "fragment"
    },
    "tags": []
   },
   "outputs": [],
   "source": [
    "tree.keys(filter_name=[\"Muon_*\", \"Electron_*\"])"
   ]
  },
  {
   "cell_type": "markdown",
   "id": "05c69d5a-2018-4b51-b73a-cdd44e0dcd98",
   "metadata": {
    "slideshow": {
     "slide_type": "slide"
    },
    "tags": []
   },
   "source": [
    "\"Read all the TBranches that have anything to do with muons or electrons (_re-reading_ the muon kinematics!).\""
   ]
  },
  {
   "cell_type": "code",
   "execution_count": null,
   "id": "1e10926f-65e7-4a65-b5b3-cd308d963735",
   "metadata": {
    "slideshow": {
     "slide_type": "fragment"
    },
    "tags": []
   },
   "outputs": [],
   "source": [
    "muons_and_electrons = tree.arrays(filter_name=[\"Muon_*\", \"Electron_*\"])\n",
    "muons_and_electrons"
   ]
  },
  {
   "cell_type": "markdown",
   "id": "f40a3903-f994-45b8-8000-2ae3208c793a",
   "metadata": {
    "slideshow": {
     "slide_type": "slide"
    },
    "tags": []
   },
   "source": [
    "\"More detail on that (already read) array, please.\""
   ]
  },
  {
   "cell_type": "code",
   "execution_count": null,
   "id": "7cabcde3-19ad-4a15-b2b9-ec9e57862256",
   "metadata": {
    "slideshow": {
     "slide_type": "fragment"
    },
    "tags": []
   },
   "outputs": [],
   "source": [
    "muons_and_electrons.show(type=True)"
   ]
  },
  {
   "cell_type": "markdown",
   "id": "1414f5e1-b242-465c-be27-11a65d48d9e8",
   "metadata": {
    "slideshow": {
     "slide_type": "slide"
    },
    "tags": []
   },
   "source": [
    "We can pull individual arrays out of this using syntax like"
   ]
  },
  {
   "cell_type": "code",
   "execution_count": null,
   "id": "0407c83d-7f17-49bc-9c49-a08c8ab37eea",
   "metadata": {
    "slideshow": {
     "slide_type": "fragment"
    },
    "tags": []
   },
   "outputs": [],
   "source": [
    "muons_and_electrons[\"Muon_pt\"]"
   ]
  },
  {
   "cell_type": "markdown",
   "id": "c1506015-46ed-4c74-b7da-e83dedd1ae76",
   "metadata": {
    "slideshow": {
     "slide_type": "slide"
    },
    "tags": []
   },
   "source": [
    "but please be aware of the distinction between accessing data that have already been read (above)...\n",
    "\n",
    "...and reading or re-reading new data from disk (below)."
   ]
  },
  {
   "cell_type": "code",
   "execution_count": null,
   "id": "7cf5d5a8-b66d-493a-9dae-c45108c3408c",
   "metadata": {
    "slideshow": {
     "slide_type": "fragment"
    },
    "tags": []
   },
   "outputs": [],
   "source": [
    "tree[\"Muon_pt\"].array()"
   ]
  },
  {
   "cell_type": "markdown",
   "id": "ec7cead6-d0ce-48bb-9eaa-3f4073dd7ced",
   "metadata": {
    "slideshow": {
     "slide_type": "slide"
    },
    "tags": []
   },
   "source": [
    "Uproot and Awkward Array are \"eager\": they do what you tell them to, when you tell them to.\n",
    "\n",
    "Unless you're using Dask!"
   ]
  },
  {
   "cell_type": "code",
   "execution_count": null,
   "id": "8088e85f-2643-4694-b81d-80cb10242ae7",
   "metadata": {
    "slideshow": {
     "slide_type": "fragment"
    },
    "tags": []
   },
   "outputs": [],
   "source": [
    "delayed_read = uproot.dask(\"data/SMHiggsToZZTo4L.root\", library=\"np\")\n",
    "\n",
    "delayed_px = delayed_read[\"MET_pt\"] * np.cos(delayed_read[\"MET_phi\"])\n",
    "\n",
    "delayed_px"
   ]
  },
  {
   "cell_type": "code",
   "execution_count": null,
   "id": "4b0c196c-e814-4498-a938-b9fc5bcf868a",
   "metadata": {
    "slideshow": {
     "slide_type": "slide"
    },
    "tags": []
   },
   "outputs": [],
   "source": [
    "delayed_px.visualize()"
   ]
  },
  {
   "cell_type": "code",
   "execution_count": null,
   "id": "400a8d1f-c638-4a86-85c3-8aa9a2c0cd28",
   "metadata": {
    "slideshow": {
     "slide_type": "slide"
    },
    "tags": []
   },
   "outputs": [],
   "source": [
    "delayed_px.compute()"
   ]
  },
  {
   "cell_type": "markdown",
   "id": "e0f9a228-c326-4efa-9dba-74b9b1e285a4",
   "metadata": {
    "slideshow": {
     "slide_type": "slide"
    },
    "tags": []
   },
   "source": [
    "<img src=\"img/awkward-logo.svg\" width=\"300\">"
   ]
  },
  {
   "cell_type": "markdown",
   "id": "a9c4b45a-ecdf-4ec3-9b4c-0c2211157d16",
   "metadata": {
    "slideshow": {
     "slide_type": "fragment"
    },
    "tags": []
   },
   "source": [
    "Awkward Array is a library for manipluating arrays of arbitrary data types as though they were NumPy arrays.\n",
    "\n",
    "See [awkward-array.org](https://awkward-array.org/) for tutorials and reference documentation.\n"
   ]
  },
  {
   "cell_type": "code",
   "execution_count": null,
   "id": "1f1bf9cd-bcb3-4ff7-8f69-f8b3ae1f449c",
   "metadata": {
    "slideshow": {
     "slide_type": "fragment"
    },
    "tags": []
   },
   "outputs": [],
   "source": [
    "import awkward as ak"
   ]
  },
  {
   "cell_type": "markdown",
   "id": "099b3a15-c873-4d83-9f84-46ffbc019a11",
   "metadata": {
    "slideshow": {
     "slide_type": "slide"
    },
    "tags": []
   },
   "source": [
    "As an example with some generality, consider arrays of variable-length lists of records with fields \"x\" and \"y\"; the \"x\" values are either missing (`None`) or floating point values; the \"y\" are lists of integers.\n",
    "\n",
    "Like this:"
   ]
  },
  {
   "cell_type": "code",
   "execution_count": null,
   "id": "eb6b1c88-3f41-4a0f-8906-74afaae52374",
   "metadata": {
    "slideshow": {
     "slide_type": "fragment"
    },
    "tags": []
   },
   "outputs": [],
   "source": [
    "array = ak.Array([\n",
    "    [{\"x\": 1.1, \"y\": [1]}, {\"x\": None, \"y\": [1, 2]}, {\"x\": 3.3, \"y\": [1, 2, 3]}],\n",
    "    [],\n",
    "    [{\"x\": None, \"y\": [1, 2, 3, 4]}, {\"x\": 5.5, \"y\": [1, 2, 3, 4, 5]}]\n",
    "] * 10000)"
   ]
  },
  {
   "cell_type": "markdown",
   "id": "e85971f1-49ef-4e52-a819-82a6d1e143a4",
   "metadata": {
    "slideshow": {
     "slide_type": "slide"
    },
    "tags": []
   },
   "source": [
    "The following NumPy-like expression\n",
    "\n",
    "   * accesses field \"y\"\n",
    "   * drops the first element of each list (`1:`) from the innermost dimension (`...`)\n",
    "   * squares each value with `np.square`, a NumPy function\n",
    "   * returns a structure that is unmodified from the original, except where dictated."
   ]
  },
  {
   "cell_type": "code",
   "execution_count": null,
   "id": "89e649c3-76fb-44b4-9304-0821b365af1a",
   "metadata": {
    "slideshow": {
     "slide_type": "fragment"
    },
    "tags": []
   },
   "outputs": [],
   "source": [
    "output = np.square(array[\"y\", ..., 1:])\n",
    "output"
   ]
  },
  {
   "cell_type": "markdown",
   "id": "bbc7d3ec-7523-4094-bad9-4de2c8d78350",
   "metadata": {
    "slideshow": {
     "slide_type": "slide"
    },
    "tags": []
   },
   "source": [
    "To do the equivalent in Python, we'd have to write the following:"
   ]
  },
  {
   "cell_type": "code",
   "execution_count": null,
   "id": "b4dc6d5a-a1cb-4a63-bea7-401435feddb2",
   "metadata": {
    "slideshow": {
     "slide_type": "fragment"
    },
    "tags": []
   },
   "outputs": [],
   "source": [
    "array_as_lists = array.tolist()"
   ]
  },
  {
   "cell_type": "code",
   "execution_count": null,
   "id": "7f9f23bb-c406-4006-b273-2ccf89832435",
   "metadata": {
    "slideshow": {
     "slide_type": "fragment"
    },
    "tags": []
   },
   "outputs": [],
   "source": [
    "%%timeit\n",
    "\n",
    "output = []\n",
    "for sublist in array_as_lists:\n",
    "    tmp1 = []\n",
    "    for record in sublist:\n",
    "        tmp2 = []\n",
    "        for number in record[\"y\"][1:]:\n",
    "            tmp2.append(np.square(number))\n",
    "        tmp1.append(tmp2)\n",
    "    output.append(tmp1)"
   ]
  },
  {
   "cell_type": "markdown",
   "id": "d158d32f-b1e4-4b28-9769-bfbbe7c93e40",
   "metadata": {
    "slideshow": {
     "slide_type": "fragment"
    },
    "tags": []
   },
   "source": [
    "The array-oriented expression is faster, too."
   ]
  },
  {
   "cell_type": "code",
   "execution_count": null,
   "id": "4c6a5aa0-e4b8-40ab-8d02-7adf4c184c0a",
   "metadata": {
    "slideshow": {
     "slide_type": "fragment"
    },
    "tags": []
   },
   "outputs": [],
   "source": [
    "%%timeit\n",
    "\n",
    "output = np.square(array[\"y\", ..., 1:])"
   ]
  },
  {
   "cell_type": "markdown",
   "id": "d2eccb39-e929-45b1-91df-c090d7d84046",
   "metadata": {
    "slideshow": {
     "slide_type": "slide"
    },
    "tags": []
   },
   "source": [
    "How about converting an Awkward Array to RDataFrame and back*?\n",
    "\n",
    "(\\* Thanks to Yana Osborne!)"
   ]
  },
  {
   "cell_type": "code",
   "execution_count": null,
   "id": "84055316-f15d-4bb5-a8e0-bcfc4974f15d",
   "metadata": {
    "slideshow": {
     "slide_type": "fragment"
    },
    "tags": []
   },
   "outputs": [],
   "source": [
    "rdf2 = ak.to_rdataframe({\"array\": array})"
   ]
  },
  {
   "cell_type": "code",
   "execution_count": null,
   "id": "66f59e8f-e1c0-4e27-9b11-5af91f2576e5",
   "metadata": {
    "slideshow": {
     "slide_type": "fragment"
    },
    "tags": []
   },
   "outputs": [],
   "source": [
    "rdf3 = rdf2.Define(\"output\", \"\"\"\n",
    "std::vector<std::vector<int64_t>> tmp1;\n",
    "\n",
    "for (auto record : array) {\n",
    "    std::vector<int64_t> tmp2;\n",
    "    for (auto number : record.y()) {\n",
    "        tmp2.push_back(number * number);\n",
    "    }\n",
    "    tmp1.push_back(tmp2);\n",
    "}\n",
    "return tmp1;\n",
    "\"\"\")"
   ]
  },
  {
   "cell_type": "code",
   "execution_count": null,
   "id": "ade4bdc0-0c7f-41df-8cb9-211d0e42e0ca",
   "metadata": {
    "slideshow": {
     "slide_type": "fragment"
    },
    "tags": []
   },
   "outputs": [],
   "source": [
    "output = ak.from_rdataframe(rdf3, \"output\")\n",
    "output"
   ]
  },
  {
   "cell_type": "markdown",
   "id": "5b90ae1e-b2e1-4c8c-9ec9-d077ecd14610",
   "metadata": {
    "slideshow": {
     "slide_type": "slide"
    },
    "tags": []
   },
   "source": [
    "<br>\n",
    "\n",
    "<img src=\"img/vector-logo.svg\" width=\"300\">\n",
    "\n",
    "<br>"
   ]
  },
  {
   "cell_type": "markdown",
   "id": "89296f7e-5ecd-4fdf-915f-ce1c6102abce",
   "metadata": {
    "slideshow": {
     "slide_type": "fragment"
    },
    "tags": []
   },
   "source": [
    "Vector is a library for manipluating arrays of Lorentz vectors (and 2D, 3D Euclidean vectors).\n",
    "\n",
    "See [vector.readthedocs.io](https://vector.readthedocs.io/) for tutorials and reference documentation.\n",
    "\n",
    "We'll use this to add vectors and compute masses without having to write the formulae by hand."
   ]
  },
  {
   "cell_type": "markdown",
   "id": "0ebb88dc-2638-4db2-ae90-833c7f97800b",
   "metadata": {
    "slideshow": {
     "slide_type": "slide"
    },
    "tags": []
   },
   "source": [
    "<img src=\"img/hist-logo.svg\" width=\"300\">"
   ]
  },
  {
   "cell_type": "markdown",
   "id": "0f454c2d-754b-42c4-8c18-f84f9629db10",
   "metadata": {
    "slideshow": {
     "slide_type": "fragment"
    },
    "tags": []
   },
   "source": [
    "Hist is a library for filling, manipulating, and plotting histograms.\n",
    "\n",
    "See [hist.readthedocs.io](https://hist.readthedocs.io/) for tutorials and reference documentation.\n",
    "\n",
    "We'll use this to plot distributions."
   ]
  },
  {
   "cell_type": "markdown",
   "id": "aefc698f-7d50-490d-a1cf-8dcfdf5f9b9d",
   "metadata": {
    "slideshow": {
     "slide_type": "slide"
    },
    "tags": []
   },
   "source": [
    "# Next stop: lecture part 3"
   ]
  },
  {
   "cell_type": "markdown",
   "id": "09be7fe9-6212-4712-ba82-39fab536bc46",
   "metadata": {
    "slideshow": {
     "slide_type": "fragment"
    },
    "tags": []
   },
   "source": [
    "Go to [lecture-part-3.ipynb](lecture-part-3.ipynb) for the third notebook."
   ]
  }
 ],
 "metadata": {
  "kernelspec": {
   "display_name": "Python 3 (ipykernel)",
   "language": "python",
   "name": "python3"
  },
  "language_info": {
   "codemirror_mode": {
    "name": "ipython",
    "version": 3
   },
   "file_extension": ".py",
   "mimetype": "text/x-python",
   "name": "python",
   "nbconvert_exporter": "python",
   "pygments_lexer": "ipython3",
   "version": "3.10.0"
  }
 },
 "nbformat": 4,
 "nbformat_minor": 5
}
