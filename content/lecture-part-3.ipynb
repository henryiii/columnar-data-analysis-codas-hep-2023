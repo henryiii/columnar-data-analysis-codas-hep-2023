{
 "cells": [
  {
   "cell_type": "markdown",
   "id": "76987c2b-29f7-47dc-8393-47d278f48e67",
   "metadata": {
    "slideshow": {
     "slide_type": "slide"
    },
    "tags": []
   },
   "source": [
    "# CoDaS-HEP Columnar Data Analysis, part 3"
   ]
  },
  {
   "cell_type": "markdown",
   "id": "f7521a23-e6e7-433f-92e6-8263ee2b977f",
   "metadata": {
    "slideshow": {
     "slide_type": "fragment"
    },
    "tags": []
   },
   "source": [
    "This is the third of four notebooks on [columnar data analysis](https://indico.cern.ch/event/1287965/timetable/#41-columnar-data-analysis), presented at CoDaS-HEP at 13:30pm on July 20, 2023 by Jim Pivarski and Ioana Ifrim.\n",
    "\n",
    "See the [GitHub repo](https://github.com/ioanaif/columnar-data-analysis-codas-hep-2023) for instructions on how to run it."
   ]
  },
  {
   "cell_type": "markdown",
   "id": "7ca5ec8d-2d8f-414d-94d8-10a2657589c2",
   "metadata": {
    "slideshow": {
     "slide_type": "slide"
    },
    "tags": []
   },
   "source": [
    "## Project: H → ZZ → 4ℓ"
   ]
  },
  {
   "cell_type": "markdown",
   "id": "8e15980d-d334-4d90-b269-680a0cbb973c",
   "metadata": {
    "slideshow": {
     "slide_type": "fragment"
    },
    "tags": []
   },
   "source": [
    "In this exercise, we'll reconstruct Z masses and the Higgs mass from four leptons (4μ, 4e, 2μ2e)."
   ]
  },
  {
   "cell_type": "markdown",
   "id": "657faf88-b836-4207-b010-a48fbd51da6b",
   "metadata": {
    "slideshow": {
     "slide_type": "slide"
    },
    "tags": []
   },
   "source": [
    "### Getting the data"
   ]
  },
  {
   "cell_type": "code",
   "execution_count": null,
   "id": "23d19cbe-99eb-4f4f-bed0-1c34907110a5",
   "metadata": {
    "slideshow": {
     "slide_type": "fragment"
    },
    "tags": []
   },
   "outputs": [],
   "source": [
    "import numpy as np\n",
    "import matplotlib.pyplot as plt\n",
    "import hist"
   ]
  },
  {
   "cell_type": "code",
   "execution_count": null,
   "id": "8ad850f4-56db-4a56-b2a8-3dd13bdae2ac",
   "metadata": {
    "slideshow": {
     "slide_type": "fragment"
    },
    "tags": []
   },
   "outputs": [],
   "source": [
    "import awkward as ak\n",
    "import vector\n",
    "vector.register_awkward()"
   ]
  },
  {
   "cell_type": "code",
   "execution_count": null,
   "id": "d6fd0067-6e7a-42cd-9c35-6743872ea867",
   "metadata": {
    "slideshow": {
     "slide_type": "fragment"
    },
    "tags": []
   },
   "outputs": [],
   "source": [
    "raw_data = ak.from_parquet(\"data/SMHiggsToZZTo4L.parquet\")"
   ]
  },
  {
   "cell_type": "code",
   "execution_count": null,
   "id": "490100cc-11ab-4a21-b170-4680e60eddc3",
   "metadata": {
    "slideshow": {
     "slide_type": "slide"
    },
    "tags": []
   },
   "outputs": [],
   "source": [
    "raw_data.show()"
   ]
  },
  {
   "cell_type": "code",
   "execution_count": null,
   "id": "0e9aed7c-0274-4509-bd78-6f24a11252f7",
   "metadata": {
    "slideshow": {
     "slide_type": "slide"
    },
    "tags": []
   },
   "outputs": [],
   "source": [
    "raw_data.type.show()"
   ]
  },
  {
   "cell_type": "markdown",
   "id": "95c57dab-f513-447a-96eb-7f34a28a8efd",
   "metadata": {
    "slideshow": {
     "slide_type": "slide"
    },
    "tags": []
   },
   "source": [
    "### Reformatting for more object-oriented arrays"
   ]
  },
  {
   "cell_type": "markdown",
   "id": "7da07ac4-92c6-4f1a-95b3-cdc7faae851a",
   "metadata": {
    "slideshow": {
     "slide_type": "fragment"
    },
    "tags": []
   },
   "source": [
    "Vector requires arrays to be formatted with fields named `pt`, `phi`, `eta`, `mass` with name `\"Momentum4D\"`. [ak.zip](https://awkward-array.readthedocs.io/en/latest/_auto/ak.zip.html) can do that.\n",
    "\n",
    "They don't need `charge` or isolation variables, but having extra fields is not a problem."
   ]
  },
  {
   "cell_type": "code",
   "execution_count": null,
   "id": "0bbf97c8-04fe-4ca6-bc00-9ad5888a3d2d",
   "metadata": {
    "slideshow": {
     "slide_type": "fragment"
    },
    "tags": []
   },
   "outputs": [],
   "source": [
    "events = ak.zip({\n",
    "    \"PV\": ak.zip({\n",
    "        \"x\": raw_data[\"PV_x\"],\n",
    "        \"y\": raw_data[\"PV_y\"],\n",
    "        \"z\": raw_data[\"PV_z\"],\n",
    "    }, with_name=\"Vector3D\"),\n",
    "    \"muons\": ak.zip({\n",
    "        \"pt\": raw_data[\"Muon_pt\"],\n",
    "        \"phi\": raw_data[\"Muon_phi\"],\n",
    "        \"eta\": raw_data[\"Muon_eta\"],\n",
    "        \"mass\": raw_data[\"Muon_mass\"],\n",
    "        \"charge\": raw_data[\"Muon_charge\"],\n",
    "        \"pfRelIso03\": raw_data[\"Muon_pfRelIso03_all\"],\n",
    "        \"pfRelIso04\": raw_data[\"Muon_pfRelIso04_all\"],\n",
    "    }, with_name=\"Momentum4D\"),\n",
    "    \"electrons\": ak.zip({\n",
    "        \"pt\": raw_data[\"Electron_pt\"],\n",
    "        \"phi\": raw_data[\"Electron_phi\"],\n",
    "        \"eta\": raw_data[\"Electron_eta\"],\n",
    "        \"mass\": raw_data[\"Electron_mass\"],\n",
    "        \"charge\": raw_data[\"Electron_charge\"],\n",
    "        \"pfRelIso03\": raw_data[\"Electron_pfRelIso03_all\"],\n",
    "    }, with_name=\"Momentum4D\"),\n",
    "    \"MET\": ak.zip({\n",
    "        \"pt\": raw_data[\"MET_pt\"],\n",
    "        \"phi\": raw_data[\"MET_phi\"],\n",
    "    }, with_name=\"Momentum2D\"),\n",
    "}, depth_limit=1)\n",
    "\n",
    "events"
   ]
  },
  {
   "cell_type": "markdown",
   "id": "efaebd12-e329-4413-8a56-ffe79866c161",
   "metadata": {
    "slideshow": {
     "slide_type": "slide"
    },
    "tags": []
   },
   "source": [
    "### Vector calculations and plotting"
   ]
  },
  {
   "cell_type": "markdown",
   "id": "f0408f5f-9348-402d-b362-f69069088537",
   "metadata": {
    "slideshow": {
     "slide_type": "fragment"
    },
    "tags": []
   },
   "source": [
    "Since we have called `vector.register_awkward()` and named these records `\"Momentum4D\"`, they also have a momentum interpretation."
   ]
  },
  {
   "cell_type": "code",
   "execution_count": null,
   "id": "7cf30245-91be-4d26-ba66-d642cb4d937e",
   "metadata": {
    "slideshow": {
     "slide_type": "fragment"
    },
    "tags": []
   },
   "outputs": [],
   "source": [
    "events.electrons.pt   # this is one of the fields (returned as-is)"
   ]
  },
  {
   "cell_type": "code",
   "execution_count": null,
   "id": "a2c4a95e-23e8-46c3-813d-2cf34d167a0e",
   "metadata": {
    "slideshow": {
     "slide_type": "slide"
    },
    "tags": []
   },
   "outputs": [],
   "source": [
    "events.electrons.pz   # this is in a different coordinate system (computed)"
   ]
  },
  {
   "cell_type": "code",
   "execution_count": null,
   "id": "c01f2388-2444-4b24-9063-e71e6f89f7db",
   "metadata": {
    "slideshow": {
     "slide_type": "slide"
    },
    "tags": []
   },
   "outputs": [],
   "source": [
    "hist.Hist.new.Regular(100, 0, 0.2).Double().fill(ak.ravel(events.muons.mass)).plot();     # one of the fields"
   ]
  },
  {
   "cell_type": "code",
   "execution_count": null,
   "id": "ba4afe22-8a02-4087-8f4e-34ec912245d7",
   "metadata": {
    "slideshow": {
     "slide_type": "slide"
    },
    "tags": []
   },
   "outputs": [],
   "source": [
    "hist.Hist.new.Regular(100, 0, 300).Double().fill(ak.ravel(events.muons.energy)).plot();   # computed"
   ]
  },
  {
   "cell_type": "markdown",
   "id": "3415483c-e25f-46b2-be0d-565d654827c7",
   "metadata": {
    "slideshow": {
     "slide_type": "slide"
    },
    "tags": []
   },
   "source": [
    "Also added PV (primary vertexes) and MET (missing energy).\n",
    "\n",
    "The primary vertexes are geometric, not momentum, so you have to say `x` instead of `px`, `rho` instead of `pt`, etc."
   ]
  },
  {
   "cell_type": "code",
   "execution_count": null,
   "id": "fcf8a8c0-08d1-4237-aae2-e5aabd52caab",
   "metadata": {
    "slideshow": {
     "slide_type": "fragment"
    },
    "tags": []
   },
   "outputs": [],
   "source": [
    "events.MET.px, events.MET.py"
   ]
  },
  {
   "cell_type": "code",
   "execution_count": null,
   "id": "bad78144-6236-406d-8274-0b7b05c0104c",
   "metadata": {
    "slideshow": {
     "slide_type": "fragment"
    },
    "tags": []
   },
   "outputs": [],
   "source": [
    "events.PV.rho"
   ]
  },
  {
   "cell_type": "code",
   "execution_count": null,
   "id": "32f1722e-cce8-498f-9b17-132be4bb3f94",
   "metadata": {
    "slideshow": {
     "slide_type": "slide"
    },
    "tags": []
   },
   "outputs": [],
   "source": [
    "abs(events.PV)"
   ]
  },
  {
   "cell_type": "code",
   "execution_count": null,
   "id": "27e83ef4-3a96-4d6a-b224-47edbb537cf0",
   "metadata": {
    "slideshow": {
     "slide_type": "slide"
    },
    "tags": []
   },
   "outputs": [],
   "source": [
    "beamspot_x, beamspot_y, beamspot_z = ak.mean(events.PV.x), ak.mean(events.PV.y), ak.mean(events.PV.z)\n",
    "beamspot_x, beamspot_y, beamspot_z"
   ]
  },
  {
   "cell_type": "code",
   "execution_count": null,
   "id": "6999aa3f-060f-4caf-b739-24a99cf7d01b",
   "metadata": {
    "slideshow": {
     "slide_type": "fragment"
    },
    "tags": []
   },
   "outputs": [],
   "source": [
    "beamspot_PV = ak.zip({\n",
    "    \"x\": events.PV.x - beamspot_x,\n",
    "    \"y\": events.PV.y - beamspot_y,\n",
    "    \"z\": events.PV.z - beamspot_z,\n",
    "}, with_name=\"Vector3D\")\n",
    "beamspot_PV"
   ]
  },
  {
   "cell_type": "markdown",
   "id": "3a9d1e74-6dd6-4b97-97f3-cfb56e69813f",
   "metadata": {
    "slideshow": {
     "slide_type": "slide"
    },
    "tags": []
   },
   "source": [
    "You can add new columns to an existing array of records..."
   ]
  },
  {
   "cell_type": "code",
   "execution_count": null,
   "id": "8a28c847-121c-405d-86c1-53bd59fbd390",
   "metadata": {
    "slideshow": {
     "slide_type": "fragment"
    },
    "tags": []
   },
   "outputs": [],
   "source": [
    "events[\"beamspot_PV\"] = beamspot_PV"
   ]
  },
  {
   "cell_type": "code",
   "execution_count": null,
   "id": "4ff5adb3-d7b0-4d6b-a635-7ae83c7429ba",
   "metadata": {
    "slideshow": {
     "slide_type": "fragment"
    },
    "tags": []
   },
   "outputs": [],
   "source": [
    "events[0].tolist()"
   ]
  },
  {
   "cell_type": "markdown",
   "id": "fb644ff8-1b27-48a7-ae93-c6f4b91f03b3",
   "metadata": {
    "slideshow": {
     "slide_type": "slide"
    },
    "tags": []
   },
   "source": [
    "...but you usually don't have to.\n",
    "\n",
    "It would have been just as easy to work with `events` and `beamspot_PV` as separate Python variables.\n",
    "\n",
    "Unless you want to make sure that a cut is applied to each (and don't want to slice both `events` and `beamspot_PV` separately)."
   ]
  },
  {
   "cell_type": "code",
   "execution_count": null,
   "id": "311b5120-af91-4697-8281-070b19191904",
   "metadata": {
    "slideshow": {
     "slide_type": "fragment"
    },
    "tags": []
   },
   "outputs": [],
   "source": [
    "hist.Hist.new.Regular(100, 0, 0.03).Double().fill(beamspot_PV.rho).plot();"
   ]
  },
  {
   "cell_type": "code",
   "execution_count": null,
   "id": "8a710bf1-eb99-4cb5-9a49-42c9e53a4bb4",
   "metadata": {
    "slideshow": {
     "slide_type": "slide"
    },
    "tags": []
   },
   "outputs": [],
   "source": [
    "beamspot_PV.rho < 0.008"
   ]
  },
  {
   "cell_type": "code",
   "execution_count": null,
   "id": "9401bc7f-732b-4ed7-9029-3d512d524eb3",
   "metadata": {
    "slideshow": {
     "slide_type": "slide"
    },
    "tags": []
   },
   "outputs": [],
   "source": [
    "events[beamspot_PV.rho < 0.008]"
   ]
  },
  {
   "cell_type": "markdown",
   "id": "4ac89998-ad19-4ccb-824d-0030d725a22b",
   "metadata": {
    "slideshow": {
     "slide_type": "slide"
    },
    "tags": []
   },
   "source": [
    "The above selected all fields in `events`. With `events` and `beamspot_PV` as separate arrays, they'd have to both be sliced."
   ]
  },
  {
   "cell_type": "markdown",
   "id": "c7c89296-6bca-4108-8693-22b683836fcf",
   "metadata": {
    "slideshow": {
     "slide_type": "slide"
    },
    "tags": []
   },
   "source": [
    "### Combinatorics"
   ]
  },
  {
   "cell_type": "code",
   "execution_count": null,
   "id": "085fa196-9d79-4e44-8cb0-6eeaf7313054",
   "metadata": {
    "slideshow": {
     "slide_type": "slide"
    },
    "tags": []
   },
   "outputs": [],
   "source": [
    "events.muons"
   ]
  },
  {
   "cell_type": "markdown",
   "id": "842289a9-1808-4b2a-b514-2c4bbf84034d",
   "metadata": {
    "slideshow": {
     "slide_type": "slide"
    },
    "tags": []
   },
   "source": [
    "It's possible to use slices to pick the first and second muon of each event..."
   ]
  },
  {
   "cell_type": "code",
   "execution_count": null,
   "id": "d7262c51-fbc6-4092-917c-cd51d1b0c370",
   "metadata": {
    "slideshow": {
     "slide_type": "fragment"
    },
    "tags": [
     "raises-exception"
    ]
   },
   "outputs": [],
   "source": [
    "events.muons[:, 0]"
   ]
  },
  {
   "cell_type": "markdown",
   "id": "ffc7b87d-c7fa-4d82-ae9b-e455b4070ea1",
   "metadata": {
    "slideshow": {
     "slide_type": "slide"
    },
    "tags": []
   },
   "source": [
    "...but only after ensuring that the events _have_ 2 muons (using [ak.num](https://awkward-array.readthedocs.io/en/latest/_auto/ak.num.html))."
   ]
  },
  {
   "cell_type": "code",
   "execution_count": null,
   "id": "51809056-0594-433e-917c-7675cb6e0120",
   "metadata": {
    "slideshow": {
     "slide_type": "fragment"
    },
    "tags": []
   },
   "outputs": [],
   "source": [
    "ak.num(events.muons)"
   ]
  },
  {
   "cell_type": "code",
   "execution_count": null,
   "id": "3670c927-cc33-4ea5-9322-278ca534d8e1",
   "metadata": {
    "slideshow": {
     "slide_type": "fragment"
    },
    "tags": []
   },
   "outputs": [],
   "source": [
    "ak.num(events.muons) >= 2"
   ]
  },
  {
   "cell_type": "code",
   "execution_count": null,
   "id": "8898cb95-97c7-44d2-9a00-5b40daaaef6e",
   "metadata": {
    "slideshow": {
     "slide_type": "slide"
    },
    "tags": []
   },
   "outputs": [],
   "source": [
    "events[ak.num(events.muons) >= 2]"
   ]
  },
  {
   "cell_type": "code",
   "execution_count": null,
   "id": "36dac661-2c16-4194-9534-03860b644408",
   "metadata": {
    "slideshow": {
     "slide_type": "slide"
    },
    "tags": []
   },
   "outputs": [],
   "source": [
    "events[ak.num(events.muons) >= 2].muons[:, 0]"
   ]
  },
  {
   "cell_type": "markdown",
   "id": "22d1cca0-fb41-413f-a997-e31b43b3d091",
   "metadata": {
    "slideshow": {
     "slide_type": "slide"
    },
    "tags": []
   },
   "source": [
    "The following is equivalent, doing the selection for at least two muons and the selection for the first muon in a single slice."
   ]
  },
  {
   "cell_type": "code",
   "execution_count": null,
   "id": "dc5d896d-d20e-4734-ab89-a088836d9f1a",
   "metadata": {
    "slideshow": {
     "slide_type": "fragment"
    },
    "tags": []
   },
   "outputs": [],
   "source": [
    "events.muons[ak.num(events.muons) >= 2, 0]"
   ]
  },
  {
   "cell_type": "code",
   "execution_count": null,
   "id": "aad7519f-3eaa-468d-8881-aa03f50b21d2",
   "metadata": {
    "slideshow": {
     "slide_type": "slide"
    },
    "tags": []
   },
   "outputs": [],
   "source": [
    "first_muons, second_muons = (\n",
    "    events.muons[ak.num(events.muons) >= 2, 0],\n",
    "    events.muons[ak.num(events.muons) >= 2, 1],\n",
    ")"
   ]
  },
  {
   "cell_type": "code",
   "execution_count": null,
   "id": "e5ae2379-324e-47e5-aa1d-c5534192aaf4",
   "metadata": {
    "slideshow": {
     "slide_type": "slide"
    },
    "tags": []
   },
   "outputs": [],
   "source": [
    "first_muons + second_muons"
   ]
  },
  {
   "cell_type": "code",
   "execution_count": null,
   "id": "9a09db8f-9834-41b8-8ce4-544a35301d04",
   "metadata": {
    "slideshow": {
     "slide_type": "slide"
    },
    "tags": []
   },
   "outputs": [],
   "source": [
    "(first_muons + second_muons).mass"
   ]
  },
  {
   "cell_type": "code",
   "execution_count": null,
   "id": "a32a3381-da8a-4399-a63a-cb4aa33da821",
   "metadata": {
    "slideshow": {
     "slide_type": "slide"
    },
    "tags": []
   },
   "outputs": [],
   "source": [
    "hist.Hist.new.Regular(100, 0, 150).Double().fill((first_muons + second_muons).mass).plot();"
   ]
  },
  {
   "cell_type": "markdown",
   "id": "525af142-6680-4ff0-9d9d-91cf2213cf5b",
   "metadata": {
    "slideshow": {
     "slide_type": "slide"
    },
    "tags": []
   },
   "source": [
    "Although we see a nice Z peak, there are a couple of problems with what we did so far.\n",
    "\n",
    "   * You have to keep track of which arrays you've required to have two muons and which you haven't. If you try to do calculations with an array that has been cut and another array that hasn't been cut (or has been cut differently), they won't align and you'll get an error.\n",
    "   * The first and second muons in the list aren't necessarily daughters of the same Z.\n",
    "\n",
    "You'll want to compute combinations within the collections, separately for each event.\n",
    "\n",
    "<br><br>\n",
    "\n",
    "Awkward Array has two combinatorial primitives:\n",
    "\n",
    "<table style=\"margin-left: 0px\">\n",
    "    <tr style=\"background: white\"><td style=\"font-size: 1.75em; font-weight: bold; text-align: center\"><a href=\"https://awkward-array.readthedocs.io/en/latest/_auto/ak.cartesian.html\">ak.cartesian</a></td><td style=\"font-size: 1.75em; font-weight: bold; text-align: center\"><a href=\\\"https://awkward-array.readthedocs.io/en/latest/_auto/ak.combinations.html\\\">ak.combinations</a></td></tr>\n",
    "    <tr style=\"background: white\"><td><img src=\"img/cartoon-cartesian.svg\" width=\"300\"></td><td><img src=\"img/cartoon-combinations.svg\" width=\"300\"></td></tr>\n",
    "</table>"
   ]
  },
  {
   "cell_type": "code",
   "execution_count": null,
   "id": "012decc2-6bd5-4e37-9b76-f2750e57afdf",
   "metadata": {
    "slideshow": {
     "slide_type": "slide"
    },
    "tags": []
   },
   "outputs": [],
   "source": [
    "ak.cartesian(([[1, 2, 3], [], [4]], [[\"a\", \"b\"], [\"c\"], [\"d\", \"e\"]])).tolist()"
   ]
  },
  {
   "cell_type": "code",
   "execution_count": null,
   "id": "45d89827-a1e1-4f6b-9db3-42b1c7bac57f",
   "metadata": {
    "slideshow": {
     "slide_type": "slide"
    },
    "tags": []
   },
   "outputs": [],
   "source": [
    "ak.combinations([[1.1, 2.2, 3.3, 4.4], [], [5.5, 6.6]], 2).tolist()"
   ]
  },
  {
   "cell_type": "markdown",
   "id": "c32277e2-737e-4bce-a1be-a2307b5f4ad3",
   "metadata": {
    "slideshow": {
     "slide_type": "slide"
    },
    "tags": []
   },
   "source": [
    "<br><br>\n",
    "\n",
    "Note the data type of what this creates: tuples (_not lists_) of the left and right of each pairing."
   ]
  },
  {
   "cell_type": "code",
   "execution_count": null,
   "id": "c3e105ae-ae18-45a6-8028-1cd06a0ff0dd",
   "metadata": {
    "slideshow": {
     "slide_type": "fragment"
    },
    "tags": []
   },
   "outputs": [],
   "source": [
    "print(ak.cartesian(([[1, 2, 3], [], [4]], [[\"a\", \"b\"], [\"c\"], [\"d\", \"e\"]])).type)"
   ]
  },
  {
   "cell_type": "code",
   "execution_count": null,
   "id": "16e3dffd-d46e-45fe-b33e-e2416e68ce19",
   "metadata": {
    "slideshow": {
     "slide_type": "fragment"
    },
    "tags": []
   },
   "outputs": [],
   "source": [
    "print(ak.combinations([[1.1, 2.2, 3.3, 4.4], [], [5.5, 6.6]], 2).type)"
   ]
  },
  {
   "cell_type": "markdown",
   "id": "a4afba7d-0e13-435a-82b0-914250b6baa2",
   "metadata": {
    "slideshow": {
     "slide_type": "slide"
    },
    "tags": []
   },
   "source": [
    "<br><br>\n",
    "\n",
    "There is a different number of combinations than there are of objects in the original lists.\n",
    "\n",
    "It's often useful to get all the lefts of each tuple into one array and all the rights of each tuple into another array (with [ak.unzip](https://awkward-array.readthedocs.io/en/latest/_auto/ak.unzip.html) or slicing with `\"0\"` and `\"1\"`)."
   ]
  },
  {
   "cell_type": "code",
   "execution_count": null,
   "id": "c2d1244d-41d9-410e-baa6-8c490024aa5c",
   "metadata": {
    "slideshow": {
     "slide_type": "fragment"
    },
    "tags": []
   },
   "outputs": [],
   "source": [
    "lefts, rights = ak.unzip(ak.cartesian(([[1, 2, 3], [], [4]], [[\"a\", \"b\"], [\"c\"], [\"d\", \"e\"]])))"
   ]
  },
  {
   "cell_type": "code",
   "execution_count": null,
   "id": "27f99920-0016-4816-8a3a-6dddcb05c3b0",
   "metadata": {
    "slideshow": {
     "slide_type": "fragment"
    },
    "tags": []
   },
   "outputs": [],
   "source": [
    "lefts"
   ]
  },
  {
   "cell_type": "code",
   "execution_count": null,
   "id": "0f5ee400-3df8-4a70-a67f-c7e169060356",
   "metadata": {
    "slideshow": {
     "slide_type": "fragment"
    },
    "tags": []
   },
   "outputs": [],
   "source": [
    "rights"
   ]
  },
  {
   "cell_type": "code",
   "execution_count": null,
   "id": "8ca64305-4797-41b7-a296-dee906dfcd86",
   "metadata": {
    "slideshow": {
     "slide_type": "fragment"
    },
    "tags": []
   },
   "outputs": [],
   "source": [
    "ak.num(lefts), ak.num(rights)"
   ]
  },
  {
   "cell_type": "markdown",
   "id": "69f2dc5d-c4fa-4320-9c64-3f153aeaedd5",
   "metadata": {},
   "source": [
    "<br>"
   ]
  },
  {
   "cell_type": "code",
   "execution_count": null,
   "id": "7936513f-fd55-4fc9-8697-ddeb060ace3d",
   "metadata": {
    "slideshow": {
     "slide_type": "slide"
    },
    "tags": []
   },
   "outputs": [],
   "source": [
    "pairs = ak.combinations([[1.1, 2.2, 3.3, 4.4], [], [5.5, 6.6]], 2)"
   ]
  },
  {
   "cell_type": "code",
   "execution_count": null,
   "id": "2e3d0a7f-9801-4eee-ab5b-b140f025ba66",
   "metadata": {
    "slideshow": {
     "slide_type": "fragment"
    },
    "tags": []
   },
   "outputs": [],
   "source": [
    "pairs[\"0\"]   # NOT pairs[0], the string \"0\" is the NAME of the first tuple field"
   ]
  },
  {
   "cell_type": "code",
   "execution_count": null,
   "id": "52eebe7b-6220-4a0b-89ce-eff2044f4e8c",
   "metadata": {
    "slideshow": {
     "slide_type": "fragment"
    },
    "tags": []
   },
   "outputs": [],
   "source": [
    "pairs[\"1\"]"
   ]
  },
  {
   "cell_type": "code",
   "execution_count": null,
   "id": "bdab6a3f-22fe-4b11-872b-de5019acb442",
   "metadata": {
    "slideshow": {
     "slide_type": "fragment"
    },
    "tags": []
   },
   "outputs": [],
   "source": [
    "ak.num(pairs[\"0\"]), ak.num(pairs[\"1\"])"
   ]
  },
  {
   "cell_type": "markdown",
   "id": "f0764042-7efb-4de2-b68d-130f0ee47371",
   "metadata": {},
   "source": [
    "<br><br><br><br><br>"
   ]
  },
  {
   "cell_type": "markdown",
   "id": "540e1593-c2ee-443a-9c25-45ffa3f0b23c",
   "metadata": {
    "slideshow": {
     "slide_type": "slide"
    },
    "tags": []
   },
   "source": [
    "And so..."
   ]
  },
  {
   "cell_type": "code",
   "execution_count": null,
   "id": "8206ed7b-4b6f-49b6-a534-d2a76cd7b5d7",
   "metadata": {
    "slideshow": {
     "slide_type": "fragment"
    },
    "tags": []
   },
   "outputs": [],
   "source": [
    "mu1, mu2 = ak.unzip(ak.combinations(events.muons, 2))\n",
    "hist.Hist.new.Regular(100, 0, 150).Double().fill(ak.ravel((mu1 + mu2).mass)).plot();"
   ]
  },
  {
   "cell_type": "markdown",
   "id": "4f3125af-4dc3-4762-8ef2-d0f365bd89fc",
   "metadata": {
    "slideshow": {
     "slide_type": "fragment"
    },
    "tags": []
   },
   "source": [
    "In the above, we're looking at all combinations of 2 muons in H → ZZ → 4μ, 4e, or 2μ2e.\n",
    "\n",
    "Some of these combinations even have the wrong charges."
   ]
  },
  {
   "cell_type": "code",
   "execution_count": null,
   "id": "14bf45f5-ee92-4bd0-a9f8-d99f2a2a0b77",
   "metadata": {
    "slideshow": {
     "slide_type": "slide"
    },
    "tags": []
   },
   "outputs": [],
   "source": [
    "mu1.charge + mu2.charge"
   ]
  },
  {
   "cell_type": "code",
   "execution_count": null,
   "id": "7e298aec-adbf-45e2-91d5-6a1745e53916",
   "metadata": {
    "slideshow": {
     "slide_type": "slide"
    },
    "tags": []
   },
   "outputs": [],
   "source": [
    "hist.Hist.new.Regular(100, 0, 150).Double().fill(ak.ravel((mu1 + mu2)[mu1.charge + mu2.charge == 0].mass)).plot();"
   ]
  },
  {
   "cell_type": "markdown",
   "id": "5704a52f-e498-4949-aeba-5bd7b7f59444",
   "metadata": {
    "slideshow": {
     "slide_type": "fragment"
    },
    "tags": []
   },
   "source": [
    "In the above, we're only looking at μ⁺μ⁻, but some of those pairs have a μ⁺ from one Z and a μ⁻ from the other Z.\n",
    "\n",
    "That wouldn't happen in the 2μ2e final state."
   ]
  },
  {
   "cell_type": "code",
   "execution_count": null,
   "id": "d3de8d42-4558-403f-a71d-86b96281d864",
   "metadata": {
    "slideshow": {
     "slide_type": "slide"
    },
    "tags": []
   },
   "outputs": [],
   "source": [
    "event_selection = ak.num(events.electrons) >= 2\n",
    "event_selection"
   ]
  },
  {
   "cell_type": "code",
   "execution_count": null,
   "id": "244b3c57-be32-43a8-805d-da1abf4306cf",
   "metadata": {
    "slideshow": {
     "slide_type": "slide"
    },
    "tags": []
   },
   "outputs": [],
   "source": [
    "candidate_selection = mu1[event_selection].charge + mu2[event_selection].charge == 0\n",
    "candidate_selection"
   ]
  },
  {
   "cell_type": "code",
   "execution_count": null,
   "id": "48ac09e5-38b4-492f-b164-c3f1a8ccc141",
   "metadata": {
    "slideshow": {
     "slide_type": "slide"
    },
    "tags": []
   },
   "outputs": [],
   "source": [
    "mumu_candidates_in_2mu2e = (mu1[event_selection] + mu2[event_selection])[candidate_selection]\n",
    "\n",
    "hist.Hist.new.Regular(100, 0, 150).Double().fill(ak.ravel(mumu_candidates_in_2mu2e.mass)).plot();"
   ]
  },
  {
   "cell_type": "markdown",
   "id": "5a101997-8bda-4f3f-a993-f08e0f0a01b9",
   "metadata": {
    "slideshow": {
     "slide_type": "fragment"
    },
    "tags": []
   },
   "source": [
    "There are still some non-Z muon pairs in this sample, but maybe isolation or a minimum $p_T$ would clean that up."
   ]
  },
  {
   "cell_type": "markdown",
   "id": "854e7a1b-734a-49a8-ad33-dd27b726a22a",
   "metadata": {
    "slideshow": {
     "slide_type": "slide"
    },
    "tags": []
   },
   "source": [
    "# Next stop: the hands-on project"
   ]
  },
  {
   "cell_type": "markdown",
   "id": "68c22124-b0d6-4ba9-847d-995ff7a31319",
   "metadata": {
    "slideshow": {
     "slide_type": "fragment"
    },
    "tags": []
   },
   "source": [
    "Go to [project-workbook.ipynb](project-workbook.ipynb) for the hands-on project."
   ]
  }
 ],
 "metadata": {
  "kernelspec": {
   "display_name": "Python 3 (ipykernel)",
   "language": "python",
   "name": "python3"
  },
  "language_info": {
   "codemirror_mode": {
    "name": "ipython",
    "version": 3
   },
   "file_extension": ".py",
   "mimetype": "text/x-python",
   "name": "python",
   "nbconvert_exporter": "python",
   "pygments_lexer": "ipython3",
   "version": "3.10.0"
  }
 },
 "nbformat": 4,
 "nbformat_minor": 5
}
