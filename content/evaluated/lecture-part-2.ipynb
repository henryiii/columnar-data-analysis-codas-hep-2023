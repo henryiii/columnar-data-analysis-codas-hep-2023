{
 "cells": [
  {
   "cell_type": "markdown",
   "id": "0ae7471a-6bf1-44fd-951f-e2b7495e7b85",
   "metadata": {},
   "source": [
    "# CoDaS-HEP Columnar Data Analysis, part 2"
   ]
  },
  {
   "cell_type": "markdown",
   "id": "89f1b028-5e84-45df-9f0e-0ea18ebcd464",
   "metadata": {},
   "source": [
    "This is the second of four notebooks on [columnar data analysis](https://indico.cern.ch/event/1287965/timetable/#41-columnar-data-analysis), presented at CoDaS-HEP at 13:30pm on July 20, 2023 by Jim Pivarski and Ioana Ifrim.\n",
    "\n",
    "See the [GitHub repo](https://github.com/ioanaif/columnar-data-analysis-codas-hep-2023) for instructions on how to run it."
   ]
  },
  {
   "cell_type": "markdown",
   "id": "8e68bf1c-46eb-4558-b1c2-76d26bc3b377",
   "metadata": {},
   "source": [
    "<br><br><br><br><br>"
   ]
  },
  {
   "cell_type": "markdown",
   "id": "ae02b208-8568-4478-987c-4491278694cd",
   "metadata": {},
   "source": [
    "## From ROOT files into arrays"
   ]
  },
  {
   "cell_type": "markdown",
   "id": "c253d4ea-ac4a-42cc-b705-22c4a717906c",
   "metadata": {},
   "source": [
    "Physics data are in ROOT files. For columnar analysis, we'll need to get the data into arrays."
   ]
  },
  {
   "cell_type": "code",
   "execution_count": 1,
   "id": "598d6057-d966-43be-a7d0-c8613d64d845",
   "metadata": {},
   "outputs": [
    {
     "name": "stdout",
     "output_type": "stream",
     "text": [
      "Welcome to JupyROOT 6.28/00\n"
     ]
    }
   ],
   "source": [
    "import ROOT"
   ]
  },
  {
   "cell_type": "code",
   "execution_count": 2,
   "id": "de7a701e-c9c1-4d90-9d2f-83e2c9dc1a4e",
   "metadata": {},
   "outputs": [],
   "source": [
    "rdf = ROOT.RDataFrame(\"Events\", \"../data/SMHiggsToZZTo4L.root\")"
   ]
  },
  {
   "cell_type": "code",
   "execution_count": 3,
   "id": "b5fce7c1-e7dc-440c-a7e1-d5399667ae89",
   "metadata": {},
   "outputs": [
    {
     "data": {
      "text/plain": [
       "{'MET_pt': ndarray([21.92993 , 16.972134, 19.061464, ..., 17.671701, 23.999083,\n",
       "          12.943779], dtype=float32),\n",
       " 'MET_phi': ndarray([-2.7301223,  2.8669462, -2.1664631, ...,  1.8889483, -1.973488 ,\n",
       "           1.6512431], dtype=float32)}"
      ]
     },
     "execution_count": 3,
     "metadata": {},
     "output_type": "execute_result"
    }
   ],
   "source": [
    "rdf.AsNumpy([\"MET_pt\", \"MET_phi\"])"
   ]
  },
  {
   "cell_type": "markdown",
   "id": "913cc905-bed9-4f76-9b64-4da460bff346",
   "metadata": {},
   "source": [
    "<br><br><br><br><br>\n",
    "\n",
    "But for variable-length data, such as particle quantities in events with arbitrarily many particles, the NumPy array has `dtype=object`."
   ]
  },
  {
   "cell_type": "code",
   "execution_count": 4,
   "id": "24a55d5b-36e9-4f85-b35e-e8cd75141643",
   "metadata": {},
   "outputs": [
    {
     "data": {
      "text/plain": [
       "{'Muon_pt': ndarray([<cppyy.gbl.ROOT.VecOps.RVec<float> object at 0x7fd2e4b00000>,\n",
       "          <cppyy.gbl.ROOT.VecOps.RVec<float> object at 0x7fd2e4b00040>,\n",
       "          <cppyy.gbl.ROOT.VecOps.RVec<float> object at 0x7fd2e4b00080>,\n",
       "          ...,\n",
       "          <cppyy.gbl.ROOT.VecOps.RVec<float> object at 0x7fd2e5d4f080>,\n",
       "          <cppyy.gbl.ROOT.VecOps.RVec<float> object at 0x7fd2e5d4f0c0>,\n",
       "          <cppyy.gbl.ROOT.VecOps.RVec<float> object at 0x7fd2e5d4f100>],\n",
       "         dtype=object),\n",
       " 'Muon_phi': ndarray([<cppyy.gbl.ROOT.VecOps.RVec<float> object at 0x7fd333000000>,\n",
       "          <cppyy.gbl.ROOT.VecOps.RVec<float> object at 0x7fd333000040>,\n",
       "          <cppyy.gbl.ROOT.VecOps.RVec<float> object at 0x7fd333000080>,\n",
       "          ...,\n",
       "          <cppyy.gbl.ROOT.VecOps.RVec<float> object at 0x7fd33424f080>,\n",
       "          <cppyy.gbl.ROOT.VecOps.RVec<float> object at 0x7fd33424f0c0>,\n",
       "          <cppyy.gbl.ROOT.VecOps.RVec<float> object at 0x7fd33424f100>],\n",
       "         dtype=object)}"
      ]
     },
     "execution_count": 4,
     "metadata": {},
     "output_type": "execute_result"
    }
   ],
   "source": [
    "muon_quantities = rdf.AsNumpy([\"Muon_pt\", \"Muon_phi\"])\n",
    "muon_quantities"
   ]
  },
  {
   "cell_type": "markdown",
   "id": "98c0ff08-b1ca-470d-aa6e-6dafcea014ea",
   "metadata": {},
   "source": [
    "<br><br><br><br><br>\n",
    "\n",
    "NumPy `dtype=object` arrays are essentially lists: every element is a Python object and NumPy does not know the internal structure.\n",
    "\n",
    "On the one hand, this limits speed of calculation (notice the units):"
   ]
  },
  {
   "cell_type": "code",
   "execution_count": 5,
   "id": "5a5319b0-f731-464e-8d4a-a66e3c651005",
   "metadata": {},
   "outputs": [],
   "source": [
    "import numpy as np\n",
    "\n",
    "numeric_array = np.arange(500000, dtype=np.int64)\n",
    "python_objects = np.array(range(500000), dtype=object)"
   ]
  },
  {
   "cell_type": "code",
   "execution_count": 6,
   "id": "4b34815a-235a-4936-a0d4-d0675a58e39a",
   "metadata": {},
   "outputs": [
    {
     "name": "stdout",
     "output_type": "stream",
     "text": [
      "140 µs ± 1.38 µs per loop (mean ± std. dev. of 7 runs, 10,000 loops each)\n"
     ]
    }
   ],
   "source": [
    "%%timeit\n",
    "\n",
    "numeric_array**2"
   ]
  },
  {
   "cell_type": "code",
   "execution_count": 7,
   "id": "47404116-9eff-4c61-8633-f437a8fad4ae",
   "metadata": {},
   "outputs": [
    {
     "name": "stdout",
     "output_type": "stream",
     "text": [
      "101 ms ± 333 µs per loop (mean ± std. dev. of 7 runs, 10 loops each)\n"
     ]
    }
   ],
   "source": [
    "%%timeit\n",
    "\n",
    "python_objects**2"
   ]
  },
  {
   "cell_type": "markdown",
   "id": "eb4ef5af-7697-4347-9f95-677f2a089c4f",
   "metadata": {},
   "source": [
    "And on the other hand, it limits expressiveness:"
   ]
  },
  {
   "cell_type": "code",
   "execution_count": 8,
   "id": "99eed7c7-f024-4c56-a5ea-88072e37fab1",
   "metadata": {},
   "outputs": [],
   "source": [
    "numeric_array = np.empty((2, 2, 3), dtype=np.int64)\n",
    "python_objects = np.empty(2, dtype=object)\n",
    "\n",
    "numeric_array[:] = [[[1, 2, 3], [4, 5, 6]], [[10, 20, 30], [40, 50, 60]]]\n",
    "python_objects[:] = [[[1, 2, 3], [4, 5, 6]], [[10, 20, 30], [40, 50, 60]]]"
   ]
  },
  {
   "cell_type": "code",
   "execution_count": 9,
   "id": "c16b9d30-c596-4307-93f4-75a15090ea99",
   "metadata": {},
   "outputs": [
    {
     "data": {
      "text/plain": [
       "array([[[ 2,  3],\n",
       "        [ 5,  6]],\n",
       "\n",
       "       [[20, 30],\n",
       "        [50, 60]]])"
      ]
     },
     "execution_count": 9,
     "metadata": {},
     "output_type": "execute_result"
    }
   ],
   "source": [
    "numeric_array[:, :, 1:]    # drop first element from innermost dimension"
   ]
  },
  {
   "cell_type": "code",
   "execution_count": 10,
   "id": "a06f93d2-99b5-47bf-bb49-be06849ed1f9",
   "metadata": {
    "tags": [
     "raises-exception"
    ]
   },
   "outputs": [
    {
     "ename": "IndexError",
     "evalue": "too many indices for array: array is 1-dimensional, but 3 were indexed",
     "output_type": "error",
     "traceback": [
      "\u001b[0;31m---------------------------------------------------------------------------\u001b[0m",
      "\u001b[0;31mIndexError\u001b[0m                                Traceback (most recent call last)",
      "Cell \u001b[0;32mIn[10], line 1\u001b[0m\n\u001b[0;32m----> 1\u001b[0m \u001b[43mpython_objects\u001b[49m\u001b[43m[\u001b[49m\u001b[43m:\u001b[49m\u001b[43m,\u001b[49m\u001b[43m \u001b[49m\u001b[43m:\u001b[49m\u001b[43m,\u001b[49m\u001b[43m \u001b[49m\u001b[38;5;241;43m1\u001b[39;49m\u001b[43m:\u001b[49m\u001b[43m]\u001b[49m   \u001b[38;5;66;03m# can't manipulate anything past the first dimension\u001b[39;00m\n",
      "\u001b[0;31mIndexError\u001b[0m: too many indices for array: array is 1-dimensional, but 3 were indexed"
     ]
    }
   ],
   "source": [
    "python_objects[:, :, 1:]   # can't manipulate anything past the first dimension"
   ]
  },
  {
   "cell_type": "markdown",
   "id": "3b52c502-af5e-49a6-828d-4540b19ef676",
   "metadata": {},
   "source": [
    "<br><br><br><br><br>"
   ]
  },
  {
   "cell_type": "markdown",
   "id": "ead9c5a5-0e5f-425e-8243-dbbd50b7e7fa",
   "metadata": {},
   "source": [
    "Thus, to compute $p_x$ and $p_y$ from muon $p_T$ and $\\phi$ in Python, we'd have to drop down into imperative or list comprehensions (functional):"
   ]
  },
  {
   "cell_type": "code",
   "execution_count": 11,
   "id": "335097f9-0259-4c0b-b863-390993dbaa0e",
   "metadata": {},
   "outputs": [
    {
     "data": {
      "text/plain": [
       "(array([list([-62.09642131826239, 19.5441283607252, 2.05475040026448]),\n",
       "        list([]), list([]), ...,\n",
       "        list([2.3748022786066803, 3.9543648339704807, 3.018615575574287, 2.254885007906879]),\n",
       "        list([]), list([])], dtype=object),\n",
       " array([list([10.888704252275756, -32.729005959017954, 3.4885342087314886]),\n",
       "        list([]), list([]), ...,\n",
       "        list([3.6040879736688813, 1.8335333778519878, 4.755512408592984, 4.181554816344941]),\n",
       "        list([]), list([])], dtype=object))"
      ]
     },
     "execution_count": 11,
     "metadata": {},
     "output_type": "execute_result"
    }
   ],
   "source": [
    "all_pt, all_phi = muon_quantities[\"Muon_pt\"], muon_quantities[\"Muon_phi\"]\n",
    "\n",
    "all_px = np.array([[pt * np.cos(phi) for pt, phi in zip(event_pt, event_phi)] for event_pt, event_phi in zip(all_pt, all_phi)], dtype=object)\n",
    "all_py = np.array([[pt * np.sin(phi) for pt, phi in zip(event_pt, event_phi)] for event_pt, event_phi in zip(all_pt, all_phi)], dtype=object)\n",
    "\n",
    "all_px, all_py"
   ]
  },
  {
   "cell_type": "markdown",
   "id": "e5a8d14d-8244-458d-accf-80a76888469a",
   "metadata": {},
   "source": [
    "<br><br><br><br><br>"
   ]
  },
  {
   "cell_type": "markdown",
   "id": "b56c2e9d-966f-4949-b99c-f28cbd5042c3",
   "metadata": {},
   "source": [
    "However, if we instead read the file with Uproot (to be described later),"
   ]
  },
  {
   "cell_type": "code",
   "execution_count": 12,
   "id": "6f938fd1-09e0-48d3-8b4d-74ebef259a9a",
   "metadata": {},
   "outputs": [],
   "source": [
    "import uproot"
   ]
  },
  {
   "cell_type": "code",
   "execution_count": 13,
   "id": "6c2b9558-869c-4eae-b83b-5f395879cb7b",
   "metadata": {},
   "outputs": [
    {
     "name": "stdout",
     "output_type": "stream",
     "text": [
      "[{Muon_pt: [63, 38.1, 4.05], Muon_phi: [2.97, ..., 1.04]},\n",
      " {Muon_pt: [], Muon_phi: []},\n",
      " {Muon_pt: [], Muon_phi: []},\n",
      " {Muon_pt: [54.3, 23.5, ..., 8.39, 3.49], Muon_phi: [...]},\n",
      " {Muon_pt: [], Muon_phi: []},\n",
      " {Muon_pt: [38.5, 47], Muon_phi: [2.05, -1.15]},\n",
      " {Muon_pt: [4.45], Muon_phi: [1.12]},\n",
      " {Muon_pt: [], Muon_phi: []},\n",
      " {Muon_pt: [], Muon_phi: []},\n",
      " {Muon_pt: [], Muon_phi: []},\n",
      " ...,\n",
      " {Muon_pt: [37.2, 50.1], Muon_phi: [-0.875, 2.65]},\n",
      " {Muon_pt: [43.2, 24], Muon_phi: [-1.3, 1.38]},\n",
      " {Muon_pt: [24.2, 79.5], Muon_phi: [-0.997, 2.51]},\n",
      " {Muon_pt: [], Muon_phi: []},\n",
      " {Muon_pt: [9.81, 25.5], Muon_phi: [1.66, -3.09]},\n",
      " {Muon_pt: [32.6, 43.1], Muon_phi: [-0.981, 2.27]},\n",
      " {Muon_pt: [4.32, 4.36, 5.63, 4.75], Muon_phi: [0.988, ...]},\n",
      " {Muon_pt: [], Muon_phi: []},\n",
      " {Muon_pt: [], Muon_phi: []}]\n"
     ]
    }
   ],
   "source": [
    "with uproot.open(\"../data/SMHiggsToZZTo4L.root:Events\") as events:\n",
    "    muon_quantities2 = events.arrays([\"Muon_pt\", \"Muon_phi\"])\n",
    "\n",
    "muon_quantities2.show()"
   ]
  },
  {
   "cell_type": "markdown",
   "id": "af426787-7df7-4275-ae34-3ab0987a2f96",
   "metadata": {},
   "source": [
    "Operations on these Awkward Arrays (to be described later) can be expressed in an array-oriented way:"
   ]
  },
  {
   "cell_type": "code",
   "execution_count": 14,
   "id": "2c7526bb-897d-434f-a113-44bb819465c8",
   "metadata": {},
   "outputs": [
    {
     "data": {
      "text/plain": [
       "(<Array [[-62.1, 19.5, 2.05], [], [], ..., [], []] type='299973 * var * float32'>,\n",
       " <Array [[10.9, -32.7, 3.49], [], [], ..., [], []] type='299973 * var * float32'>)"
      ]
     },
     "execution_count": 14,
     "metadata": {},
     "output_type": "execute_result"
    }
   ],
   "source": [
    "all_pt, all_phi = muon_quantities2[\"Muon_pt\"], muon_quantities2[\"Muon_phi\"]\n",
    "\n",
    "all_px = all_pt * np.cos(all_phi)\n",
    "all_py = all_pt * np.sin(all_phi)\n",
    "\n",
    "all_px, all_py"
   ]
  },
  {
   "cell_type": "markdown",
   "id": "52584395-8c4b-4e67-b254-fb8f1f9517ce",
   "metadata": {},
   "source": [
    "<br><br><br><br><br>"
   ]
  },
  {
   "cell_type": "markdown",
   "id": "5bb30888-236b-4db6-970a-d6ce07efd909",
   "metadata": {},
   "source": [
    "To be fair, that's not how RDataFrame is _supposed_ to be used: it's a functional programming framework that takes functions as strings of C++ code (which it compiles).\n",
    "\n",
    "The `ROOT::VecOps` library presents an array-oriented style _per event_."
   ]
  },
  {
   "cell_type": "code",
   "execution_count": 15,
   "id": "42ec6003-4e32-4f67-b519-3fd0db9742e8",
   "metadata": {},
   "outputs": [
    {
     "data": {
      "text/plain": [
       "{'px': ndarray([<cppyy.gbl.ROOT.VecOps.RVec<float> object at 0x7fd2c1800000>,\n",
       "          <cppyy.gbl.ROOT.VecOps.RVec<float> object at 0x7fd2c1800040>,\n",
       "          <cppyy.gbl.ROOT.VecOps.RVec<float> object at 0x7fd2c1800080>,\n",
       "          ...,\n",
       "          <cppyy.gbl.ROOT.VecOps.RVec<float> object at 0x7fd2c2a4f080>,\n",
       "          <cppyy.gbl.ROOT.VecOps.RVec<float> object at 0x7fd2c2a4f0c0>,\n",
       "          <cppyy.gbl.ROOT.VecOps.RVec<float> object at 0x7fd2c2a4f100>],\n",
       "         dtype=object),\n",
       " 'py': ndarray([<cppyy.gbl.ROOT.VecOps.RVec<float> object at 0x7fd2c3800000>,\n",
       "          <cppyy.gbl.ROOT.VecOps.RVec<float> object at 0x7fd2c3800040>,\n",
       "          <cppyy.gbl.ROOT.VecOps.RVec<float> object at 0x7fd2c3800080>,\n",
       "          ...,\n",
       "          <cppyy.gbl.ROOT.VecOps.RVec<float> object at 0x7fd2c4a4f080>,\n",
       "          <cppyy.gbl.ROOT.VecOps.RVec<float> object at 0x7fd2c4a4f0c0>,\n",
       "          <cppyy.gbl.ROOT.VecOps.RVec<float> object at 0x7fd2c4a4f100>],\n",
       "         dtype=object)}"
      ]
     },
     "execution_count": 15,
     "metadata": {},
     "output_type": "execute_result"
    }
   ],
   "source": [
    "(\n",
    "    rdf.Define(\"px\", \"Muon_pt * ROOT::VecOps::cos(Muon_phi)\")\n",
    "       .Define(\"py\", \"Muon_pt * ROOT::VecOps::sin(Muon_phi)\")\n",
    "       .AsNumpy([\"px\", \"py\"])\n",
    ")"
   ]
  },
  {
   "cell_type": "markdown",
   "id": "c6f51979-8eca-447b-8707-03ecb784739b",
   "metadata": {},
   "source": [
    "<br><br><br><br><br>"
   ]
  },
  {
   "cell_type": "markdown",
   "id": "8ec4f1ff-40ad-4955-b192-b27e37bb74c4",
   "metadata": {},
   "source": [
    "## Tools from Scikit-HEP"
   ]
  },
  {
   "cell_type": "markdown",
   "id": "37b33a8f-af91-4bd5-8e76-c8bb0c66b74e",
   "metadata": {},
   "source": [
    "<img src=\"../img/scikit-hep-logo.svg\" width=\"300\">"
   ]
  },
  {
   "cell_type": "markdown",
   "id": "0ef3bcf3-26b6-480c-b848-a5362878436d",
   "metadata": {},
   "source": [
    "Scikit-HEP is an umbrella organization for particle physics software in Python.\n",
    "\n",
    "See [scikit-hep.org](https://scikit-hep.org/) for more information."
   ]
  },
  {
   "cell_type": "markdown",
   "id": "263286ec-eb31-40e4-bd77-fbd950feb771",
   "metadata": {},
   "source": [
    "<br><br><br><br><br>"
   ]
  },
  {
   "cell_type": "markdown",
   "id": "015d6bfd-7274-42aa-abf7-84cef6b3d52e",
   "metadata": {},
   "source": [
    "### Uproot"
   ]
  },
  {
   "cell_type": "markdown",
   "id": "f1e88f00-27fc-4aba-b74e-df50d9737698",
   "metadata": {},
   "source": [
    "<img src=\"../img/uproot-logo.svg\" width=\"300\">"
   ]
  },
  {
   "cell_type": "markdown",
   "id": "68c46721-e04b-4566-b53e-f01ab583c643",
   "metadata": {},
   "source": [
    "Uproot is a reimplementation of ROOT file I/O in Python.\n",
    "\n",
    "See [uproot.readthedocs.io](https://uproot.readthedocs.io/) for tutorials and reference documentation."
   ]
  },
  {
   "cell_type": "markdown",
   "id": "09bc495d-8025-46c9-b034-4dad3783517c",
   "metadata": {},
   "source": [
    "<img src=\"../img/abstraction-layers.svg\" width=\"800\">"
   ]
  },
  {
   "cell_type": "markdown",
   "id": "28847945-3688-48f3-99ae-5452042c743d",
   "metadata": {},
   "source": [
    "<br><br><br><br><br>"
   ]
  },
  {
   "cell_type": "markdown",
   "id": "f20e5b76-0c1d-4a37-93ff-86422a8815aa",
   "metadata": {},
   "source": [
    "ROOT files can contain standalone objects, such as histograms, and tables of data (\"TTrees\") whose columns are arrays (\"TBranches\").\n",
    "\n",
    "As a low-level detail, ranges of entries in the arrays can only be read in granular units (\"TBaskets\")."
   ]
  },
  {
   "cell_type": "markdown",
   "id": "f1fea76d-db72-4894-85f0-70502b279ba2",
   "metadata": {},
   "source": [
    "<img src=\"../img/terminology.svg\" width=\"700\">"
   ]
  },
  {
   "cell_type": "markdown",
   "id": "b92c4f09-87f1-41e1-af64-a7f236d6a90b",
   "metadata": {},
   "source": [
    "Uproot reads standalone objects, including TTree metadata, in slow, imperative Python.\n",
    "\n",
    "It reads, decompresses, and interprets TBranch arrays in fast, array-oriented NumPy."
   ]
  },
  {
   "cell_type": "markdown",
   "id": "e69edceb-68ca-4c2d-95e2-725de34308ae",
   "metadata": {},
   "source": [
    "<br><br><br><br><br>"
   ]
  },
  {
   "cell_type": "markdown",
   "id": "2f930ba3-8ac6-413c-af7f-66f8c82e4eb5",
   "metadata": {},
   "source": [
    "Here's an example of how you would interact with Uproot to get some of the arrays.\n",
    "\n",
    "<br><br>\n",
    "\n",
    "\"Open a file.\""
   ]
  },
  {
   "cell_type": "code",
   "execution_count": 16,
   "id": "2601d5a2-a00b-4978-a3c0-8e3ee4787b5f",
   "metadata": {},
   "outputs": [
    {
     "data": {
      "text/plain": [
       "<ReadOnlyDirectory '/' at 0x000194276380>"
      ]
     },
     "execution_count": 16,
     "metadata": {},
     "output_type": "execute_result"
    }
   ],
   "source": [
    "file = uproot.open(\"../data/SMHiggsToZZTo4L.root\")\n",
    "file"
   ]
  },
  {
   "cell_type": "markdown",
   "id": "940caf7d-2daf-4aa1-b889-d14a5fe9f7cb",
   "metadata": {},
   "source": [
    "\"What's in the file?\""
   ]
  },
  {
   "cell_type": "code",
   "execution_count": 17,
   "id": "37bbe7e9-7a7d-4086-b322-0fbd91999f0a",
   "metadata": {},
   "outputs": [
    {
     "data": {
      "text/plain": [
       "['Events;1']"
      ]
     },
     "execution_count": 17,
     "metadata": {},
     "output_type": "execute_result"
    }
   ],
   "source": [
    "file.keys()"
   ]
  },
  {
   "cell_type": "code",
   "execution_count": 18,
   "id": "d843f7a8-07b7-4018-a8f7-d60f46894592",
   "metadata": {},
   "outputs": [
    {
     "data": {
      "text/plain": [
       "{'Events;1': 'TTree'}"
      ]
     },
     "execution_count": 18,
     "metadata": {},
     "output_type": "execute_result"
    }
   ],
   "source": [
    "file.classnames()"
   ]
  },
  {
   "cell_type": "markdown",
   "id": "41828681-9f96-4427-8ced-386e16cc722d",
   "metadata": {},
   "source": [
    "\"Read the TTree metadata. (Not the arrays!)\""
   ]
  },
  {
   "cell_type": "code",
   "execution_count": 19,
   "id": "a3f866a3-1427-4532-adff-38ce6065084b",
   "metadata": {},
   "outputs": [
    {
     "data": {
      "text/plain": [
       "<TTree 'Events' (32 branches) at 0x0001941a4550>"
      ]
     },
     "execution_count": 19,
     "metadata": {},
     "output_type": "execute_result"
    }
   ],
   "source": [
    "tree = file[\"Events\"]\n",
    "tree"
   ]
  },
  {
   "cell_type": "markdown",
   "id": "2beefbec-95d9-4705-a8aa-d87764cca728",
   "metadata": {},
   "source": [
    "\"What TBranch types are in the TTree?\""
   ]
  },
  {
   "cell_type": "code",
   "execution_count": 20,
   "id": "bec79d80-bda6-4e32-bf6d-e53b25270585",
   "metadata": {},
   "outputs": [
    {
     "name": "stdout",
     "output_type": "stream",
     "text": [
      "name                 | typename                 | interpretation                \n",
      "---------------------+--------------------------+-------------------------------\n",
      "run                  | int32_t                  | AsDtype('>i4')\n",
      "luminosityBlock      | uint32_t                 | AsDtype('>u4')\n",
      "event                | uint64_t                 | AsDtype('>u8')\n",
      "PV_npvs              | int32_t                  | AsDtype('>i4')\n",
      "PV_x                 | float                    | AsDtype('>f4')\n",
      "PV_y                 | float                    | AsDtype('>f4')\n",
      "PV_z                 | float                    | AsDtype('>f4')\n",
      "nMuon                | uint32_t                 | AsDtype('>u4')\n",
      "Muon_pt              | float[]                  | AsJagged(AsDtype('>f4'))\n",
      "Muon_eta             | float[]                  | AsJagged(AsDtype('>f4'))\n",
      "Muon_phi             | float[]                  | AsJagged(AsDtype('>f4'))\n",
      "Muon_mass            | float[]                  | AsJagged(AsDtype('>f4'))\n",
      "Muon_charge          | int32_t[]                | AsJagged(AsDtype('>i4'))\n",
      "Muon_pfRelIso03_all  | float[]                  | AsJagged(AsDtype('>f4'))\n",
      "Muon_pfRelIso04_all  | float[]                  | AsJagged(AsDtype('>f4'))\n",
      "Muon_dxy             | float[]                  | AsJagged(AsDtype('>f4'))\n",
      "Muon_dxyErr          | float[]                  | AsJagged(AsDtype('>f4'))\n",
      "Muon_dz              | float[]                  | AsJagged(AsDtype('>f4'))\n",
      "Muon_dzErr           | float[]                  | AsJagged(AsDtype('>f4'))\n",
      "nElectron            | uint32_t                 | AsDtype('>u4')\n",
      "Electron_pt          | float[]                  | AsJagged(AsDtype('>f4'))\n",
      "Electron_eta         | float[]                  | AsJagged(AsDtype('>f4'))\n",
      "Electron_phi         | float[]                  | AsJagged(AsDtype('>f4'))\n",
      "Electron_mass        | float[]                  | AsJagged(AsDtype('>f4'))\n",
      "Electron_charge      | int32_t[]                | AsJagged(AsDtype('>i4'))\n",
      "Electron_pfRelIso... | float[]                  | AsJagged(AsDtype('>f4'))\n",
      "Electron_dxy         | float[]                  | AsJagged(AsDtype('>f4'))\n",
      "Electron_dxyErr      | float[]                  | AsJagged(AsDtype('>f4'))\n",
      "Electron_dz          | float[]                  | AsJagged(AsDtype('>f4'))\n",
      "Electron_dzErr       | float[]                  | AsJagged(AsDtype('>f4'))\n",
      "MET_pt               | float                    | AsDtype('>f4')\n",
      "MET_phi              | float                    | AsDtype('>f4')\n"
     ]
    }
   ],
   "source": [
    "tree.show()"
   ]
  },
  {
   "cell_type": "markdown",
   "id": "1411be0e-0ad9-4ad0-a603-4e71ac9e5802",
   "metadata": {},
   "source": [
    "\"Can I get that information programmatically?\"\n",
    "\n",
    "(Yes.)"
   ]
  },
  {
   "cell_type": "code",
   "execution_count": 21,
   "id": "9afff669-b8d6-4171-bff6-0f397d1e772e",
   "metadata": {},
   "outputs": [
    {
     "data": {
      "text/plain": [
       "{'run': 'int32_t',\n",
       " 'luminosityBlock': 'uint32_t',\n",
       " 'event': 'uint64_t',\n",
       " 'PV_npvs': 'int32_t',\n",
       " 'PV_x': 'float',\n",
       " 'PV_y': 'float',\n",
       " 'PV_z': 'float',\n",
       " 'nMuon': 'uint32_t',\n",
       " 'Muon_pt': 'float[]',\n",
       " 'Muon_eta': 'float[]',\n",
       " 'Muon_phi': 'float[]',\n",
       " 'Muon_mass': 'float[]',\n",
       " 'Muon_charge': 'int32_t[]',\n",
       " 'Muon_pfRelIso03_all': 'float[]',\n",
       " 'Muon_pfRelIso04_all': 'float[]',\n",
       " 'Muon_dxy': 'float[]',\n",
       " 'Muon_dxyErr': 'float[]',\n",
       " 'Muon_dz': 'float[]',\n",
       " 'Muon_dzErr': 'float[]',\n",
       " 'nElectron': 'uint32_t',\n",
       " 'Electron_pt': 'float[]',\n",
       " 'Electron_eta': 'float[]',\n",
       " 'Electron_phi': 'float[]',\n",
       " 'Electron_mass': 'float[]',\n",
       " 'Electron_charge': 'int32_t[]',\n",
       " 'Electron_pfRelIso03_all': 'float[]',\n",
       " 'Electron_dxy': 'float[]',\n",
       " 'Electron_dxyErr': 'float[]',\n",
       " 'Electron_dz': 'float[]',\n",
       " 'Electron_dzErr': 'float[]',\n",
       " 'MET_pt': 'float',\n",
       " 'MET_phi': 'float'}"
      ]
     },
     "execution_count": 21,
     "metadata": {},
     "output_type": "execute_result"
    }
   ],
   "source": [
    "{key: branch.typename for key, branch in tree.items()}"
   ]
  },
  {
   "cell_type": "markdown",
   "id": "7b288155-705c-4b80-afe8-9e9275b4afca",
   "metadata": {},
   "source": [
    "\"Read the muon $pT$, $\\eta$, $\\phi$, and mass, and no other arrays.\""
   ]
  },
  {
   "cell_type": "code",
   "execution_count": 22,
   "id": "5edba913-5e68-4613-a17b-8389aa8ba58d",
   "metadata": {},
   "outputs": [
    {
     "data": {
      "text/html": [
       "<pre>[{Muon_pt: [63, 38.1, 4.05], Muon_eta: [-0.719, ...], Muon_phi: [...], ...},\n",
       " {Muon_pt: [], Muon_eta: [], Muon_phi: [], Muon_mass: []},\n",
       " {Muon_pt: [], Muon_eta: [], Muon_phi: [], Muon_mass: []},\n",
       " {Muon_pt: [54.3, 23.5, ..., 8.39, 3.49], Muon_eta: [...], Muon_phi: ..., ...},\n",
       " {Muon_pt: [], Muon_eta: [], Muon_phi: [], Muon_mass: []},\n",
       " {Muon_pt: [38.5, 47], Muon_eta: [0.315, -0.119], Muon_phi: [...], ...},\n",
       " {Muon_pt: [4.45], Muon_eta: [-0.986], Muon_phi: [1.12], Muon_mass: ..., ...},\n",
       " {Muon_pt: [], Muon_eta: [], Muon_phi: [], Muon_mass: []},\n",
       " {Muon_pt: [], Muon_eta: [], Muon_phi: [], Muon_mass: []},\n",
       " {Muon_pt: [], Muon_eta: [], Muon_phi: [], Muon_mass: []},\n",
       " ...,\n",
       " {Muon_pt: [37.2, 50.1], Muon_eta: [1.1, 0.412], Muon_phi: [...], ...},\n",
       " {Muon_pt: [43.2, 24], Muon_eta: [2.15, 0.421], Muon_phi: [...], ...},\n",
       " {Muon_pt: [24.2, 79.5], Muon_eta: [0.327, 0.79], Muon_phi: [...], ...},\n",
       " {Muon_pt: [], Muon_eta: [], Muon_phi: [], Muon_mass: []},\n",
       " {Muon_pt: [9.81, 25.5], Muon_eta: [2.07, 1.04], Muon_phi: [...], ...},\n",
       " {Muon_pt: [32.6, 43.1], Muon_eta: [1.11, -0.162], Muon_phi: [...], ...},\n",
       " {Muon_pt: [4.32, 4.36, 5.63, 4.75], Muon_eta: [-2.09, ...], ...},\n",
       " {Muon_pt: [], Muon_eta: [], Muon_phi: [], Muon_mass: []},\n",
       " {Muon_pt: [], Muon_eta: [], Muon_phi: [], Muon_mass: []}]\n",
       "-------------------------------------------------------------------------------\n",
       "type: 299973 * {\n",
       "    Muon_pt: var * float32,\n",
       "    Muon_eta: var * float32,\n",
       "    Muon_phi: var * float32,\n",
       "    Muon_mass: var * float32\n",
       "}</pre>"
      ],
      "text/plain": [
       "<Array [{Muon_pt: [63, ...], ...}, ..., {...}] type='299973 * {Muon_pt: var...'>"
      ]
     },
     "execution_count": 22,
     "metadata": {},
     "output_type": "execute_result"
    }
   ],
   "source": [
    "muon_kinematics = tree.arrays([\"Muon_pt\", \"Muon_eta\", \"Muon_phi\", \"Muon_mass\"])\n",
    "muon_kinematics"
   ]
  },
  {
   "cell_type": "markdown",
   "id": "07fe1251-05f0-43bb-af84-3a3d2eac0759",
   "metadata": {},
   "source": [
    "\"Show me that (already read) array in more detail, including data types.\""
   ]
  },
  {
   "cell_type": "code",
   "execution_count": 23,
   "id": "c67ca2b8-1187-4965-98ca-2603fb38c2ee",
   "metadata": {},
   "outputs": [
    {
     "name": "stdout",
     "output_type": "stream",
     "text": [
      "type: 299973 * {\n",
      "    Muon_pt: var * float32,\n",
      "    Muon_eta: var * float32,\n",
      "    Muon_phi: var * float32,\n",
      "    Muon_mass: var * float32\n",
      "}\n",
      "[{Muon_pt: [63, 38.1, 4.05], Muon_eta: [-0.719, ...], Muon_phi: [...], ...},\n",
      " {Muon_pt: [], Muon_eta: [], Muon_phi: [], Muon_mass: []},\n",
      " {Muon_pt: [], Muon_eta: [], Muon_phi: [], Muon_mass: []},\n",
      " {Muon_pt: [54.3, 23.5, ..., 8.39, 3.49], Muon_eta: [...], Muon_phi: ..., ...},\n",
      " {Muon_pt: [], Muon_eta: [], Muon_phi: [], Muon_mass: []},\n",
      " {Muon_pt: [38.5, 47], Muon_eta: [0.315, -0.119], Muon_phi: [...], ...},\n",
      " {Muon_pt: [4.45], Muon_eta: [-0.986], Muon_phi: [1.12], Muon_mass: ..., ...},\n",
      " {Muon_pt: [], Muon_eta: [], Muon_phi: [], Muon_mass: []},\n",
      " {Muon_pt: [], Muon_eta: [], Muon_phi: [], Muon_mass: []},\n",
      " {Muon_pt: [], Muon_eta: [], Muon_phi: [], Muon_mass: []},\n",
      " ...,\n",
      " {Muon_pt: [37.2, 50.1], Muon_eta: [1.1, 0.412], Muon_phi: [...], ...},\n",
      " {Muon_pt: [43.2, 24], Muon_eta: [2.15, 0.421], Muon_phi: [...], ...},\n",
      " {Muon_pt: [24.2, 79.5], Muon_eta: [0.327, 0.79], Muon_phi: [...], ...},\n",
      " {Muon_pt: [], Muon_eta: [], Muon_phi: [], Muon_mass: []},\n",
      " {Muon_pt: [9.81, 25.5], Muon_eta: [2.07, 1.04], Muon_phi: [...], ...},\n",
      " {Muon_pt: [32.6, 43.1], Muon_eta: [1.11, -0.162], Muon_phi: [...], ...},\n",
      " {Muon_pt: [4.32, 4.36, 5.63, 4.75], Muon_eta: [-2.09, ...], ...},\n",
      " {Muon_pt: [], Muon_eta: [], Muon_phi: [], Muon_mass: []},\n",
      " {Muon_pt: [], Muon_eta: [], Muon_phi: [], Muon_mass: []}]\n"
     ]
    }
   ],
   "source": [
    "muon_kinematics.show(type=True)"
   ]
  },
  {
   "cell_type": "markdown",
   "id": "e28b63ab-d452-4551-9306-1724ab720ca6",
   "metadata": {},
   "source": [
    "\"Which TBranches have anything to do with muons or electrons?\""
   ]
  },
  {
   "cell_type": "code",
   "execution_count": 24,
   "id": "6555d182-e38e-477b-a2dd-330c5140ef6c",
   "metadata": {},
   "outputs": [
    {
     "data": {
      "text/plain": [
       "['Muon_pt',\n",
       " 'Muon_eta',\n",
       " 'Muon_phi',\n",
       " 'Muon_mass',\n",
       " 'Muon_charge',\n",
       " 'Muon_pfRelIso03_all',\n",
       " 'Muon_pfRelIso04_all',\n",
       " 'Muon_dxy',\n",
       " 'Muon_dxyErr',\n",
       " 'Muon_dz',\n",
       " 'Muon_dzErr',\n",
       " 'Electron_pt',\n",
       " 'Electron_eta',\n",
       " 'Electron_phi',\n",
       " 'Electron_mass',\n",
       " 'Electron_charge',\n",
       " 'Electron_pfRelIso03_all',\n",
       " 'Electron_dxy',\n",
       " 'Electron_dxyErr',\n",
       " 'Electron_dz',\n",
       " 'Electron_dzErr']"
      ]
     },
     "execution_count": 24,
     "metadata": {},
     "output_type": "execute_result"
    }
   ],
   "source": [
    "tree.keys(filter_name=[\"Muon_*\", \"Electron_*\"])"
   ]
  },
  {
   "cell_type": "markdown",
   "id": "05c69d5a-2018-4b51-b73a-cdd44e0dcd98",
   "metadata": {},
   "source": [
    "\"Read all the TBranches that have anything to do with muons or electrons (_re-reading_ the muon kinematics!).\""
   ]
  },
  {
   "cell_type": "code",
   "execution_count": 25,
   "id": "1e10926f-65e7-4a65-b5b3-cd308d963735",
   "metadata": {},
   "outputs": [
    {
     "data": {
      "text/html": [
       "<pre>[{Muon_pt: [63, 38.1, 4.05], Muon_eta: [-0.719, ...], Muon_phi: [...], ...},\n",
       " {Muon_pt: [], Muon_eta: [], Muon_phi: [], Muon_mass: [], ...},\n",
       " {Muon_pt: [], Muon_eta: [], Muon_phi: [], Muon_mass: [], ...},\n",
       " {Muon_pt: [54.3, 23.5, ..., 8.39, 3.49], Muon_eta: [...], Muon_phi: ..., ...},\n",
       " {Muon_pt: [], Muon_eta: [], Muon_phi: [], Muon_mass: [], ...},\n",
       " {Muon_pt: [38.5, 47], Muon_eta: [0.315, -0.119], Muon_phi: [...], ...},\n",
       " {Muon_pt: [4.45], Muon_eta: [-0.986], Muon_phi: [1.12], Muon_mass: ..., ...},\n",
       " {Muon_pt: [], Muon_eta: [], Muon_phi: [], Muon_mass: [], ...},\n",
       " {Muon_pt: [], Muon_eta: [], Muon_phi: [], Muon_mass: [], ...},\n",
       " {Muon_pt: [], Muon_eta: [], Muon_phi: [], Muon_mass: [], ...},\n",
       " ...,\n",
       " {Muon_pt: [37.2, 50.1], Muon_eta: [1.1, 0.412], Muon_phi: [...], ...},\n",
       " {Muon_pt: [43.2, 24], Muon_eta: [2.15, 0.421], Muon_phi: [...], ...},\n",
       " {Muon_pt: [24.2, 79.5], Muon_eta: [0.327, 0.79], Muon_phi: [...], ...},\n",
       " {Muon_pt: [], Muon_eta: [], Muon_phi: [], Muon_mass: [], ...},\n",
       " {Muon_pt: [9.81, 25.5], Muon_eta: [2.07, 1.04], Muon_phi: [...], ...},\n",
       " {Muon_pt: [32.6, 43.1], Muon_eta: [1.11, -0.162], Muon_phi: [...], ...},\n",
       " {Muon_pt: [4.32, 4.36, 5.63, 4.75], Muon_eta: [-2.09, ...], ...},\n",
       " {Muon_pt: [], Muon_eta: [], Muon_phi: [], Muon_mass: [], ...},\n",
       " {Muon_pt: [], Muon_eta: [], Muon_phi: [], Muon_mass: [], ...}]\n",
       "-------------------------------------------------------------------------------\n",
       "type: 299973 * {\n",
       "    Muon_pt: var * float32,\n",
       "    Muon_eta: var * float32,\n",
       "    Muon_phi: var * float32,\n",
       "    Muon_mass: var * float32,\n",
       "    Muon_charge: var * int32,\n",
       "    Muon_pfRelIso03_all: var * float32,\n",
       "    Muon_pfRelIso04_all: var * float32,\n",
       "    Muon_dxy: var * float32,\n",
       "    Muon_dxyErr: var * float32,\n",
       "    Muon_dz: var * float32,\n",
       "    Muon_dzErr: var * float32,\n",
       "    Electron_pt: var * float32,\n",
       "    Electron_eta: var * float32,\n",
       "    Electron_phi: var * float32,\n",
       "    Electron_mass: var * float32,\n",
       "    Electron_charge: var * int32,\n",
       "    Electron_pfRelIso03_all: var * float32,\n",
       "    Electron_dxy: var * float32,\n",
       "    Electron_dxyErr: var * float32,\n",
       "    Electron_dz: var * float32,\n",
       "    Electron_dzErr: var * float32\n",
       "}</pre>"
      ],
      "text/plain": [
       "<Array [{Muon_pt: [63, ...], ...}, ..., {...}] type='299973 * {Muon_pt: var...'>"
      ]
     },
     "execution_count": 25,
     "metadata": {},
     "output_type": "execute_result"
    }
   ],
   "source": [
    "muons_and_electrons = tree.arrays(filter_name=[\"Muon_*\", \"Electron_*\"])\n",
    "muons_and_electrons"
   ]
  },
  {
   "cell_type": "markdown",
   "id": "f40a3903-f994-45b8-8000-2ae3208c793a",
   "metadata": {},
   "source": [
    "\"More detail on that (already read) array, please.\""
   ]
  },
  {
   "cell_type": "code",
   "execution_count": 26,
   "id": "7cabcde3-19ad-4a15-b2b9-ec9e57862256",
   "metadata": {},
   "outputs": [
    {
     "name": "stdout",
     "output_type": "stream",
     "text": [
      "type: 299973 * {\n",
      "    Muon_pt: var * float32,\n",
      "    Muon_eta: var * float32,\n",
      "    Muon_phi: var * float32,\n",
      "    Muon_mass: var * float32,\n",
      "    Muon_charge: var * int32,\n",
      "    Muon_pfRelIso03_all: var * float32,\n",
      "    Muon_pfRelIso04_all: var * float32,\n",
      "    Muon_dxy: var * float32,\n",
      "    Muon_dxyErr: var * float32,\n",
      "    Muon_dz: var * float32,\n",
      "    Muon_dzErr: var * float32,\n",
      "    Electron_pt: var * float32,\n",
      "    Electron_eta: var * float32,\n",
      "    Electron_phi: var * float32,\n",
      "    Electron_mass: var * float32,\n",
      "    Electron_charge: var * int32,\n",
      "    Electron_pfRelIso03_all: var * float32,\n",
      "    Electron_dxy: var * float32,\n",
      "    Electron_dxyErr: var * float32,\n",
      "    Electron_dz: var * float32,\n",
      "    Electron_dzErr: var * float32\n",
      "}\n",
      "[{Muon_pt: [63, 38.1, 4.05], Muon_eta: [-0.719, ...], Muon_phi: [...], ...},\n",
      " {Muon_pt: [], Muon_eta: [], Muon_phi: [], Muon_mass: [], ...},\n",
      " {Muon_pt: [], Muon_eta: [], Muon_phi: [], Muon_mass: [], ...},\n",
      " {Muon_pt: [54.3, 23.5, ..., 8.39, 3.49], Muon_eta: [...], Muon_phi: ..., ...},\n",
      " {Muon_pt: [], Muon_eta: [], Muon_phi: [], Muon_mass: [], ...},\n",
      " {Muon_pt: [38.5, 47], Muon_eta: [0.315, -0.119], Muon_phi: [...], ...},\n",
      " {Muon_pt: [4.45], Muon_eta: [-0.986], Muon_phi: [1.12], Muon_mass: ..., ...},\n",
      " {Muon_pt: [], Muon_eta: [], Muon_phi: [], Muon_mass: [], ...},\n",
      " {Muon_pt: [], Muon_eta: [], Muon_phi: [], Muon_mass: [], ...},\n",
      " {Muon_pt: [], Muon_eta: [], Muon_phi: [], Muon_mass: [], ...},\n",
      " ...,\n",
      " {Muon_pt: [37.2, 50.1], Muon_eta: [1.1, 0.412], Muon_phi: [...], ...},\n",
      " {Muon_pt: [43.2, 24], Muon_eta: [2.15, 0.421], Muon_phi: [...], ...},\n",
      " {Muon_pt: [24.2, 79.5], Muon_eta: [0.327, 0.79], Muon_phi: [...], ...},\n",
      " {Muon_pt: [], Muon_eta: [], Muon_phi: [], Muon_mass: [], ...},\n",
      " {Muon_pt: [9.81, 25.5], Muon_eta: [2.07, 1.04], Muon_phi: [...], ...},\n",
      " {Muon_pt: [32.6, 43.1], Muon_eta: [1.11, -0.162], Muon_phi: [...], ...},\n",
      " {Muon_pt: [4.32, 4.36, 5.63, 4.75], Muon_eta: [-2.09, ...], ...},\n",
      " {Muon_pt: [], Muon_eta: [], Muon_phi: [], Muon_mass: [], ...},\n",
      " {Muon_pt: [], Muon_eta: [], Muon_phi: [], Muon_mass: [], ...}]\n"
     ]
    }
   ],
   "source": [
    "muons_and_electrons.show(type=True)"
   ]
  },
  {
   "cell_type": "markdown",
   "id": "1414f5e1-b242-465c-be27-11a65d48d9e8",
   "metadata": {},
   "source": [
    "<br><br><br><br><br>\n",
    "\n",
    "We can pull individual arrays out of this using syntax like"
   ]
  },
  {
   "cell_type": "code",
   "execution_count": 27,
   "id": "0407c83d-7f17-49bc-9c49-a08c8ab37eea",
   "metadata": {},
   "outputs": [
    {
     "data": {
      "text/html": [
       "<pre>[[63, 38.1, 4.05],\n",
       " [],\n",
       " [],\n",
       " [54.3, 23.5, 52.9, 4.33, 5.35, 8.39, 3.49],\n",
       " [],\n",
       " [38.5, 47],\n",
       " [4.45],\n",
       " [],\n",
       " [],\n",
       " [],\n",
       " ...,\n",
       " [37.2, 50.1],\n",
       " [43.2, 24],\n",
       " [24.2, 79.5],\n",
       " [],\n",
       " [9.81, 25.5],\n",
       " [32.6, 43.1],\n",
       " [4.32, 4.36, 5.63, 4.75],\n",
       " [],\n",
       " []]\n",
       "--------------------------------------------\n",
       "type: 299973 * var * float32</pre>"
      ],
      "text/plain": [
       "<Array [[63, 38.1, 4.05], [], [], ..., [], []] type='299973 * var * float32'>"
      ]
     },
     "execution_count": 27,
     "metadata": {},
     "output_type": "execute_result"
    }
   ],
   "source": [
    "muons_and_electrons[\"Muon_pt\"]"
   ]
  },
  {
   "cell_type": "markdown",
   "id": "c1506015-46ed-4c74-b7da-e83dedd1ae76",
   "metadata": {},
   "source": [
    "but please be aware of the distinction between accessing data that have already been read (above)...\n",
    "\n",
    "...and reading or re-reading new data from disk (below)."
   ]
  },
  {
   "cell_type": "code",
   "execution_count": 28,
   "id": "7cf5d5a8-b66d-493a-9dae-c45108c3408c",
   "metadata": {},
   "outputs": [
    {
     "data": {
      "text/html": [
       "<pre>[[63, 38.1, 4.05],\n",
       " [],\n",
       " [],\n",
       " [54.3, 23.5, 52.9, 4.33, 5.35, 8.39, 3.49],\n",
       " [],\n",
       " [38.5, 47],\n",
       " [4.45],\n",
       " [],\n",
       " [],\n",
       " [],\n",
       " ...,\n",
       " [37.2, 50.1],\n",
       " [43.2, 24],\n",
       " [24.2, 79.5],\n",
       " [],\n",
       " [9.81, 25.5],\n",
       " [32.6, 43.1],\n",
       " [4.32, 4.36, 5.63, 4.75],\n",
       " [],\n",
       " []]\n",
       "--------------------------------------------\n",
       "type: 299973 * var * float32</pre>"
      ],
      "text/plain": [
       "<Array [[63, 38.1, 4.05], [], [], ..., [], []] type='299973 * var * float32'>"
      ]
     },
     "execution_count": 28,
     "metadata": {},
     "output_type": "execute_result"
    }
   ],
   "source": [
    "tree[\"Muon_pt\"].array()"
   ]
  },
  {
   "cell_type": "markdown",
   "id": "bb410b3a-f99c-487b-8fc0-9fb21c3f20db",
   "metadata": {},
   "source": [
    "Uproot and Awkward Array are \"eager\": they do what you tell them to, when you tell them to."
   ]
  },
  {
   "cell_type": "markdown",
   "id": "ec7cead6-d0ce-48bb-9eaa-3f4073dd7ced",
   "metadata": {},
   "source": [
    "<br><br><br><br><br>\n",
    "\n",
    "Unless you're using Dask!"
   ]
  },
  {
   "cell_type": "code",
   "execution_count": 29,
   "id": "8088e85f-2643-4694-b81d-80cb10242ae7",
   "metadata": {},
   "outputs": [
    {
     "data": {
      "text/html": [
       "<table>\n",
       "    <tr>\n",
       "        <td>\n",
       "            <table style=\"border-collapse: collapse;\">\n",
       "                <thead>\n",
       "                    <tr>\n",
       "                        <td> </td>\n",
       "                        <th> Array </th>\n",
       "                        <th> Chunk </th>\n",
       "                    </tr>\n",
       "                </thead>\n",
       "                <tbody>\n",
       "                    \n",
       "                    <tr>\n",
       "                        <th> Bytes </th>\n",
       "                        <td> 1.14 MiB </td>\n",
       "                        <td> 1.14 MiB </td>\n",
       "                    </tr>\n",
       "                    \n",
       "                    <tr>\n",
       "                        <th> Shape </th>\n",
       "                        <td> (299973,) </td>\n",
       "                        <td> (299973,) </td>\n",
       "                    </tr>\n",
       "                    <tr>\n",
       "                        <th> Dask graph </th>\n",
       "                        <td colspan=\"2\"> 1 chunks in 4 graph layers </td>\n",
       "                    </tr>\n",
       "                    <tr>\n",
       "                        <th> Data type </th>\n",
       "                        <td colspan=\"2\"> float32 numpy.ndarray </td>\n",
       "                    </tr>\n",
       "                </tbody>\n",
       "            </table>\n",
       "        </td>\n",
       "        <td>\n",
       "        <svg width=\"170\" height=\"75\" style=\"stroke:rgb(0,0,0);stroke-width:1\" >\n",
       "\n",
       "  <!-- Horizontal lines -->\n",
       "  <line x1=\"0\" y1=\"0\" x2=\"120\" y2=\"0\" style=\"stroke-width:2\" />\n",
       "  <line x1=\"0\" y1=\"25\" x2=\"120\" y2=\"25\" style=\"stroke-width:2\" />\n",
       "\n",
       "  <!-- Vertical lines -->\n",
       "  <line x1=\"0\" y1=\"0\" x2=\"0\" y2=\"25\" style=\"stroke-width:2\" />\n",
       "  <line x1=\"120\" y1=\"0\" x2=\"120\" y2=\"25\" style=\"stroke-width:2\" />\n",
       "\n",
       "  <!-- Colored Rectangle -->\n",
       "  <polygon points=\"0.0,0.0 120.0,0.0 120.0,25.412616514582485 0.0,25.412616514582485\" style=\"fill:#ECB172A0;stroke-width:0\"/>\n",
       "\n",
       "  <!-- Text -->\n",
       "  <text x=\"60.000000\" y=\"45.412617\" font-size=\"1.0rem\" font-weight=\"100\" text-anchor=\"middle\" >299973</text>\n",
       "  <text x=\"140.000000\" y=\"12.706308\" font-size=\"1.0rem\" font-weight=\"100\" text-anchor=\"middle\" transform=\"rotate(0,140.000000,12.706308)\">1</text>\n",
       "</svg>\n",
       "        </td>\n",
       "    </tr>\n",
       "</table>"
      ],
      "text/plain": [
       "dask.array<mul, shape=(299973,), dtype=float32, chunksize=(299973,), chunktype=numpy.ndarray>"
      ]
     },
     "execution_count": 29,
     "metadata": {},
     "output_type": "execute_result"
    }
   ],
   "source": [
    "delayed_read = uproot.dask(\"../data/SMHiggsToZZTo4L.root\", library=\"np\")\n",
    "\n",
    "delayed_px = delayed_read[\"MET_pt\"] * np.cos(delayed_read[\"MET_phi\"])\n",
    "\n",
    "delayed_px"
   ]
  },
  {
   "cell_type": "code",
   "execution_count": 30,
   "id": "4b0c196c-e814-4498-a938-b9fc5bcf868a",
   "metadata": {},
   "outputs": [
    {
     "data": {
      "image/png": "[encoded data removed]",
      "text/plain": [
       "<IPython.core.display.Image object>"
      ]
     },
     "execution_count": 30,
     "metadata": {},
     "output_type": "execute_result"
    }
   ],
   "source": [
    "delayed_px.visualize()"
   ]
  },
  {
   "cell_type": "code",
   "execution_count": 31,
   "id": "400a8d1f-c638-4a86-85c3-8aa9a2c0cd28",
   "metadata": {},
   "outputs": [
    {
     "data": {
      "text/plain": [
       "array([-20.099522 , -16.336037 , -10.694641 , ...,  -5.527917 ,\n",
       "        -9.405147 ,  -1.0401623], dtype=float32)"
      ]
     },
     "execution_count": 31,
     "metadata": {},
     "output_type": "execute_result"
    }
   ],
   "source": [
    "delayed_px.compute()"
   ]
  },
  {
   "cell_type": "markdown",
   "id": "3e20b7c9-d496-4831-89aa-2248b587852b",
   "metadata": {},
   "source": [
    "<br><br><br><br><br>"
   ]
  },
  {
   "cell_type": "markdown",
   "id": "97770d27-f5c6-4b6b-9dab-d29a1446c8cd",
   "metadata": {},
   "source": [
    "### Awkward Array"
   ]
  },
  {
   "cell_type": "markdown",
   "id": "e0f9a228-c326-4efa-9dba-74b9b1e285a4",
   "metadata": {},
   "source": [
    "<img src=\"../img/awkward-logo.svg\" width=\"300\">"
   ]
  },
  {
   "cell_type": "markdown",
   "id": "a9c4b45a-ecdf-4ec3-9b4c-0c2211157d16",
   "metadata": {},
   "source": [
    "Awkward Array is a library for manipluating arrays of arbitrary data types as though they were NumPy arrays.\n",
    "\n",
    "See [awkward-array.org](https://awkward-array.org/) for tutorials and reference documentation.\n"
   ]
  },
  {
   "cell_type": "code",
   "execution_count": 32,
   "id": "1f1bf9cd-bcb3-4ff7-8f69-f8b3ae1f449c",
   "metadata": {},
   "outputs": [],
   "source": [
    "import awkward as ak"
   ]
  },
  {
   "cell_type": "markdown",
   "id": "099b3a15-c873-4d83-9f84-46ffbc019a11",
   "metadata": {},
   "source": [
    "<br><br><br><br><br>\n",
    "\n",
    "As an example with some generality, consider arrays of variable-length lists of records with fields \"x\" and \"y\"; the \"x\" values are either missing (`None`) or floating point values; the \"y\" are lists of integers.\n",
    "\n",
    "Like this:"
   ]
  },
  {
   "cell_type": "code",
   "execution_count": 33,
   "id": "eb6b1c88-3f41-4a0f-8906-74afaae52374",
   "metadata": {},
   "outputs": [],
   "source": [
    "array = ak.Array([\n",
    "    [{\"x\": 1.1, \"y\": [1]}, {\"x\": None, \"y\": [1, 2]}, {\"x\": 3.3, \"y\": [1, 2, 3]}],\n",
    "    [],\n",
    "    [{\"x\": None, \"y\": [1, 2, 3, 4]}, {\"x\": 5.5, \"y\": [1, 2, 3, 4, 5]}]\n",
    "] * 10000)"
   ]
  },
  {
   "cell_type": "markdown",
   "id": "e85971f1-49ef-4e52-a819-82a6d1e143a4",
   "metadata": {},
   "source": [
    "The following NumPy-like expression\n",
    "\n",
    "   * accesses field \"y\"\n",
    "   * drops the first element of each list (`1:`) from the innermost dimension (`...`)\n",
    "   * squares each value with `np.square`, a NumPy function\n",
    "   * returns a structure that is unmodified from the original, except where dictated."
   ]
  },
  {
   "cell_type": "code",
   "execution_count": 34,
   "id": "89e649c3-76fb-44b4-9304-0821b365af1a",
   "metadata": {},
   "outputs": [
    {
     "data": {
      "text/html": [
       "<pre>[[[], [4], [4, 9]],\n",
       " [],\n",
       " [[4, 9, 16], [4, 9, 16, 25]],\n",
       " [[], [4], [4, 9]],\n",
       " [],\n",
       " [[4, 9, 16], [4, 9, 16, 25]],\n",
       " [[], [4], [4, 9]],\n",
       " [],\n",
       " [[4, 9, 16], [4, 9, 16, 25]],\n",
       " [[], [4], [4, 9]],\n",
       " ...,\n",
       " [[], [4], [4, 9]],\n",
       " [],\n",
       " [[4, 9, 16], [4, 9, 16, 25]],\n",
       " [[], [4], [4, 9]],\n",
       " [],\n",
       " [[4, 9, 16], [4, 9, 16, 25]],\n",
       " [[], [4], [4, 9]],\n",
       " [],\n",
       " [[4, 9, 16], [4, 9, 16, 25]]]\n",
       "-------------------------------\n",
       "type: 30000 * var * var * int64</pre>"
      ],
      "text/plain": [
       "<Array [[[], [4], [4, 9]], ..., [[...], ...]] type='30000 * var * var * int64'>"
      ]
     },
     "execution_count": 34,
     "metadata": {},
     "output_type": "execute_result"
    }
   ],
   "source": [
    "output = np.square(array[\"y\", ..., 1:])\n",
    "output"
   ]
  },
  {
   "cell_type": "markdown",
   "id": "7785737e-0545-4d2e-9f00-50aa16abb14c",
   "metadata": {},
   "source": [
    "Looking at that in more detail:"
   ]
  },
  {
   "cell_type": "code",
   "execution_count": 35,
   "id": "412d9083-317d-48df-9510-16a3946c0344",
   "metadata": {},
   "outputs": [
    {
     "name": "stdout",
     "output_type": "stream",
     "text": [
      "[[[], [4], [4, 9]],\n",
      " [],\n",
      " [[4, 9, 16], [4, 9, 16, 25]],\n",
      " [[], [4], [4, 9]],\n",
      " [],\n",
      " [[4, 9, 16], [4, 9, 16, 25]],\n",
      " [[], [4], [4, 9]],\n",
      " [],\n",
      " [[4, 9, 16], [4, 9, 16, 25]],\n",
      " [[], [4], [4, 9]],\n",
      " ...,\n",
      " [[], [4], [4, 9]],\n",
      " [],\n",
      " [[4, 9, 16], [4, 9, 16, 25]],\n",
      " [[], [4], [4, 9]],\n",
      " [],\n",
      " [[4, 9, 16], [4, 9, 16, 25]],\n",
      " [[], [4], [4, 9]],\n",
      " [],\n",
      " [[4, 9, 16], [4, 9, 16, 25]]]\n"
     ]
    }
   ],
   "source": [
    "output.show()"
   ]
  },
  {
   "cell_type": "markdown",
   "id": "5ac8de01-176c-46e0-94bb-d17571305e60",
   "metadata": {},
   "source": [
    "<br><br><br><br><br>"
   ]
  },
  {
   "cell_type": "markdown",
   "id": "bbc7d3ec-7523-4094-bad9-4de2c8d78350",
   "metadata": {},
   "source": [
    "To do the equivalent in Python, we'd have to write the following:"
   ]
  },
  {
   "cell_type": "code",
   "execution_count": 36,
   "id": "b4dc6d5a-a1cb-4a63-bea7-401435feddb2",
   "metadata": {},
   "outputs": [],
   "source": [
    "array_as_lists = array.tolist()"
   ]
  },
  {
   "cell_type": "code",
   "execution_count": 37,
   "id": "7f9f23bb-c406-4006-b273-2ccf89832435",
   "metadata": {},
   "outputs": [
    {
     "name": "stdout",
     "output_type": "stream",
     "text": [
      "94.8 ms ± 576 µs per loop (mean ± std. dev. of 7 runs, 10 loops each)\n"
     ]
    }
   ],
   "source": [
    "%%timeit\n",
    "\n",
    "output = []\n",
    "for sublist in array_as_lists:\n",
    "    tmp1 = []\n",
    "    for record in sublist:\n",
    "        tmp2 = []\n",
    "        for number in record[\"y\"][1:]:\n",
    "            tmp2.append(np.square(number))\n",
    "        tmp1.append(tmp2)\n",
    "    output.append(tmp1)"
   ]
  },
  {
   "cell_type": "markdown",
   "id": "d158d32f-b1e4-4b28-9769-bfbbe7c93e40",
   "metadata": {},
   "source": [
    "The array-oriented expression is faster, too."
   ]
  },
  {
   "cell_type": "code",
   "execution_count": 38,
   "id": "4c6a5aa0-e4b8-40ab-8d02-7adf4c184c0a",
   "metadata": {},
   "outputs": [
    {
     "name": "stdout",
     "output_type": "stream",
     "text": [
      "1.48 ms ± 14.8 µs per loop (mean ± std. dev. of 7 runs, 1,000 loops each)\n"
     ]
    }
   ],
   "source": [
    "%%timeit\n",
    "\n",
    "output = np.square(array[\"y\", ..., 1:])"
   ]
  },
  {
   "cell_type": "markdown",
   "id": "d2eccb39-e929-45b1-91df-c090d7d84046",
   "metadata": {},
   "source": [
    "<br><br><br><br><br>\n",
    "\n",
    "How about converting an Awkward Array to RDataFrame and back*?\n",
    "\n",
    "(\\* Thanks to Yana Osborne!)"
   ]
  },
  {
   "cell_type": "code",
   "execution_count": 39,
   "id": "84055316-f15d-4bb5-a8e0-bcfc4974f15d",
   "metadata": {},
   "outputs": [],
   "source": [
    "rdf2 = ak.to_rdataframe({\"array\": array})"
   ]
  },
  {
   "cell_type": "code",
   "execution_count": 40,
   "id": "66f59e8f-e1c0-4e27-9b11-5af91f2576e5",
   "metadata": {},
   "outputs": [],
   "source": [
    "rdf3 = rdf2.Define(\"output\", \"\"\"\n",
    "std::vector<std::vector<int64_t>> tmp1;\n",
    "\n",
    "for (auto record : array) {\n",
    "    std::vector<int64_t> tmp2;\n",
    "    for (auto number : record.y()) {\n",
    "        tmp2.push_back(number * number);\n",
    "    }\n",
    "    tmp1.push_back(tmp2);\n",
    "}\n",
    "return tmp1;\n",
    "\"\"\")"
   ]
  },
  {
   "cell_type": "code",
   "execution_count": 41,
   "id": "ade4bdc0-0c7f-41df-8cb9-211d0e42e0ca",
   "metadata": {},
   "outputs": [
    {
     "data": {
      "text/html": [
       "<pre>[[[1], [1, 4], [1, 4, 9]],\n",
       " [],\n",
       " [[1, 4, 9, 16], [1, 4, 9, 16, 25]],\n",
       " [[1], [1, 4], [1, 4, 9]],\n",
       " [],\n",
       " [[1, 4, 9, 16], [1, 4, 9, 16, 25]],\n",
       " [[1], [1, 4], [1, 4, 9]],\n",
       " [],\n",
       " [[1, 4, 9, 16], [1, 4, 9, 16, 25]],\n",
       " [[1], [1, 4], [1, 4, 9]],\n",
       " ...,\n",
       " [[1], [1, 4], [1, 4, 9]],\n",
       " [],\n",
       " [[1, 4, 9, 16], [1, 4, 9, 16, 25]],\n",
       " [[1], [1, 4], [1, 4, 9]],\n",
       " [],\n",
       " [[1, 4, 9, 16], [1, 4, 9, 16, 25]],\n",
       " [[1], [1, 4], [1, 4, 9]],\n",
       " [],\n",
       " [[1, 4, 9, 16], [1, 4, 9, 16, 25]]]\n",
       "------------------------------------\n",
       "type: 30000 * var * var * int64</pre>"
      ],
      "text/plain": [
       "<Array [[[1], [1, ...], [1, 4, 9]], ..., [...]] type='30000 * var * var * i...'>"
      ]
     },
     "execution_count": 41,
     "metadata": {},
     "output_type": "execute_result"
    }
   ],
   "source": [
    "output = ak.from_rdataframe(rdf3, \"output\")\n",
    "output"
   ]
  },
  {
   "cell_type": "markdown",
   "id": "24b002fa-aa48-4839-9d51-038b924dafc1",
   "metadata": {},
   "source": [
    "<br><br><br><br><br>"
   ]
  },
  {
   "cell_type": "markdown",
   "id": "bad6ff06-3c99-4511-a4cc-32f65db8465d",
   "metadata": {},
   "source": [
    "### Vector"
   ]
  },
  {
   "cell_type": "markdown",
   "id": "5b90ae1e-b2e1-4c8c-9ec9-d077ecd14610",
   "metadata": {},
   "source": [
    "<br>\n",
    "\n",
    "<img src=\"../img/vector-logo.svg\" width=\"300\">\n",
    "\n",
    "<br>"
   ]
  },
  {
   "cell_type": "markdown",
   "id": "89296f7e-5ecd-4fdf-915f-ce1c6102abce",
   "metadata": {},
   "source": [
    "Vector is a library for manipluating arrays of Lorentz vectors (and 2D, 3D Euclidean vectors).\n",
    "\n",
    "See [vector.readthedocs.io](https://vector.readthedocs.io/) for tutorials and reference documentation.\n",
    "\n",
    "We'll use this to add vectors and compute masses without having to write the formulae by hand."
   ]
  },
  {
   "cell_type": "markdown",
   "id": "0c7a85af-ffc6-4eeb-9aab-c312df2badbe",
   "metadata": {},
   "source": [
    "<br><br><br><br><br>"
   ]
  },
  {
   "cell_type": "markdown",
   "id": "2aa1cd40-fc05-4dea-8951-c150f5a5222b",
   "metadata": {},
   "source": [
    "### hist"
   ]
  },
  {
   "cell_type": "markdown",
   "id": "0ebb88dc-2638-4db2-ae90-833c7f97800b",
   "metadata": {},
   "source": [
    "<img src=\"../img/hist-logo.svg\" width=\"300\">"
   ]
  },
  {
   "cell_type": "markdown",
   "id": "0f454c2d-754b-42c4-8c18-f84f9629db10",
   "metadata": {},
   "source": [
    "Hist is a library for filling, manipulating, and plotting histograms.\n",
    "\n",
    "See [hist.readthedocs.io](https://hist.readthedocs.io/) for tutorials and reference documentation.\n",
    "\n",
    "We'll use this to plot distributions."
   ]
  },
  {
   "cell_type": "markdown",
   "id": "dc9cb753-e172-4a58-af11-1a52eb2dac53",
   "metadata": {},
   "source": [
    "<br><br><br><br><br>"
   ]
  },
  {
   "cell_type": "markdown",
   "id": "aefc698f-7d50-490d-a1cf-8dcfdf5f9b9d",
   "metadata": {},
   "source": [
    "# Next stop: lecture part 3"
   ]
  },
  {
   "cell_type": "markdown",
   "id": "09be7fe9-6212-4712-ba82-39fab536bc46",
   "metadata": {},
   "source": [
    "Go to [lecture-part-3.ipynb](lecture-part-3.ipynb) for the third notebook."
   ]
  }
 ],
 "metadata": {
  "kernelspec": {
   "display_name": "Python 3 (ipykernel)",
   "language": "python",
   "name": "python3"
  },
  "language_info": {
   "codemirror_mode": {
    "name": "ipython",
    "version": 3
   },
   "file_extension": ".py",
   "mimetype": "text/x-python",
   "name": "python",
   "nbconvert_exporter": "python",
   "pygments_lexer": "ipython3",
   "version": "3.10.0"
  }
 },
 "nbformat": 4,
 "nbformat_minor": 5
}
