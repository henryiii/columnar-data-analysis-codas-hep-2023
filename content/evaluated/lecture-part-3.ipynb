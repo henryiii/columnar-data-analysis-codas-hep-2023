{
 "cells": [
  {
   "cell_type": "markdown",
   "id": "76987c2b-29f7-47dc-8393-47d278f48e67",
   "metadata": {
    "tags": []
   },
   "source": [
    "# CoDaS-HEP Columnar Data Analysis, hands-on project"
   ]
  },
  {
   "cell_type": "markdown",
   "id": "f7521a23-e6e7-433f-92e6-8263ee2b977f",
   "metadata": {},
   "source": [
    "This is the third of four notebooks on [columnar data analysis](https://indico.cern.ch/event/1287965/timetable/#41-columnar-data-analysis), presented at CoDaS-HEP at 13:30pm on July 20, 2023 by Jim Pivarski and Ioana Ifrim.\n",
    "\n",
    "See the [GitHub repo](https://github.com/ioanaif/columnar-data-analysis-codas-hep-2023) for instructions on how to run it."
   ]
  },
  {
   "cell_type": "markdown",
   "id": "a5fac634-c124-4846-8643-173ae6a2fdcc",
   "metadata": {},
   "source": [
    "<br><br><br><br><br>"
   ]
  },
  {
   "cell_type": "markdown",
   "id": "7ca5ec8d-2d8f-414d-94d8-10a2657589c2",
   "metadata": {},
   "source": [
    "## Project: H → ZZ → 4ℓ"
   ]
  },
  {
   "cell_type": "markdown",
   "id": "8e15980d-d334-4d90-b269-680a0cbb973c",
   "metadata": {},
   "source": [
    "In this exercise, we'll reconstruct Z masses and the Higgs mass from four leptons (4μ, 4e, 2μ2e)."
   ]
  },
  {
   "cell_type": "markdown",
   "id": "b8620f92-e18a-4c04-a9bf-2c1ac007b9a1",
   "metadata": {},
   "source": [
    "<br><br><br><br><br>"
   ]
  },
  {
   "cell_type": "markdown",
   "id": "657faf88-b836-4207-b010-a48fbd51da6b",
   "metadata": {},
   "source": [
    "### Getting the data"
   ]
  },
  {
   "cell_type": "code",
   "execution_count": 1,
   "id": "23d19cbe-99eb-4f4f-bed0-1c34907110a5",
   "metadata": {
    "tags": []
   },
   "outputs": [],
   "source": [
    "import numpy as np\n",
    "import matplotlib.pyplot as plt\n",
    "import hist"
   ]
  },
  {
   "cell_type": "code",
   "execution_count": 2,
   "id": "8ad850f4-56db-4a56-b2a8-3dd13bdae2ac",
   "metadata": {
    "tags": []
   },
   "outputs": [],
   "source": [
    "import awkward as ak\n",
    "import vector\n",
    "vector.register_awkward()"
   ]
  },
  {
   "cell_type": "code",
   "execution_count": 3,
   "id": "d6fd0067-6e7a-42cd-9c35-6743872ea867",
   "metadata": {
    "tags": []
   },
   "outputs": [],
   "source": [
    "raw_data = ak.from_parquet(\"../data/SMHiggsToZZTo4L.parquet\")"
   ]
  },
  {
   "cell_type": "code",
   "execution_count": 4,
   "id": "490100cc-11ab-4a21-b170-4680e60eddc3",
   "metadata": {
    "tags": []
   },
   "outputs": [
    {
     "name": "stdout",
     "output_type": "stream",
     "text": [
      "[{run: 1, luminosityBlock: 156, event: 46501, PV_npvs: 15, PV_x: 0.244, ...},\n",
      " {run: 1, luminosityBlock: 156, event: 46502, PV_npvs: 13, PV_x: 0.244, ...},\n",
      " {run: 1, luminosityBlock: 156, event: 46503, PV_npvs: 11, PV_x: 0.242, ...},\n",
      " {run: 1, luminosityBlock: 156, event: 46504, PV_npvs: 22, PV_x: 0.243, ...},\n",
      " {run: 1, luminosityBlock: 156, event: 46505, PV_npvs: 18, PV_x: 0.24, ...},\n",
      " {run: 1, luminosityBlock: 156, event: 46506, PV_npvs: 5, PV_x: 0.243, ...},\n",
      " {run: 1, luminosityBlock: 156, event: 46507, PV_npvs: 11, PV_x: 0.242, ...},\n",
      " {run: 1, luminosityBlock: 156, event: 46508, PV_npvs: 25, PV_x: 0.245, ...},\n",
      " {run: 1, luminosityBlock: 156, event: 46509, PV_npvs: 12, PV_x: 0.246, ...},\n",
      " {run: 1, luminosityBlock: 156, event: 46510, PV_npvs: 18, PV_x: 0.244, ...},\n",
      " ...,\n",
      " {run: 1, luminosityBlock: 996, event: 298792, PV_npvs: 24, PV_x: 0.244, ...},\n",
      " {run: 1, luminosityBlock: 996, event: 298793, PV_npvs: 14, PV_x: 0.242, ...},\n",
      " {run: 1, luminosityBlock: 996, event: 298794, PV_npvs: 24, PV_x: 0.245, ...},\n",
      " {run: 1, luminosityBlock: 996, event: 298795, PV_npvs: 30, PV_x: 0.245, ...},\n",
      " {run: 1, luminosityBlock: 996, event: 298796, PV_npvs: 15, PV_x: 0.244, ...},\n",
      " {run: 1, luminosityBlock: 996, event: 298797, PV_npvs: 18, PV_x: 0.243, ...},\n",
      " {run: 1, luminosityBlock: 996, event: 298798, PV_npvs: 9, PV_x: 0.245, ...},\n",
      " {run: 1, luminosityBlock: 996, event: 298799, PV_npvs: 15, PV_x: 0.243, ...},\n",
      " {run: 1, luminosityBlock: 996, event: 298800, PV_npvs: 13, PV_x: 0.247, ...}]\n"
     ]
    }
   ],
   "source": [
    "raw_data.show()"
   ]
  },
  {
   "cell_type": "code",
   "execution_count": 5,
   "id": "0e9aed7c-0274-4509-bd78-6f24a11252f7",
   "metadata": {
    "tags": []
   },
   "outputs": [
    {
     "name": "stdout",
     "output_type": "stream",
     "text": [
      "299973 * {\n",
      "    run: int32,\n",
      "    luminosityBlock: int64,\n",
      "    event: uint64,\n",
      "    PV_npvs: int32,\n",
      "    PV_x: float32,\n",
      "    PV_y: float32,\n",
      "    PV_z: float32,\n",
      "    nMuon: int64,\n",
      "    Muon_pt: var * float32,\n",
      "    Muon_eta: var * float32,\n",
      "    Muon_phi: var * float32,\n",
      "    Muon_mass: var * float32,\n",
      "    Muon_charge: var * int32,\n",
      "    Muon_pfRelIso03_all: var * float32,\n",
      "    Muon_pfRelIso04_all: var * float32,\n",
      "    Muon_dxy: var * float32,\n",
      "    Muon_dxyErr: var * float32,\n",
      "    Muon_dz: var * float32,\n",
      "    Muon_dzErr: var * float32,\n",
      "    nElectron: int64,\n",
      "    Electron_pt: var * float32,\n",
      "    Electron_eta: var * float32,\n",
      "    Electron_phi: var * float32,\n",
      "    Electron_mass: var * float32,\n",
      "    Electron_charge: var * int32,\n",
      "    Electron_pfRelIso03_all: var * float32,\n",
      "    Electron_dxy: var * float32,\n",
      "    Electron_dxyErr: var * float32,\n",
      "    Electron_dz: var * float32,\n",
      "    Electron_dzErr: var * float32,\n",
      "    MET_pt: float32,\n",
      "    MET_phi: float32\n",
      "}\n"
     ]
    }
   ],
   "source": [
    "raw_data.type.show()"
   ]
  },
  {
   "cell_type": "markdown",
   "id": "d1df6d44-a304-4a37-9432-11817e4dc4bc",
   "metadata": {},
   "source": [
    "<br><br><br><br><br>"
   ]
  },
  {
   "cell_type": "markdown",
   "id": "95c57dab-f513-447a-96eb-7f34a28a8efd",
   "metadata": {},
   "source": [
    "### Reformatting for more object-oriented arrays"
   ]
  },
  {
   "cell_type": "markdown",
   "id": "7da07ac4-92c6-4f1a-95b3-cdc7faae851a",
   "metadata": {},
   "source": [
    "Vector requires arrays to be formatted with fields named `pt`, `phi`, `eta`, `mass` with name `\"Momentum4D\"`. [ak.zip](https://awkward-array.readthedocs.io/en/latest/_auto/ak.zip.html) can do that.\n",
    "\n",
    "They don't need `charge` or isolation variables, but having extra fields is not a problem."
   ]
  },
  {
   "cell_type": "code",
   "execution_count": 6,
   "id": "0bbf97c8-04fe-4ca6-bc00-9ad5888a3d2d",
   "metadata": {
    "tags": []
   },
   "outputs": [
    {
     "data": {
      "text/html": [
       "<pre>[{PV: {x: 0.244, y: 0.394, z: 1.45}, muons: [{...}, ...], electrons: [], ...},\n",
       " {PV: {x: 0.244, y: 0.395, z: ..., ...}, muons: [], electrons: [...], ...},\n",
       " {PV: {x: 0.242, y: 0.395, z: 1.87}, muons: [], electrons: [...], ...},\n",
       " {PV: {x: 0.243, y: 0.393, z: ..., ...}, muons: [{...}, ...], ...},\n",
       " {PV: {x: 0.24, y: 0.391, z: 7.06}, muons: [], electrons: [...], MET: ..., ...},\n",
       " {PV: {x: 0.243, y: 0.392, z: ..., ...}, muons: [{...}, ...], ...},\n",
       " {PV: {x: 0.242, y: 0.391, z: ..., ...}, muons: [{...}], electrons: ..., ...},\n",
       " {PV: {x: 0.245, y: 0.391, z: ..., ...}, muons: [], electrons: [{...}], ...},\n",
       " {PV: {x: 0.246, y: 0.391, z: 3.01}, muons: [], electrons: [...], ...},\n",
       " {PV: {x: 0.244, y: 0.395, z: 1.41}, muons: [], electrons: [], MET: {...}},\n",
       " ...,\n",
       " {PV: {x: 0.244, y: 0.394, z: ..., ...}, muons: [{...}, ...], ...},\n",
       " {PV: {x: 0.242, y: 0.394, z: ..., ...}, muons: [{...}, ...], ...},\n",
       " {PV: {x: 0.245, y: 0.394, z: ..., ...}, muons: [{...}, ...], ...},\n",
       " {PV: {x: 0.245, y: 0.391, z: ..., ...}, muons: [], electrons: [...], ...},\n",
       " {PV: {x: 0.244, y: 0.392, z: 3.78}, muons: [{...}, ...], electrons: [], ...},\n",
       " {PV: {x: 0.243, y: 0.393, z: ..., ...}, muons: [{...}, ...], ...},\n",
       " {PV: {x: 0.245, y: 0.391, z: 2.06}, muons: [{...}, ...], electrons: [], ...},\n",
       " {PV: {x: 0.243, y: 0.389, z: 5.05}, muons: [], electrons: [...], ...},\n",
       " {PV: {x: 0.247, y: 0.392, z: 6.52}, muons: [], electrons: [...], ...}]\n",
       "--------------------------------------------------------------------------------\n",
       "type: 299973 * {\n",
       "    PV: Vector3D[\n",
       "        x: float32,\n",
       "        y: float32,\n",
       "        z: float32\n",
       "    ],\n",
       "    muons: var * Momentum4D[\n",
       "        pt: float32,\n",
       "        phi: float32,\n",
       "        eta: float32,\n",
       "        mass: float32,\n",
       "        charge: int32,\n",
       "        pfRelIso03: float32,\n",
       "        pfRelIso04: float32\n",
       "    ],\n",
       "    electrons: var * Momentum4D[\n",
       "        pt: float32,\n",
       "        phi: float32,\n",
       "        eta: float32,\n",
       "        mass: float32,\n",
       "        charge: int32,\n",
       "        pfRelIso03: float32\n",
       "    ],\n",
       "    MET: Momentum2D[\n",
       "        pt: float32,\n",
       "        phi: float32\n",
       "    ]\n",
       "}</pre>"
      ],
      "text/plain": [
       "<Array [{PV: {...}, muons: [...], ...}, ...] type='299973 * {PV: Vector3D[x...'>"
      ]
     },
     "execution_count": 6,
     "metadata": {},
     "output_type": "execute_result"
    }
   ],
   "source": [
    "events = ak.zip({\n",
    "    \"PV\": ak.zip({\n",
    "        \"x\": raw_data[\"PV_x\"],\n",
    "        \"y\": raw_data[\"PV_y\"],\n",
    "        \"z\": raw_data[\"PV_z\"],\n",
    "    }, with_name=\"Vector3D\"),\n",
    "    \"muons\": ak.zip({\n",
    "        \"pt\": raw_data[\"Muon_pt\"],\n",
    "        \"phi\": raw_data[\"Muon_phi\"],\n",
    "        \"eta\": raw_data[\"Muon_eta\"],\n",
    "        \"mass\": raw_data[\"Muon_mass\"],\n",
    "        \"charge\": raw_data[\"Muon_charge\"],\n",
    "        \"pfRelIso03\": raw_data[\"Muon_pfRelIso03_all\"],\n",
    "        \"pfRelIso04\": raw_data[\"Muon_pfRelIso04_all\"],\n",
    "    }, with_name=\"Momentum4D\"),\n",
    "    \"electrons\": ak.zip({\n",
    "        \"pt\": raw_data[\"Electron_pt\"],\n",
    "        \"phi\": raw_data[\"Electron_phi\"],\n",
    "        \"eta\": raw_data[\"Electron_eta\"],\n",
    "        \"mass\": raw_data[\"Electron_mass\"],\n",
    "        \"charge\": raw_data[\"Electron_charge\"],\n",
    "        \"pfRelIso03\": raw_data[\"Electron_pfRelIso03_all\"],\n",
    "    }, with_name=\"Momentum4D\"),\n",
    "    \"MET\": ak.zip({\n",
    "        \"pt\": raw_data[\"MET_pt\"],\n",
    "        \"phi\": raw_data[\"MET_phi\"],\n",
    "    }, with_name=\"Momentum2D\"),\n",
    "}, depth_limit=1)\n",
    "\n",
    "events"
   ]
  },
  {
   "cell_type": "markdown",
   "id": "a9be1358-ef57-4610-bc90-67cd42f54537",
   "metadata": {},
   "source": [
    "<br><br><br><br><br>"
   ]
  },
  {
   "cell_type": "markdown",
   "id": "72d0af01-0d3e-4852-b836-d75db0c8fb69",
   "metadata": {},
   "source": [
    "With `.show()`, we can get a sense of the structure of the events."
   ]
  },
  {
   "cell_type": "code",
   "execution_count": 7,
   "id": "02f19571-2329-41f4-90f0-951da8a89bfc",
   "metadata": {
    "tags": []
   },
   "outputs": [
    {
     "name": "stdout",
     "output_type": "stream",
     "text": [
      "[{PV: {x: 0.244, y: 0.394, z: 1.45}, muons: [{...}, ...], electrons: [], ...},\n",
      " {PV: {x: 0.244, y: 0.395, z: ..., ...}, muons: [], electrons: [...], ...},\n",
      " {PV: {x: 0.242, y: 0.395, z: 1.87}, muons: [], electrons: [...], ...},\n",
      " {PV: {x: 0.243, y: 0.393, z: ..., ...}, muons: [{...}, ...], ...},\n",
      " {PV: {x: 0.24, y: 0.391, z: 7.06}, muons: [], electrons: [...], MET: ..., ...},\n",
      " {PV: {x: 0.243, y: 0.392, z: ..., ...}, muons: [{...}, ...], ...},\n",
      " {PV: {x: 0.242, y: 0.391, z: ..., ...}, muons: [{...}], electrons: ..., ...},\n",
      " {PV: {x: 0.245, y: 0.391, z: ..., ...}, muons: [], electrons: [{...}], ...},\n",
      " {PV: {x: 0.246, y: 0.391, z: 3.01}, muons: [], electrons: [...], ...},\n",
      " {PV: {x: 0.244, y: 0.395, z: 1.41}, muons: [], electrons: [], MET: {...}},\n",
      " ...,\n",
      " {PV: {x: 0.244, y: 0.394, z: ..., ...}, muons: [{...}, ...], ...},\n",
      " {PV: {x: 0.242, y: 0.394, z: ..., ...}, muons: [{...}, ...], ...},\n",
      " {PV: {x: 0.245, y: 0.394, z: ..., ...}, muons: [{...}, ...], ...},\n",
      " {PV: {x: 0.245, y: 0.391, z: ..., ...}, muons: [], electrons: [...], ...},\n",
      " {PV: {x: 0.244, y: 0.392, z: 3.78}, muons: [{...}, ...], electrons: [], ...},\n",
      " {PV: {x: 0.243, y: 0.393, z: ..., ...}, muons: [{...}, ...], ...},\n",
      " {PV: {x: 0.245, y: 0.391, z: 2.06}, muons: [{...}, ...], electrons: [], ...},\n",
      " {PV: {x: 0.243, y: 0.389, z: 5.05}, muons: [], electrons: [...], ...},\n",
      " {PV: {x: 0.247, y: 0.392, z: 6.52}, muons: [], electrons: [...], ...}]\n"
     ]
    }
   ],
   "source": [
    "events.show()"
   ]
  },
  {
   "cell_type": "markdown",
   "id": "fd5b376a-7891-46e5-a1f3-9851ea0a7f22",
   "metadata": {},
   "source": [
    "<br><br><br><br><br>"
   ]
  },
  {
   "cell_type": "markdown",
   "id": "efaebd12-e329-4413-8a56-ffe79866c161",
   "metadata": {},
   "source": [
    "### Vector calculations and plotting"
   ]
  },
  {
   "cell_type": "markdown",
   "id": "f0408f5f-9348-402d-b362-f69069088537",
   "metadata": {},
   "source": [
    "Since we have called `vector.register_awkward()` and named these records `\"Momentum4D\"`, they also have a momentum interpretation."
   ]
  },
  {
   "cell_type": "code",
   "execution_count": 8,
   "id": "7cf30245-91be-4d26-ba66-d642cb4d937e",
   "metadata": {
    "tags": []
   },
   "outputs": [
    {
     "data": {
      "text/html": [
       "<pre>[[],\n",
       " [21.9, 42.6, 78, 23.8],\n",
       " [11.6, 6.69],\n",
       " [10.4],\n",
       " [30.7, 29.2, 6.38, 6.24],\n",
       " [16.1],\n",
       " [5.32],\n",
       " [6.99],\n",
       " [41, 6.5, 13.1, 52.1],\n",
       " [],\n",
       " ...,\n",
       " [19.1, 9.69],\n",
       " [30.2],\n",
       " [],\n",
       " [37, 7.36, 48],\n",
       " [],\n",
       " [12.3],\n",
       " [],\n",
       " [17.9, 23.2],\n",
       " [48.1, 38.7]]\n",
       "----------------------------\n",
       "type: 299973 * var * float32</pre>"
      ],
      "text/plain": [
       "<Array [[], [21.9, ..., 23.8], ..., [48.1, 38.7]] type='299973 * var * float32'>"
      ]
     },
     "execution_count": 8,
     "metadata": {},
     "output_type": "execute_result"
    }
   ],
   "source": [
    "events.electrons.pt   # this is one of the fields (returned as-is)"
   ]
  },
  {
   "cell_type": "code",
   "execution_count": 9,
   "id": "a2c4a95e-23e8-46c3-813d-2cf34d167a0e",
   "metadata": {
    "tags": []
   },
   "outputs": [
    {
     "data": {
      "text/html": [
       "<pre>[[],\n",
       " [-16.7, -48.8, -83.9, -43.5],\n",
       " [-11.1, 26],\n",
       " [-0.237],\n",
       " [-19.9, 47.5, -18, -15.1],\n",
       " [5.58],\n",
       " [-3.22],\n",
       " [3.88],\n",
       " [-8.92, -10.5, -23.8, -17.3],\n",
       " [],\n",
       " ...,\n",
       " [26.4, 19.1],\n",
       " [92.2],\n",
       " [],\n",
       " [-193, -2.78, -43.4],\n",
       " [],\n",
       " [-3.4],\n",
       " [],\n",
       " [80.1, 99.3],\n",
       " [26.8, 74]]\n",
       "------------------------------\n",
       "type: 299973 * var * float32</pre>"
      ],
      "text/plain": [
       "<Array [[], [-16.7, ..., -43.5], ..., [26.8, 74]] type='299973 * var * float32'>"
      ]
     },
     "execution_count": 9,
     "metadata": {},
     "output_type": "execute_result"
    }
   ],
   "source": [
    "events.electrons.pz   # this is in a different coordinate system (computed)"
   ]
  },
  {
   "cell_type": "code",
   "execution_count": 10,
   "id": "c01f2388-2444-4b24-9063-e71e6f89f7db",
   "metadata": {
    "tags": []
   },
   "outputs": [
    {
     "data": {
      "image/png": "[encoded data removed]",
      "text/plain": [
       "<Figure size 640x480 with 1 Axes>"
      ]
     },
     "metadata": {},
     "output_type": "display_data"
    }
   ],
   "source": [
    "hist.Hist.new.Regular(100, 0, 0.2).Double().fill(ak.ravel(events.muons.mass)).plot();     # one of the fields"
   ]
  },
  {
   "cell_type": "code",
   "execution_count": 11,
   "id": "ba4afe22-8a02-4087-8f4e-34ec912245d7",
   "metadata": {
    "tags": []
   },
   "outputs": [
    {
     "data": {
      "image/png": "[encoded data removed]",
      "text/plain": [
       "<Figure size 640x480 with 1 Axes>"
      ]
     },
     "metadata": {},
     "output_type": "display_data"
    }
   ],
   "source": [
    "hist.Hist.new.Regular(100, 0, 300).Double().fill(ak.ravel(events.muons.energy)).plot();   # computed"
   ]
  },
  {
   "cell_type": "markdown",
   "id": "3415483c-e25f-46b2-be0d-565d654827c7",
   "metadata": {},
   "source": [
    "<br><br><br><br><br>\n",
    "\n",
    "Also added PV (primary vertexes) and MET (missing energy).\n",
    "\n",
    "The primary vertexes are geometric, not momentum, so you have to say `x` instead of `px`, `rho` instead of `pt`, etc."
   ]
  },
  {
   "cell_type": "code",
   "execution_count": 12,
   "id": "fcf8a8c0-08d1-4237-aae2-e5aabd52caab",
   "metadata": {
    "tags": []
   },
   "outputs": [
    {
     "data": {
      "text/plain": [
       "(<Array [-20.1, -16.3, -10.7, ..., -5.53, -9.41, -1.04] type='299973 * float32'>,\n",
       " <Array [-8.77, 4.6, -15.8, ..., 16.8, -22.1, 12.9] type='299973 * float32'>)"
      ]
     },
     "execution_count": 12,
     "metadata": {},
     "output_type": "execute_result"
    }
   ],
   "source": [
    "events.MET.px, events.MET.py"
   ]
  },
  {
   "cell_type": "code",
   "execution_count": 13,
   "id": "bad78144-6236-406d-8274-0b7b05c0104c",
   "metadata": {
    "tags": []
   },
   "outputs": [
    {
     "data": {
      "text/html": [
       "<pre>[0.463,\n",
       " 0.465,\n",
       " 0.464,\n",
       " 0.462,\n",
       " 0.459,\n",
       " 0.461,\n",
       " 0.46,\n",
       " 0.461,\n",
       " 0.462,\n",
       " 0.464,\n",
       " ...,\n",
       " 0.464,\n",
       " 0.462,\n",
       " 0.464,\n",
       " 0.461,\n",
       " 0.462,\n",
       " 0.462,\n",
       " 0.462,\n",
       " 0.459,\n",
       " 0.463]\n",
       "----------------------\n",
       "type: 299973 * float32</pre>"
      ],
      "text/plain": [
       "<Array [0.463, 0.465, 0.464, ..., 0.462, 0.459, 0.463] type='299973 * float32'>"
      ]
     },
     "execution_count": 13,
     "metadata": {},
     "output_type": "execute_result"
    }
   ],
   "source": [
    "events.PV.rho"
   ]
  },
  {
   "cell_type": "code",
   "execution_count": 14,
   "id": "32f1722e-cce8-498f-9b17-132be4bb3f94",
   "metadata": {
    "tags": []
   },
   "outputs": [
    {
     "data": {
      "text/html": [
       "<pre>[1.52,\n",
       " 2.92,\n",
       " 1.92,\n",
       " 7.9,\n",
       " 7.08,\n",
       " 4.67,\n",
       " 8.32,\n",
       " 5.51,\n",
       " 3.04,\n",
       " 1.49,\n",
       " ...,\n",
       " 0.622,\n",
       " 2.81,\n",
       " 1.9,\n",
       " 0.98,\n",
       " 3.81,\n",
       " 2.3,\n",
       " 2.11,\n",
       " 5.07,\n",
       " 6.53]\n",
       "----------------------\n",
       "type: 299973 * float32</pre>"
      ],
      "text/plain": [
       "<Array [1.52, 2.92, 1.92, 7.9, ..., 2.11, 5.07, 6.53] type='299973 * float32'>"
      ]
     },
     "execution_count": 14,
     "metadata": {},
     "output_type": "execute_result"
    }
   ],
   "source": [
    "abs(events.PV)"
   ]
  },
  {
   "cell_type": "code",
   "execution_count": 15,
   "id": "27e83ef4-3a96-4d6a-b224-47edbb537cf0",
   "metadata": {
    "tags": []
   },
   "outputs": [
    {
     "data": {
      "text/plain": [
       "(0.24391455647674956, 0.3925532985468692, 0.41964240323295765)"
      ]
     },
     "execution_count": 15,
     "metadata": {},
     "output_type": "execute_result"
    }
   ],
   "source": [
    "beamspot_x, beamspot_y, beamspot_z = ak.mean(events.PV.x), ak.mean(events.PV.y), ak.mean(events.PV.z)\n",
    "beamspot_x, beamspot_y, beamspot_z"
   ]
  },
  {
   "cell_type": "code",
   "execution_count": 16,
   "id": "6999aa3f-060f-4caf-b739-24a99cf7d01b",
   "metadata": {
    "tags": []
   },
   "outputs": [
    {
     "data": {
      "text/html": [
       "<pre>[{x: -0.000216, y: 0.00115, z: 1.03},\n",
       " {x: 0.000364, y: 0.00271, z: -3.3},\n",
       " {x: -0.00148, y: 0.00254, z: 1.45},\n",
       " {x: -0.000714, y: 0.000539, z: -8.3},\n",
       " {x: -0.00348, y: -0.00118, z: 6.64},\n",
       " {x: -0.000756, y: -0.000648, z: -5.07},\n",
       " {x: -0.00155, y: -0.00174, z: -8.73},\n",
       " {x: 0.00154, y: -0.00203, z: -5.91},\n",
       " {x: 0.00173, y: -0.00105, z: 2.59},\n",
       " {x: 0.000388, y: 0.00219, z: 0.992},\n",
       " ...,\n",
       " {x: 0.000394, y: 0.00187, z: -0.00554},\n",
       " {x: -0.00168, y: 0.00142, z: -3.19},\n",
       " {x: 0.000645, y: 0.00138, z: -2.26},\n",
       " {x: 0.00135, y: -0.00164, z: -1.28},\n",
       " {x: -0.000253, y: -0.0005, z: 3.36},\n",
       " {x: -0.00118, y: 0.000792, z: -2.67},\n",
       " {x: 0.001, y: -0.00133, z: 1.64},\n",
       " {x: -0.000979, y: -0.00312, z: 4.63},\n",
       " {x: 0.00312, y: -0.000621, z: 6.1}]\n",
       "----------------------------------------\n",
       "type: 299973 * Vector3D[\n",
       "    x: float32,\n",
       "    y: float32,\n",
       "    z: float32\n",
       "]</pre>"
      ],
      "text/plain": [
       "<VectorArray3D [{x: -0.000216, y: 0.00115, ...}, ...] type='299973 * Vector...'>"
      ]
     },
     "execution_count": 16,
     "metadata": {},
     "output_type": "execute_result"
    }
   ],
   "source": [
    "beamspot_PV = ak.zip({\n",
    "    \"x\": events.PV.x - beamspot_x,\n",
    "    \"y\": events.PV.y - beamspot_y,\n",
    "    \"z\": events.PV.z - beamspot_z,\n",
    "}, with_name=\"Vector3D\")\n",
    "beamspot_PV"
   ]
  },
  {
   "cell_type": "markdown",
   "id": "3a9d1e74-6dd6-4b97-97f3-cfb56e69813f",
   "metadata": {},
   "source": [
    "<br><br><br><br><br>\n",
    "\n",
    "You can add new columns to an existing array of records..."
   ]
  },
  {
   "cell_type": "code",
   "execution_count": 17,
   "id": "8a28c847-121c-405d-86c1-53bd59fbd390",
   "metadata": {
    "tags": []
   },
   "outputs": [],
   "source": [
    "events[\"beamspot_PV\"] = beamspot_PV"
   ]
  },
  {
   "cell_type": "code",
   "execution_count": 18,
   "id": "4ff5adb3-d7b0-4d6b-a635-7ae83c7429ba",
   "metadata": {
    "tags": []
   },
   "outputs": [
    {
     "data": {
      "text/plain": [
       "{'PV': {'x': 0.24369880557060242,\n",
       "  'y': 0.3936990201473236,\n",
       "  'z': 1.451307773590088},\n",
       " 'muons': [{'pt': 63.04386901855469,\n",
       "   'phi': 2.968005895614624,\n",
       "   'eta': -0.7186822295188904,\n",
       "   'mass': 0.10565836727619171,\n",
       "   'charge': 1,\n",
       "   'pfRelIso03': 0.0,\n",
       "   'pfRelIso04': 0.0},\n",
       "  {'pt': 38.12034606933594,\n",
       "   'phi': -1.0324749946594238,\n",
       "   'eta': -0.8794569969177246,\n",
       "   'mass': 0.10565836727619171,\n",
       "   'charge': -1,\n",
       "   'pfRelIso03': 0.0,\n",
       "   'pfRelIso04': 0.0},\n",
       "  {'pt': 4.04868745803833,\n",
       "   'phi': 1.0385035276412964,\n",
       "   'eta': -0.320764422416687,\n",
       "   'mass': 0.10565836727619171,\n",
       "   'charge': 1,\n",
       "   'pfRelIso03': 0.0,\n",
       "   'pfRelIso04': 0.17997965216636658}],\n",
       " 'electrons': [],\n",
       " 'MET': {'pt': 21.929929733276367, 'phi': -2.7301223278045654},\n",
       " 'beamspot_PV': {'x': -0.00021575391292572021,\n",
       "  'y': 0.0011457204818725586,\n",
       "  'z': 1.031665325164795}}"
      ]
     },
     "execution_count": 18,
     "metadata": {},
     "output_type": "execute_result"
    }
   ],
   "source": [
    "events[0].tolist()"
   ]
  },
  {
   "cell_type": "markdown",
   "id": "fb644ff8-1b27-48a7-ae93-c6f4b91f03b3",
   "metadata": {},
   "source": [
    "...but you usually don't have to.\n",
    "\n",
    "It would have been just as easy to work with `events` and `beamspot_PV` as separate Python variables.\n",
    "\n",
    "Unless you want to make sure that a cut is applied to each (and don't want to slice both `events` and `beamspot_PV` separately)."
   ]
  },
  {
   "cell_type": "code",
   "execution_count": 19,
   "id": "311b5120-af91-4697-8281-070b19191904",
   "metadata": {
    "tags": []
   },
   "outputs": [
    {
     "data": {
      "image/png": "[encoded data removed]",
      "text/plain": [
       "<Figure size 640x480 with 1 Axes>"
      ]
     },
     "metadata": {},
     "output_type": "display_data"
    }
   ],
   "source": [
    "hist.Hist.new.Regular(100, 0, 0.03).Double().fill(beamspot_PV.rho).plot();"
   ]
  },
  {
   "cell_type": "code",
   "execution_count": 20,
   "id": "8a710bf1-eb99-4cb5-9a49-42c9e53a4bb4",
   "metadata": {
    "tags": []
   },
   "outputs": [
    {
     "data": {
      "text/html": [
       "<pre>[True,\n",
       " True,\n",
       " True,\n",
       " True,\n",
       " True,\n",
       " True,\n",
       " True,\n",
       " True,\n",
       " True,\n",
       " True,\n",
       " ...,\n",
       " True,\n",
       " True,\n",
       " True,\n",
       " True,\n",
       " True,\n",
       " True,\n",
       " True,\n",
       " True,\n",
       " True]\n",
       "-------------------\n",
       "type: 299973 * bool</pre>"
      ],
      "text/plain": [
       "<Array [True, True, True, True, ..., True, True, True] type='299973 * bool'>"
      ]
     },
     "execution_count": 20,
     "metadata": {},
     "output_type": "execute_result"
    }
   ],
   "source": [
    "beamspot_PV.rho < 0.008"
   ]
  },
  {
   "cell_type": "code",
   "execution_count": 21,
   "id": "9401bc7f-732b-4ed7-9029-3d512d524eb3",
   "metadata": {
    "tags": []
   },
   "outputs": [
    {
     "data": {
      "text/html": [
       "<pre>[{PV: {x: 0.244, y: 0.394, z: 1.45}, muons: [{...}, ...], electrons: [], ...},\n",
       " {PV: {x: 0.244, y: 0.395, z: ..., ...}, muons: [], electrons: [...], ...},\n",
       " {PV: {x: 0.242, y: 0.395, z: 1.87}, muons: [], electrons: [...], ...},\n",
       " {PV: {x: 0.243, y: 0.393, z: ..., ...}, muons: [{...}, ...], ...},\n",
       " {PV: {x: 0.24, y: 0.391, z: 7.06}, muons: [], electrons: [...], MET: ..., ...},\n",
       " {PV: {x: 0.243, y: 0.392, z: ..., ...}, muons: [{...}, ...], ...},\n",
       " {PV: {x: 0.242, y: 0.391, z: ..., ...}, muons: [{...}], electrons: ..., ...},\n",
       " {PV: {x: 0.245, y: 0.391, z: ..., ...}, muons: [], electrons: [{...}], ...},\n",
       " {PV: {x: 0.246, y: 0.391, z: 3.01}, muons: [], electrons: [...], ...},\n",
       " {PV: {x: 0.244, y: 0.395, z: 1.41}, muons: [], electrons: [], MET: {...}, ...},\n",
       " ...,\n",
       " {PV: {x: 0.244, y: 0.394, z: ..., ...}, muons: [{...}, ...], ...},\n",
       " {PV: {x: 0.242, y: 0.394, z: ..., ...}, muons: [{...}, ...], ...},\n",
       " {PV: {x: 0.245, y: 0.394, z: ..., ...}, muons: [{...}, ...], ...},\n",
       " {PV: {x: 0.245, y: 0.391, z: ..., ...}, muons: [], electrons: [...], ...},\n",
       " {PV: {x: 0.244, y: 0.392, z: 3.78}, muons: [{...}, ...], electrons: [], ...},\n",
       " {PV: {x: 0.243, y: 0.393, z: ..., ...}, muons: [{...}, ...], ...},\n",
       " {PV: {x: 0.245, y: 0.391, z: 2.06}, muons: [{...}, ...], electrons: [], ...},\n",
       " {PV: {x: 0.243, y: 0.389, z: 5.05}, muons: [], electrons: [...], ...},\n",
       " {PV: {x: 0.247, y: 0.392, z: 6.52}, muons: [], electrons: [...], ...}]\n",
       "--------------------------------------------------------------------------------\n",
       "type: 295935 * {\n",
       "    PV: Vector3D[\n",
       "        x: float32,\n",
       "        y: float32,\n",
       "        z: float32\n",
       "    ],\n",
       "    muons: var * Momentum4D[\n",
       "        pt: float32,\n",
       "        phi: float32,\n",
       "        eta: float32,\n",
       "        mass: float32,\n",
       "        charge: int32,\n",
       "        pfRelIso03: float32,\n",
       "        pfRelIso04: float32\n",
       "    ],\n",
       "    electrons: var * Momentum4D[\n",
       "        pt: float32,\n",
       "        phi: float32,\n",
       "        eta: float32,\n",
       "        mass: float32,\n",
       "        charge: int32,\n",
       "        pfRelIso03: float32\n",
       "    ],\n",
       "    MET: Momentum2D[\n",
       "        pt: float32,\n",
       "        phi: float32\n",
       "    ],\n",
       "    beamspot_PV: Vector3D[\n",
       "        x: float32,\n",
       "        y: float32,\n",
       "        z: float32\n",
       "    ]\n",
       "}</pre>"
      ],
      "text/plain": [
       "<Array [{PV: {...}, muons: [...], ...}, ...] type='295935 * {PV: Vector3D[x...'>"
      ]
     },
     "execution_count": 21,
     "metadata": {},
     "output_type": "execute_result"
    }
   ],
   "source": [
    "events[beamspot_PV.rho < 0.008]"
   ]
  },
  {
   "cell_type": "markdown",
   "id": "4ac89998-ad19-4ccb-824d-0030d725a22b",
   "metadata": {},
   "source": [
    "The above selected all fields in `events`. With `events` and `beamspot_PV` as separate arrays, they'd have to both be sliced."
   ]
  },
  {
   "cell_type": "markdown",
   "id": "716fad4b-8cb4-4665-885c-0b7a00d230b4",
   "metadata": {},
   "source": [
    "<br><br><br><br><br>"
   ]
  },
  {
   "cell_type": "code",
   "execution_count": 22,
   "id": "c1559313-ee25-4c12-a61e-5e61b74937d2",
   "metadata": {
    "tags": []
   },
   "outputs": [
    {
     "data": {
      "text/html": [
       "<pre>[[{pt: 63, phi: 2.97, eta: -0.719, mass: 0.106, charge: 1, ...}, ..., {...}],\n",
       " [],\n",
       " [],\n",
       " [{pt: 54.3, phi: -0.362, eta: -1.06, mass: 0.106, charge: 1, ...}, ..., {...}],\n",
       " [],\n",
       " [{pt: 38.5, phi: 2.05, eta: 0.315, mass: 0.106, charge: -1, ...}, {...}],\n",
       " [{pt: 4.45, phi: 1.12, eta: -0.986, mass: 0.106, charge: 1, ...}],\n",
       " [],\n",
       " [],\n",
       " [],\n",
       " ...,\n",
       " [{pt: 37.2, phi: -0.875, eta: 1.1, mass: 0.106, charge: -1, ...}, {...}],\n",
       " [{pt: 43.2, phi: -1.3, eta: 2.15, mass: 0.106, charge: 1, ...}, {...}],\n",
       " [{pt: 24.2, phi: -0.997, eta: 0.327, mass: 0.106, charge: -1, ...}, ...],\n",
       " [],\n",
       " [{pt: 9.81, phi: 1.66, eta: 2.07, mass: 0.106, charge: 1, ...}, {...}],\n",
       " [{pt: 32.6, phi: -0.981, eta: 1.11, mass: 0.106, charge: 1, ...}, {...}],\n",
       " [{pt: 4.32, phi: 0.988, eta: -2.09, mass: 0.106, charge: 1, ...}, ..., {...}],\n",
       " [],\n",
       " []]\n",
       "--------------------------------------------------------------------------------\n",
       "type: 299973 * var * Momentum4D[\n",
       "    pt: float32,\n",
       "    phi: float32,\n",
       "    eta: float32,\n",
       "    mass: float32,\n",
       "    charge: int32,\n",
       "    pfRelIso03: float32,\n",
       "    pfRelIso04: float32\n",
       "]</pre>"
      ],
      "text/plain": [
       "<MomentumArray4D [[{pt: 63, phi: 2.97, ...}, ...], ...] type='299973 * var ...'>"
      ]
     },
     "execution_count": 22,
     "metadata": {},
     "output_type": "execute_result"
    }
   ],
   "source": [
    "events.muons"
   ]
  },
  {
   "cell_type": "markdown",
   "id": "c7c89296-6bca-4108-8693-22b683836fcf",
   "metadata": {},
   "source": [
    "### Combinatorics"
   ]
  },
  {
   "cell_type": "markdown",
   "id": "842289a9-1808-4b2a-b514-2c4bbf84034d",
   "metadata": {},
   "source": [
    "It's possible to use slices to pick the first and second muon of each event..."
   ]
  },
  {
   "cell_type": "code",
   "execution_count": 23,
   "id": "d7262c51-fbc6-4092-917c-cd51d1b0c370",
   "metadata": {
    "tags": [
     "raises-exception"
    ]
   },
   "outputs": [
    {
     "ename": "IndexError",
     "evalue": "cannot slice ListArray (of length 299973) with array(0): index out of range while attempting to get index 0 (in compiled code: https://github.com/scikit-hep/awkward/blob/awkward-cpp-21/awkward-cpp/src/cpu-kernels/awkward_NumpyArray_getitem_next_at.cpp#L21)\n\nThis error occurred while attempting to slice\n\n    <MomentumArray4D [[{pt: 63, phi: 2.97, ...}, ...], ...] type='299973 * ...'>\n\nwith\n\n    (:, 0)",
     "output_type": "error",
     "traceback": [
      "\u001b[0;31m---------------------------------------------------------------------------\u001b[0m",
      "\u001b[0;31mIndexError\u001b[0m                                Traceback (most recent call last)",
      "File \u001b[0;32m~/opt/anaconda3/envs/columnar-data-analysis-codas-hep-2023/lib/python3.10/site-packages/awkward/highlevel.py:946\u001b[0m, in \u001b[0;36mArray.__getitem__\u001b[0;34m(self, where)\u001b[0m\n\u001b[1;32m    944\u001b[0m \u001b[38;5;28;01mwith\u001b[39;00m ak\u001b[38;5;241m.\u001b[39m_errors\u001b[38;5;241m.\u001b[39mSlicingErrorContext(\u001b[38;5;28mself\u001b[39m, where):\n\u001b[1;32m    945\u001b[0m     \u001b[38;5;28;01mreturn\u001b[39;00m wrap_layout(\n\u001b[0;32m--> 946\u001b[0m         prepare_layout(\u001b[38;5;28;43mself\u001b[39;49m\u001b[38;5;241;43m.\u001b[39;49m\u001b[43m_layout\u001b[49m\u001b[43m[\u001b[49m\u001b[43mwhere\u001b[49m\u001b[43m]\u001b[49m), \u001b[38;5;28mself\u001b[39m\u001b[38;5;241m.\u001b[39m_behavior, allow_other\u001b[38;5;241m=\u001b[39m\u001b[38;5;28;01mTrue\u001b[39;00m\n\u001b[1;32m    947\u001b[0m     )\n",
      "File \u001b[0;32m~/opt/anaconda3/envs/columnar-data-analysis-codas-hep-2023/lib/python3.10/site-packages/awkward/contents/content.py:525\u001b[0m, in \u001b[0;36mContent.__getitem__\u001b[0;34m(self, where)\u001b[0m\n\u001b[1;32m    524\u001b[0m \u001b[38;5;28;01mdef\u001b[39;00m \u001b[38;5;21m__getitem__\u001b[39m(\u001b[38;5;28mself\u001b[39m, where):\n\u001b[0;32m--> 525\u001b[0m     \u001b[38;5;28;01mreturn\u001b[39;00m \u001b[38;5;28;43mself\u001b[39;49m\u001b[38;5;241;43m.\u001b[39;49m\u001b[43m_getitem\u001b[49m\u001b[43m(\u001b[49m\u001b[43mwhere\u001b[49m\u001b[43m)\u001b[49m\n",
      "File \u001b[0;32m~/opt/anaconda3/envs/columnar-data-analysis-codas-hep-2023/lib/python3.10/site-packages/awkward/contents/content.py:570\u001b[0m, in \u001b[0;36mContent._getitem\u001b[0;34m(self, where)\u001b[0m\n\u001b[1;32m    563\u001b[0m \u001b[38;5;28mnext\u001b[39m \u001b[38;5;241m=\u001b[39m ak\u001b[38;5;241m.\u001b[39mcontents\u001b[38;5;241m.\u001b[39mRegularArray(\n\u001b[1;32m    564\u001b[0m     this,\n\u001b[1;32m    565\u001b[0m     this\u001b[38;5;241m.\u001b[39mlength,\n\u001b[1;32m    566\u001b[0m     \u001b[38;5;241m1\u001b[39m,\n\u001b[1;32m    567\u001b[0m     parameters\u001b[38;5;241m=\u001b[39m\u001b[38;5;28;01mNone\u001b[39;00m,\n\u001b[1;32m    568\u001b[0m )\n\u001b[0;32m--> 570\u001b[0m out \u001b[38;5;241m=\u001b[39m \u001b[38;5;28;43mnext\u001b[39;49m\u001b[38;5;241;43m.\u001b[39;49m\u001b[43m_getitem_next\u001b[49m\u001b[43m(\u001b[49m\u001b[43mnextwhere\u001b[49m\u001b[43m[\u001b[49m\u001b[38;5;241;43m0\u001b[39;49m\u001b[43m]\u001b[49m\u001b[43m,\u001b[49m\u001b[43m \u001b[49m\u001b[43mnextwhere\u001b[49m\u001b[43m[\u001b[49m\u001b[38;5;241;43m1\u001b[39;49m\u001b[43m:\u001b[49m\u001b[43m]\u001b[49m\u001b[43m,\u001b[49m\u001b[43m \u001b[49m\u001b[38;5;28;43;01mNone\u001b[39;49;00m\u001b[43m)\u001b[49m\n\u001b[1;32m    572\u001b[0m \u001b[38;5;28;01mif\u001b[39;00m out\u001b[38;5;241m.\u001b[39mlength \u001b[38;5;129;01mis\u001b[39;00m \u001b[38;5;129;01mnot\u001b[39;00m unknown_length \u001b[38;5;129;01mand\u001b[39;00m out\u001b[38;5;241m.\u001b[39mlength \u001b[38;5;241m==\u001b[39m \u001b[38;5;241m0\u001b[39m:\n",
      "File \u001b[0;32m~/opt/anaconda3/envs/columnar-data-analysis-codas-hep-2023/lib/python3.10/site-packages/awkward/contents/regulararray.py:525\u001b[0m, in \u001b[0;36mRegularArray._getitem_next\u001b[0;34m(self, head, tail, advanced)\u001b[0m\n\u001b[1;32m    521\u001b[0m \u001b[38;5;28;01mif\u001b[39;00m advanced \u001b[38;5;129;01mis\u001b[39;00m \u001b[38;5;28;01mNone\u001b[39;00m \u001b[38;5;129;01mor\u001b[39;00m (\n\u001b[1;32m    522\u001b[0m     advanced\u001b[38;5;241m.\u001b[39mlength \u001b[38;5;129;01mis\u001b[39;00m \u001b[38;5;129;01mnot\u001b[39;00m unknown_length \u001b[38;5;129;01mand\u001b[39;00m advanced\u001b[38;5;241m.\u001b[39mlength \u001b[38;5;241m==\u001b[39m \u001b[38;5;241m0\u001b[39m\n\u001b[1;32m    523\u001b[0m ):\n\u001b[1;32m    524\u001b[0m     \u001b[38;5;28;01mreturn\u001b[39;00m RegularArray(\n\u001b[0;32m--> 525\u001b[0m         \u001b[43mnextcontent\u001b[49m\u001b[38;5;241;43m.\u001b[39;49m\u001b[43m_getitem_next\u001b[49m\u001b[43m(\u001b[49m\u001b[43mnexthead\u001b[49m\u001b[43m,\u001b[49m\u001b[43m \u001b[49m\u001b[43mnexttail\u001b[49m\u001b[43m,\u001b[49m\u001b[43m \u001b[49m\u001b[43madvanced\u001b[49m\u001b[43m)\u001b[49m,\n\u001b[1;32m    526\u001b[0m         nextsize,\n\u001b[1;32m    527\u001b[0m         \u001b[38;5;28mself\u001b[39m\u001b[38;5;241m.\u001b[39m_length,\n\u001b[1;32m    528\u001b[0m         parameters\u001b[38;5;241m=\u001b[39m\u001b[38;5;28mself\u001b[39m\u001b[38;5;241m.\u001b[39m_parameters,\n\u001b[1;32m    529\u001b[0m     )\n\u001b[1;32m    530\u001b[0m \u001b[38;5;28;01melse\u001b[39;00m:\n",
      "File \u001b[0;32m~/opt/anaconda3/envs/columnar-data-analysis-codas-hep-2023/lib/python3.10/site-packages/awkward/contents/listarray.py:723\u001b[0m, in \u001b[0;36mListArray._getitem_next\u001b[0;34m(self, head, tail, advanced)\u001b[0m\n\u001b[1;32m    718\u001b[0m \u001b[38;5;28;01massert\u001b[39;00m (\n\u001b[1;32m    719\u001b[0m     nextcarry\u001b[38;5;241m.\u001b[39mnplike \u001b[38;5;129;01mis\u001b[39;00m \u001b[38;5;28mself\u001b[39m\u001b[38;5;241m.\u001b[39m_backend\u001b[38;5;241m.\u001b[39mindex_nplike\n\u001b[1;32m    720\u001b[0m     \u001b[38;5;129;01mand\u001b[39;00m \u001b[38;5;28mself\u001b[39m\u001b[38;5;241m.\u001b[39m_starts\u001b[38;5;241m.\u001b[39mnplike \u001b[38;5;129;01mis\u001b[39;00m \u001b[38;5;28mself\u001b[39m\u001b[38;5;241m.\u001b[39m_backend\u001b[38;5;241m.\u001b[39mindex_nplike\n\u001b[1;32m    721\u001b[0m     \u001b[38;5;129;01mand\u001b[39;00m \u001b[38;5;28mself\u001b[39m\u001b[38;5;241m.\u001b[39m_stops\u001b[38;5;241m.\u001b[39mnplike \u001b[38;5;129;01mis\u001b[39;00m \u001b[38;5;28mself\u001b[39m\u001b[38;5;241m.\u001b[39m_backend\u001b[38;5;241m.\u001b[39mindex_nplike\n\u001b[1;32m    722\u001b[0m )\n\u001b[0;32m--> 723\u001b[0m \u001b[38;5;28;43mself\u001b[39;49m\u001b[38;5;241;43m.\u001b[39;49m\u001b[43m_maybe_index_error\u001b[49m\u001b[43m(\u001b[49m\n\u001b[1;32m    724\u001b[0m \u001b[43m    \u001b[49m\u001b[38;5;28;43mself\u001b[39;49m\u001b[38;5;241;43m.\u001b[39;49m\u001b[43m_backend\u001b[49m\u001b[43m[\u001b[49m\n\u001b[1;32m    725\u001b[0m \u001b[43m        \u001b[49m\u001b[38;5;124;43m\"\u001b[39;49m\u001b[38;5;124;43mawkward_ListArray_getitem_next_at\u001b[39;49m\u001b[38;5;124;43m\"\u001b[39;49m\u001b[43m,\u001b[49m\n\u001b[1;32m    726\u001b[0m \u001b[43m        \u001b[49m\u001b[43mnextcarry\u001b[49m\u001b[38;5;241;43m.\u001b[39;49m\u001b[43mdtype\u001b[49m\u001b[38;5;241;43m.\u001b[39;49m\u001b[43mtype\u001b[49m\u001b[43m,\u001b[49m\n\u001b[1;32m    727\u001b[0m \u001b[43m        \u001b[49m\u001b[38;5;28;43mself\u001b[39;49m\u001b[38;5;241;43m.\u001b[39;49m\u001b[43m_starts\u001b[49m\u001b[38;5;241;43m.\u001b[39;49m\u001b[43mdtype\u001b[49m\u001b[38;5;241;43m.\u001b[39;49m\u001b[43mtype\u001b[49m\u001b[43m,\u001b[49m\n\u001b[1;32m    728\u001b[0m \u001b[43m        \u001b[49m\u001b[38;5;28;43mself\u001b[39;49m\u001b[38;5;241;43m.\u001b[39;49m\u001b[43m_stops\u001b[49m\u001b[38;5;241;43m.\u001b[39;49m\u001b[43mdtype\u001b[49m\u001b[38;5;241;43m.\u001b[39;49m\u001b[43mtype\u001b[49m\u001b[43m,\u001b[49m\n\u001b[1;32m    729\u001b[0m \u001b[43m    \u001b[49m\u001b[43m]\u001b[49m\u001b[43m(\u001b[49m\n\u001b[1;32m    730\u001b[0m \u001b[43m        \u001b[49m\u001b[43mnextcarry\u001b[49m\u001b[38;5;241;43m.\u001b[39;49m\u001b[43mdata\u001b[49m\u001b[43m,\u001b[49m\n\u001b[1;32m    731\u001b[0m \u001b[43m        \u001b[49m\u001b[38;5;28;43mself\u001b[39;49m\u001b[38;5;241;43m.\u001b[39;49m\u001b[43m_starts\u001b[49m\u001b[38;5;241;43m.\u001b[39;49m\u001b[43mdata\u001b[49m\u001b[43m,\u001b[49m\n\u001b[1;32m    732\u001b[0m \u001b[43m        \u001b[49m\u001b[38;5;28;43mself\u001b[39;49m\u001b[38;5;241;43m.\u001b[39;49m\u001b[43m_stops\u001b[49m\u001b[38;5;241;43m.\u001b[39;49m\u001b[43mdata\u001b[49m\u001b[43m,\u001b[49m\n\u001b[1;32m    733\u001b[0m \u001b[43m        \u001b[49m\u001b[43mlenstarts\u001b[49m\u001b[43m,\u001b[49m\n\u001b[1;32m    734\u001b[0m \u001b[43m        \u001b[49m\u001b[43mhead\u001b[49m\u001b[43m,\u001b[49m\n\u001b[1;32m    735\u001b[0m \u001b[43m    \u001b[49m\u001b[43m)\u001b[49m\u001b[43m,\u001b[49m\n\u001b[1;32m    736\u001b[0m \u001b[43m    \u001b[49m\u001b[43mslicer\u001b[49m\u001b[38;5;241;43m=\u001b[39;49m\u001b[43mhead\u001b[49m\u001b[43m,\u001b[49m\n\u001b[1;32m    737\u001b[0m \u001b[43m\u001b[49m\u001b[43m)\u001b[49m\n\u001b[1;32m    738\u001b[0m nextcontent \u001b[38;5;241m=\u001b[39m \u001b[38;5;28mself\u001b[39m\u001b[38;5;241m.\u001b[39m_content\u001b[38;5;241m.\u001b[39m_carry(nextcarry, \u001b[38;5;28;01mTrue\u001b[39;00m)\n",
      "File \u001b[0;32m~/opt/anaconda3/envs/columnar-data-analysis-codas-hep-2023/lib/python3.10/site-packages/awkward/contents/content.py:286\u001b[0m, in \u001b[0;36mContent._maybe_index_error\u001b[0;34m(self, error, slicer)\u001b[0m\n\u001b[1;32m    285\u001b[0m message \u001b[38;5;241m=\u001b[39m \u001b[38;5;28mself\u001b[39m\u001b[38;5;241m.\u001b[39m_backend\u001b[38;5;241m.\u001b[39mformat_kernel_error(error)\n\u001b[0;32m--> 286\u001b[0m \u001b[38;5;28;01mraise\u001b[39;00m ak\u001b[38;5;241m.\u001b[39m_errors\u001b[38;5;241m.\u001b[39mindex_error(\u001b[38;5;28mself\u001b[39m, slicer, message)\n",
      "\u001b[0;31mIndexError\u001b[0m: cannot slice ListArray (of length 299973) with array(0): index out of range while attempting to get index 0 (in compiled code: https://github.com/scikit-hep/awkward/blob/awkward-cpp-21/awkward-cpp/src/cpu-kernels/awkward_NumpyArray_getitem_next_at.cpp#L21)",
      "\nThe above exception was the direct cause of the following exception:\n",
      "\u001b[0;31mIndexError\u001b[0m                                Traceback (most recent call last)",
      "Cell \u001b[0;32mIn[23], line 1\u001b[0m\n\u001b[0;32m----> 1\u001b[0m \u001b[43mevents\u001b[49m\u001b[38;5;241;43m.\u001b[39;49m\u001b[43mmuons\u001b[49m\u001b[43m[\u001b[49m\u001b[43m:\u001b[49m\u001b[43m,\u001b[49m\u001b[43m \u001b[49m\u001b[38;5;241;43m0\u001b[39;49m\u001b[43m]\u001b[49m\n",
      "File \u001b[0;32m~/opt/anaconda3/envs/columnar-data-analysis-codas-hep-2023/lib/python3.10/site-packages/awkward/highlevel.py:944\u001b[0m, in \u001b[0;36mArray.__getitem__\u001b[0;34m(self, where)\u001b[0m\n\u001b[1;32m    515\u001b[0m \u001b[38;5;28;01mdef\u001b[39;00m \u001b[38;5;21m__getitem__\u001b[39m(\u001b[38;5;28mself\u001b[39m, where):\n\u001b[1;32m    516\u001b[0m \u001b[38;5;250m    \u001b[39m\u001b[38;5;124;03m\"\"\"\u001b[39;00m\n\u001b[1;32m    517\u001b[0m \u001b[38;5;124;03m    Args:\u001b[39;00m\n\u001b[1;32m    518\u001b[0m \u001b[38;5;124;03m        where (many types supported; see below): Index of positions to\u001b[39;00m\n\u001b[0;32m   (...)\u001b[0m\n\u001b[1;32m    942\u001b[0m \u001b[38;5;124;03m    have the same dimension as the array being indexed.\u001b[39;00m\n\u001b[1;32m    943\u001b[0m \u001b[38;5;124;03m    \"\"\"\u001b[39;00m\n\u001b[0;32m--> 944\u001b[0m     \u001b[38;5;28;01mwith\u001b[39;00m ak\u001b[38;5;241m.\u001b[39m_errors\u001b[38;5;241m.\u001b[39mSlicingErrorContext(\u001b[38;5;28mself\u001b[39m, where):\n\u001b[1;32m    945\u001b[0m         \u001b[38;5;28;01mreturn\u001b[39;00m wrap_layout(\n\u001b[1;32m    946\u001b[0m             prepare_layout(\u001b[38;5;28mself\u001b[39m\u001b[38;5;241m.\u001b[39m_layout[where]), \u001b[38;5;28mself\u001b[39m\u001b[38;5;241m.\u001b[39m_behavior, allow_other\u001b[38;5;241m=\u001b[39m\u001b[38;5;28;01mTrue\u001b[39;00m\n\u001b[1;32m    947\u001b[0m         )\n",
      "File \u001b[0;32m~/opt/anaconda3/envs/columnar-data-analysis-codas-hep-2023/lib/python3.10/site-packages/awkward/_errors.py:63\u001b[0m, in \u001b[0;36mErrorContext.__exit__\u001b[0;34m(self, exception_type, exception_value, traceback)\u001b[0m\n\u001b[1;32m     60\u001b[0m \u001b[38;5;28;01mtry\u001b[39;00m:\n\u001b[1;32m     61\u001b[0m     \u001b[38;5;66;03m# Handle caught exception\u001b[39;00m\n\u001b[1;32m     62\u001b[0m     \u001b[38;5;28;01mif\u001b[39;00m exception_type \u001b[38;5;129;01mis\u001b[39;00m \u001b[38;5;129;01mnot\u001b[39;00m \u001b[38;5;28;01mNone\u001b[39;00m \u001b[38;5;129;01mand\u001b[39;00m \u001b[38;5;28mself\u001b[39m\u001b[38;5;241m.\u001b[39mprimary() \u001b[38;5;129;01mis\u001b[39;00m \u001b[38;5;28mself\u001b[39m:\n\u001b[0;32m---> 63\u001b[0m         \u001b[38;5;28;43mself\u001b[39;49m\u001b[38;5;241;43m.\u001b[39;49m\u001b[43mhandle_exception\u001b[49m\u001b[43m(\u001b[49m\u001b[43mexception_type\u001b[49m\u001b[43m,\u001b[49m\u001b[43m \u001b[49m\u001b[43mexception_value\u001b[49m\u001b[43m)\u001b[49m\n\u001b[1;32m     64\u001b[0m \u001b[38;5;28;01mfinally\u001b[39;00m:\n\u001b[1;32m     65\u001b[0m     \u001b[38;5;66;03m# `_kwargs` may hold cyclic references, that we really want to avoid\u001b[39;00m\n\u001b[1;32m     66\u001b[0m     \u001b[38;5;66;03m# as this can lead to large buffers remaining in memory for longer than absolutely necessary\u001b[39;00m\n\u001b[1;32m     67\u001b[0m     \u001b[38;5;66;03m# Let's just clear this, now.\u001b[39;00m\n\u001b[1;32m     68\u001b[0m     \u001b[38;5;28mself\u001b[39m\u001b[38;5;241m.\u001b[39m_kwargs\u001b[38;5;241m.\u001b[39mclear()\n",
      "File \u001b[0;32m~/opt/anaconda3/envs/columnar-data-analysis-codas-hep-2023/lib/python3.10/site-packages/awkward/_errors.py:78\u001b[0m, in \u001b[0;36mErrorContext.handle_exception\u001b[0;34m(self, cls, exception)\u001b[0m\n\u001b[1;32m     76\u001b[0m     \u001b[38;5;28mself\u001b[39m\u001b[38;5;241m.\u001b[39mdecorate_exception(\u001b[38;5;28mcls\u001b[39m, exception)\n\u001b[1;32m     77\u001b[0m \u001b[38;5;28;01melse\u001b[39;00m:\n\u001b[0;32m---> 78\u001b[0m     \u001b[38;5;28;01mraise\u001b[39;00m \u001b[38;5;28mself\u001b[39m\u001b[38;5;241m.\u001b[39mdecorate_exception(\u001b[38;5;28mcls\u001b[39m, exception)\n",
      "\u001b[0;31mIndexError\u001b[0m: cannot slice ListArray (of length 299973) with array(0): index out of range while attempting to get index 0 (in compiled code: https://github.com/scikit-hep/awkward/blob/awkward-cpp-21/awkward-cpp/src/cpu-kernels/awkward_NumpyArray_getitem_next_at.cpp#L21)\n\nThis error occurred while attempting to slice\n\n    <MomentumArray4D [[{pt: 63, phi: 2.97, ...}, ...], ...] type='299973 * ...'>\n\nwith\n\n    (:, 0)"
     ]
    }
   ],
   "source": [
    "events.muons[:, 0]"
   ]
  },
  {
   "cell_type": "markdown",
   "id": "ffc7b87d-c7fa-4d82-ae9b-e455b4070ea1",
   "metadata": {},
   "source": [
    "...but only after ensuring that the events _have_ 2 muons (using [ak.num](https://awkward-array.readthedocs.io/en/latest/_auto/ak.num.html))."
   ]
  },
  {
   "cell_type": "code",
   "execution_count": 24,
   "id": "51809056-0594-433e-917c-7675cb6e0120",
   "metadata": {
    "tags": []
   },
   "outputs": [
    {
     "data": {
      "text/html": [
       "<pre>[3,\n",
       " 0,\n",
       " 0,\n",
       " 7,\n",
       " 0,\n",
       " 2,\n",
       " 1,\n",
       " 0,\n",
       " 0,\n",
       " 0,\n",
       " ...,\n",
       " 2,\n",
       " 2,\n",
       " 2,\n",
       " 0,\n",
       " 2,\n",
       " 2,\n",
       " 4,\n",
       " 0,\n",
       " 0]\n",
       "--------------------\n",
       "type: 299973 * int64</pre>"
      ],
      "text/plain": [
       "<Array [3, 0, 0, 7, 0, 2, 1, 0, ..., 2, 0, 2, 2, 4, 0, 0] type='299973 * int64'>"
      ]
     },
     "execution_count": 24,
     "metadata": {},
     "output_type": "execute_result"
    }
   ],
   "source": [
    "ak.num(events.muons)"
   ]
  },
  {
   "cell_type": "code",
   "execution_count": 25,
   "id": "3670c927-cc33-4ea5-9322-278ca534d8e1",
   "metadata": {
    "tags": []
   },
   "outputs": [
    {
     "data": {
      "text/html": [
       "<pre>[True,\n",
       " False,\n",
       " False,\n",
       " True,\n",
       " False,\n",
       " True,\n",
       " False,\n",
       " False,\n",
       " False,\n",
       " False,\n",
       " ...,\n",
       " True,\n",
       " True,\n",
       " True,\n",
       " False,\n",
       " True,\n",
       " True,\n",
       " True,\n",
       " False,\n",
       " False]\n",
       "-------------------\n",
       "type: 299973 * bool</pre>"
      ],
      "text/plain": [
       "<Array [True, False, False, True, ..., True, False, False] type='299973 * bool'>"
      ]
     },
     "execution_count": 25,
     "metadata": {},
     "output_type": "execute_result"
    }
   ],
   "source": [
    "ak.num(events.muons) >= 2"
   ]
  },
  {
   "cell_type": "code",
   "execution_count": 26,
   "id": "8898cb95-97c7-44d2-9a00-5b40daaaef6e",
   "metadata": {
    "tags": []
   },
   "outputs": [
    {
     "data": {
      "text/html": [
       "<pre>[{PV: {x: 0.244, y: 0.394, z: 1.45}, muons: [{...}, ...], electrons: [], ...},\n",
       " {PV: {x: 0.243, y: 0.393, z: ..., ...}, muons: [{...}, ...], ...},\n",
       " {PV: {x: 0.243, y: 0.392, z: ..., ...}, muons: [{...}, ...], ...},\n",
       " {PV: {x: 0.243, y: 0.393, z: 2.28}, muons: [{...}, ...], electrons: ..., ...},\n",
       " {PV: {x: 0.247, y: 0.391, z: 9.61}, muons: [{...}, ...], electrons: [], ...},\n",
       " {PV: {x: 0.245, y: 0.396, z: ..., ...}, muons: [{...}, ...], ...},\n",
       " {PV: {x: 0.244, y: 0.394, z: 3.57}, muons: [{...}, ...], electrons: [], ...},\n",
       " {PV: {x: 0.246, y: 0.394, z: 9.31}, muons: [{...}, ...], electrons: ..., ...},\n",
       " {PV: {x: 0.243, y: 0.392, z: ..., ...}, muons: [{...}, ...], ...},\n",
       " {PV: {x: 0.24, y: 0.396, z: 3.03}, muons: [{...}, ...], electrons: [], ...},\n",
       " ...,\n",
       " {PV: {x: 0.244, y: 0.393, z: 5.13}, muons: [{...}, ...], electrons: [], ...},\n",
       " {PV: {x: 0.243, y: 0.393, z: 1}, muons: [{...}, ...], electrons: [], ...},\n",
       " {PV: {x: 0.244, y: 0.394, z: ..., ...}, muons: [{...}, ...], ...},\n",
       " {PV: {x: 0.244, y: 0.394, z: ..., ...}, muons: [{...}, ...], ...},\n",
       " {PV: {x: 0.242, y: 0.394, z: ..., ...}, muons: [{...}, ...], ...},\n",
       " {PV: {x: 0.245, y: 0.394, z: ..., ...}, muons: [{...}, ...], ...},\n",
       " {PV: {x: 0.244, y: 0.392, z: 3.78}, muons: [{...}, ...], electrons: [], ...},\n",
       " {PV: {x: 0.243, y: 0.393, z: ..., ...}, muons: [{...}, ...], ...},\n",
       " {PV: {x: 0.245, y: 0.391, z: 2.06}, muons: [{...}, ...], electrons: [], ...}]\n",
       "-------------------------------------------------------------------------------\n",
       "type: 145597 * {\n",
       "    PV: Vector3D[\n",
       "        x: float32,\n",
       "        y: float32,\n",
       "        z: float32\n",
       "    ],\n",
       "    muons: var * Momentum4D[\n",
       "        pt: float32,\n",
       "        phi: float32,\n",
       "        eta: float32,\n",
       "        mass: float32,\n",
       "        charge: int32,\n",
       "        pfRelIso03: float32,\n",
       "        pfRelIso04: float32\n",
       "    ],\n",
       "    electrons: var * Momentum4D[\n",
       "        pt: float32,\n",
       "        phi: float32,\n",
       "        eta: float32,\n",
       "        mass: float32,\n",
       "        charge: int32,\n",
       "        pfRelIso03: float32\n",
       "    ],\n",
       "    MET: Momentum2D[\n",
       "        pt: float32,\n",
       "        phi: float32\n",
       "    ],\n",
       "    beamspot_PV: Vector3D[\n",
       "        x: float32,\n",
       "        y: float32,\n",
       "        z: float32\n",
       "    ]\n",
       "}</pre>"
      ],
      "text/plain": [
       "<Array [{PV: {...}, muons: [...], ...}, ...] type='145597 * {PV: Vector3D[x...'>"
      ]
     },
     "execution_count": 26,
     "metadata": {},
     "output_type": "execute_result"
    }
   ],
   "source": [
    "events[ak.num(events.muons) >= 2]"
   ]
  },
  {
   "cell_type": "code",
   "execution_count": 27,
   "id": "36dac661-2c16-4194-9534-03860b644408",
   "metadata": {
    "tags": []
   },
   "outputs": [
    {
     "data": {
      "text/html": [
       "<pre>[{pt: 63, phi: 2.97, eta: -0.719, mass: 0.106, charge: 1, pfRelIso03: 0, ...},\n",
       " {pt: 54.3, phi: -0.362, eta: -1.06, mass: 0.106, charge: 1, ...},\n",
       " {pt: 38.5, phi: 2.05, eta: 0.315, mass: 0.106, charge: -1, ...},\n",
       " {pt: 27.4, phi: 0.246, eta: -1.02, mass: 0.106, charge: 1, ...},\n",
       " {pt: 43.4, phi: -0.931, eta: -0.431, mass: 0.106, charge: -1, ...},\n",
       " {pt: 12.3, phi: -0.636, eta: 0.567, mass: 0.106, charge: 1, ...},\n",
       " {pt: 42.2, phi: -0.539, eta: 1.75, mass: 0.106, charge: -1, ...},\n",
       " {pt: 3.72, phi: -1.35, eta: -0.838, mass: 0.106, charge: -1, ...},\n",
       " {pt: 39.6, phi: -1.56, eta: -1.86, mass: 0.106, charge: 1, ...},\n",
       " {pt: 3.11, phi: -0.469, eta: -1.77, mass: 0.106, charge: -1, ...},\n",
       " ...,\n",
       " {pt: 23.8, phi: 2.96, eta: 1.67, mass: 0.106, charge: 1, pfRelIso03: ..., ...},\n",
       " {pt: 39.3, phi: -2.1, eta: -1.33, mass: 0.106, charge: -1, ...},\n",
       " {pt: 4.46, phi: -2.58, eta: -1.36, mass: 0.106, charge: 1, ...},\n",
       " {pt: 37.2, phi: -0.875, eta: 1.1, mass: 0.106, charge: -1, ...},\n",
       " {pt: 43.2, phi: -1.3, eta: 2.15, mass: 0.106, charge: 1, pfRelIso03: ..., ...},\n",
       " {pt: 24.2, phi: -0.997, eta: 0.327, mass: 0.106, charge: -1, ...},\n",
       " {pt: 9.81, phi: 1.66, eta: 2.07, mass: 0.106, charge: 1, pfRelIso03: ..., ...},\n",
       " {pt: 32.6, phi: -0.981, eta: 1.11, mass: 0.106, charge: 1, ...},\n",
       " {pt: 4.32, phi: 0.988, eta: -2.09, mass: 0.106, charge: 1, ...}]\n",
       "--------------------------------------------------------------------------------\n",
       "type: 145597 * Momentum4D[\n",
       "    pt: float32,\n",
       "    phi: float32,\n",
       "    eta: float32,\n",
       "    mass: float32,\n",
       "    charge: int32,\n",
       "    pfRelIso03: float32,\n",
       "    pfRelIso04: float32\n",
       "]</pre>"
      ],
      "text/plain": [
       "<MomentumArray4D [{pt: 63, phi: 2.97, ...}, ..., {...}] type='145597 * Mome...'>"
      ]
     },
     "execution_count": 27,
     "metadata": {},
     "output_type": "execute_result"
    }
   ],
   "source": [
    "events[ak.num(events.muons) >= 2].muons[:, 0]"
   ]
  },
  {
   "cell_type": "markdown",
   "id": "22d1cca0-fb41-413f-a997-e31b43b3d091",
   "metadata": {},
   "source": [
    "The following is equivalent, doing the selection for at least two muons and the selection for the first muon in a single slice."
   ]
  },
  {
   "cell_type": "code",
   "execution_count": 28,
   "id": "dc5d896d-d20e-4734-ab89-a088836d9f1a",
   "metadata": {
    "tags": []
   },
   "outputs": [
    {
     "data": {
      "text/html": [
       "<pre>[{pt: 63, phi: 2.97, eta: -0.719, mass: 0.106, charge: 1, pfRelIso03: 0, ...},\n",
       " {pt: 54.3, phi: -0.362, eta: -1.06, mass: 0.106, charge: 1, ...},\n",
       " {pt: 38.5, phi: 2.05, eta: 0.315, mass: 0.106, charge: -1, ...},\n",
       " {pt: 27.4, phi: 0.246, eta: -1.02, mass: 0.106, charge: 1, ...},\n",
       " {pt: 43.4, phi: -0.931, eta: -0.431, mass: 0.106, charge: -1, ...},\n",
       " {pt: 12.3, phi: -0.636, eta: 0.567, mass: 0.106, charge: 1, ...},\n",
       " {pt: 42.2, phi: -0.539, eta: 1.75, mass: 0.106, charge: -1, ...},\n",
       " {pt: 3.72, phi: -1.35, eta: -0.838, mass: 0.106, charge: -1, ...},\n",
       " {pt: 39.6, phi: -1.56, eta: -1.86, mass: 0.106, charge: 1, ...},\n",
       " {pt: 3.11, phi: -0.469, eta: -1.77, mass: 0.106, charge: -1, ...},\n",
       " ...,\n",
       " {pt: 23.8, phi: 2.96, eta: 1.67, mass: 0.106, charge: 1, pfRelIso03: ..., ...},\n",
       " {pt: 39.3, phi: -2.1, eta: -1.33, mass: 0.106, charge: -1, ...},\n",
       " {pt: 4.46, phi: -2.58, eta: -1.36, mass: 0.106, charge: 1, ...},\n",
       " {pt: 37.2, phi: -0.875, eta: 1.1, mass: 0.106, charge: -1, ...},\n",
       " {pt: 43.2, phi: -1.3, eta: 2.15, mass: 0.106, charge: 1, pfRelIso03: ..., ...},\n",
       " {pt: 24.2, phi: -0.997, eta: 0.327, mass: 0.106, charge: -1, ...},\n",
       " {pt: 9.81, phi: 1.66, eta: 2.07, mass: 0.106, charge: 1, pfRelIso03: ..., ...},\n",
       " {pt: 32.6, phi: -0.981, eta: 1.11, mass: 0.106, charge: 1, ...},\n",
       " {pt: 4.32, phi: 0.988, eta: -2.09, mass: 0.106, charge: 1, ...}]\n",
       "--------------------------------------------------------------------------------\n",
       "type: 145597 * Momentum4D[\n",
       "    pt: float32,\n",
       "    phi: float32,\n",
       "    eta: float32,\n",
       "    mass: float32,\n",
       "    charge: int32,\n",
       "    pfRelIso03: float32,\n",
       "    pfRelIso04: float32\n",
       "]</pre>"
      ],
      "text/plain": [
       "<MomentumArray4D [{pt: 63, phi: 2.97, ...}, ..., {...}] type='145597 * Mome...'>"
      ]
     },
     "execution_count": 28,
     "metadata": {},
     "output_type": "execute_result"
    }
   ],
   "source": [
    "events.muons[ak.num(events.muons) >= 2, 0]"
   ]
  },
  {
   "cell_type": "code",
   "execution_count": 29,
   "id": "aad7519f-3eaa-468d-8881-aa03f50b21d2",
   "metadata": {
    "tags": []
   },
   "outputs": [],
   "source": [
    "first_muons, second_muons = (\n",
    "    events.muons[ak.num(events.muons) >= 2, 0],\n",
    "    events.muons[ak.num(events.muons) >= 2, 1],\n",
    ")"
   ]
  },
  {
   "cell_type": "code",
   "execution_count": 30,
   "id": "e5ae2379-324e-47e5-aa1d-c5534192aaf4",
   "metadata": {
    "tags": []
   },
   "outputs": [
    {
     "data": {
      "text/html": [
       "<pre>[{rho: 47.8, phi: -2.67, eta: -1.36, tau: 89.5},\n",
       " {rho: 77.8, phi: -0.346, eta: -0.853, tau: 29.8},\n",
       " {rho: 8.87, phi: -1.41, eta: 0.7, tau: 87.1},\n",
       " {rho: 83.1, phi: -0.585, eta: 0.119, tau: 90.5},\n",
       " {rho: 10.4, phi: -2.36, eta: -1.11, tau: 89.2},\n",
       " {rho: 7.53, phi: 0.0333, eta: 1.19, tau: 18.8},\n",
       " {rho: 50.3, phi: -0.895, eta: 1.65, tau: 52.5},\n",
       " {rho: 3, phi: -0.256, eta: -0.474, tau: 8.54},\n",
       " {rho: 43.2, phi: -1.58, eta: -1.84, tau: 4.59},\n",
       " {rho: 18.1, phi: 2.49, eta: 0.295, tau: 29.3},\n",
       " ...,\n",
       " {rho: 25.8, phi: 3.08, eta: 1.62, tau: 14.3},\n",
       " {rho: 31.4, phi: -2.27, eta: -1.16, tau: 90.7},\n",
       " {rho: 42.4, phi: 2.36, eta: 1.29, tau: 53.6},\n",
       " {rho: 20.7, phi: -2.91, eta: 1.94, tau: 90},\n",
       " {rho: 24.2, phi: -0.847, eta: 2.77, tau: 88.6},\n",
       " {rho: 57.6, phi: 2.66, eta: 1.11, tau: 88.8},\n",
       " {rho: 27.6, phi: 2.83, eta: 1.66, tau: 27.9},\n",
       " {rho: 11.3, phi: 2.59, eta: 1.91, tau: 90.5},\n",
       " {rho: 8.34, phi: 0.71, eta: -2.16, tau: 2.4}]\n",
       "--------------------------------------------------\n",
       "type: 145597 * Momentum4D[\n",
       "    rho: float32,\n",
       "    phi: float32,\n",
       "    eta: float32,\n",
       "    tau: float32\n",
       "]</pre>"
      ],
      "text/plain": [
       "<MomentumArray4D [{rho: 47.8, phi: -2.67, ...}, ...] type='145597 * Momentu...'>"
      ]
     },
     "execution_count": 30,
     "metadata": {},
     "output_type": "execute_result"
    }
   ],
   "source": [
    "first_muons + second_muons"
   ]
  },
  {
   "cell_type": "code",
   "execution_count": 31,
   "id": "9a09db8f-9834-41b8-8ce4-544a35301d04",
   "metadata": {
    "tags": []
   },
   "outputs": [
    {
     "data": {
      "text/html": [
       "<pre>[89.5,\n",
       " 29.8,\n",
       " 87.1,\n",
       " 90.5,\n",
       " 89.2,\n",
       " 18.8,\n",
       " 52.5,\n",
       " 8.54,\n",
       " 4.59,\n",
       " 29.3,\n",
       " ...,\n",
       " 14.3,\n",
       " 90.7,\n",
       " 53.6,\n",
       " 90,\n",
       " 88.6,\n",
       " 88.8,\n",
       " 27.9,\n",
       " 90.5,\n",
       " 2.4]\n",
       "----------------------\n",
       "type: 145597 * float32</pre>"
      ],
      "text/plain": [
       "<Array [89.5, 29.8, 87.1, 90.5, ..., 27.9, 90.5, 2.4] type='145597 * float32'>"
      ]
     },
     "execution_count": 31,
     "metadata": {},
     "output_type": "execute_result"
    }
   ],
   "source": [
    "(first_muons + second_muons).mass"
   ]
  },
  {
   "cell_type": "code",
   "execution_count": 32,
   "id": "a32a3381-da8a-4399-a63a-cb4aa33da821",
   "metadata": {
    "tags": []
   },
   "outputs": [
    {
     "data": {
      "image/png": "[encoded data removed]",
      "text/plain": [
       "<Figure size 640x480 with 1 Axes>"
      ]
     },
     "metadata": {},
     "output_type": "display_data"
    }
   ],
   "source": [
    "hist.Hist.new.Regular(100, 0, 150).Double().fill((first_muons + second_muons).mass).plot();"
   ]
  },
  {
   "cell_type": "markdown",
   "id": "c367f252-4a88-4397-a8bc-c563e62f755c",
   "metadata": {},
   "source": [
    "<br><br><br><br><br>"
   ]
  },
  {
   "cell_type": "markdown",
   "id": "525af142-6680-4ff0-9d9d-91cf2213cf5b",
   "metadata": {},
   "source": [
    "Although we see a nice Z peak, there are a couple of problems with the above.\n",
    "\n",
    "   * You have to keep track of which arrays you've required to have two muons and which you haven't. If you try to do calculations with an array that has been cut and another array that hasn't been cut (or has been cut differently), they won't align and you'll get an error.\n",
    "   * The first and second muons in the list aren't necessarily daughters of the same Z.\n",
    "\n",
    "You'll want to compute combinations within the collections, separately for each event.\n",
    "\n",
    "<br><br>\n",
    "\n",
    "Awkward Array has two combinatorial primitives:\n",
    "\n",
    "<table style=\"margin-left: 0px\">\n",
    "    <tr style=\"background: white\"><td style=\"font-size: 1.75em; font-weight: bold; text-align: center\"><a href=\"https://awkward-array.readthedocs.io/en/latest/_auto/ak.cartesian.html\">ak.cartesian</a></td><td style=\"font-size: 1.75em; font-weight: bold; text-align: center\"><a href=\\\"https://awkward-array.readthedocs.io/en/latest/_auto/ak.combinations.html\\\">ak.combinations</a></td></tr>\n",
    "    <tr style=\"background: white\"><td><img src=\"../img/cartoon-cartesian.svg\" width=\"300\"></td><td><img src=\"../img/cartoon-combinations.svg\" width=\"300\"></td></tr>\n",
    "</table>"
   ]
  },
  {
   "cell_type": "code",
   "execution_count": 33,
   "id": "012decc2-6bd5-4e37-9b76-f2750e57afdf",
   "metadata": {
    "tags": []
   },
   "outputs": [
    {
     "data": {
      "text/plain": [
       "[[(1, 'a'), (1, 'b'), (2, 'a'), (2, 'b'), (3, 'a'), (3, 'b')],\n",
       " [],\n",
       " [(4, 'd'), (4, 'e')]]"
      ]
     },
     "execution_count": 33,
     "metadata": {},
     "output_type": "execute_result"
    }
   ],
   "source": [
    "ak.cartesian(([[1, 2, 3], [], [4]], [[\"a\", \"b\"], [\"c\"], [\"d\", \"e\"]])).tolist()"
   ]
  },
  {
   "cell_type": "code",
   "execution_count": 34,
   "id": "45d89827-a1e1-4f6b-9db3-42b1c7bac57f",
   "metadata": {
    "tags": []
   },
   "outputs": [
    {
     "data": {
      "text/plain": [
       "[[(1.1, 2.2), (1.1, 3.3), (1.1, 4.4), (2.2, 3.3), (2.2, 4.4), (3.3, 4.4)],\n",
       " [],\n",
       " [(5.5, 6.6)]]"
      ]
     },
     "execution_count": 34,
     "metadata": {},
     "output_type": "execute_result"
    }
   ],
   "source": [
    "ak.combinations([[1.1, 2.2, 3.3, 4.4], [], [5.5, 6.6]], 2).tolist()"
   ]
  },
  {
   "cell_type": "markdown",
   "id": "c32277e2-737e-4bce-a1be-a2307b5f4ad3",
   "metadata": {},
   "source": [
    "<br><br>\n",
    "\n",
    "Note the data type of what this creates: tuples (_not lists_) of the left and right of each pairing."
   ]
  },
  {
   "cell_type": "code",
   "execution_count": 35,
   "id": "c3e105ae-ae18-45a6-8028-1cd06a0ff0dd",
   "metadata": {
    "tags": []
   },
   "outputs": [
    {
     "name": "stdout",
     "output_type": "stream",
     "text": [
      "3 * var * (int64, string)\n"
     ]
    }
   ],
   "source": [
    "print(ak.cartesian(([[1, 2, 3], [], [4]], [[\"a\", \"b\"], [\"c\"], [\"d\", \"e\"]])).type)"
   ]
  },
  {
   "cell_type": "code",
   "execution_count": 36,
   "id": "16e3dffd-d46e-45fe-b33e-e2416e68ce19",
   "metadata": {
    "tags": []
   },
   "outputs": [
    {
     "name": "stdout",
     "output_type": "stream",
     "text": [
      "3 * var * (float64, float64)\n"
     ]
    }
   ],
   "source": [
    "print(ak.combinations([[1.1, 2.2, 3.3, 4.4], [], [5.5, 6.6]], 2).type)"
   ]
  },
  {
   "cell_type": "markdown",
   "id": "a4afba7d-0e13-435a-82b0-914250b6baa2",
   "metadata": {},
   "source": [
    "<br><br>\n",
    "\n",
    "There is a different number of combinations than there are of objects in the original lists.\n",
    "\n",
    "It's often useful to get all the lefts of each tuple into one array and all the rights of each tuple into another array (with [ak.unzip](https://awkward-array.readthedocs.io/en/latest/_auto/ak.unzip.html) or slicing with `\"0\"` and `\"1\"`)."
   ]
  },
  {
   "cell_type": "code",
   "execution_count": 37,
   "id": "c2d1244d-41d9-410e-baa6-8c490024aa5c",
   "metadata": {
    "tags": []
   },
   "outputs": [],
   "source": [
    "lefts, rights = ak.unzip(ak.cartesian(([[1, 2, 3], [], [4]], [[\"a\", \"b\"], [\"c\"], [\"d\", \"e\"]])))"
   ]
  },
  {
   "cell_type": "code",
   "execution_count": 38,
   "id": "27f99920-0016-4816-8a3a-6dddcb05c3b0",
   "metadata": {
    "tags": []
   },
   "outputs": [
    {
     "data": {
      "text/html": [
       "<pre>[[1, 1, 2, 2, 3, 3],\n",
       " [],\n",
       " [4, 4]]\n",
       "---------------------\n",
       "type: 3 * var * int64</pre>"
      ],
      "text/plain": [
       "<Array [[1, 1, 2, 2, 3, 3], [], [4, 4]] type='3 * var * int64'>"
      ]
     },
     "execution_count": 38,
     "metadata": {},
     "output_type": "execute_result"
    }
   ],
   "source": [
    "lefts"
   ]
  },
  {
   "cell_type": "code",
   "execution_count": 39,
   "id": "0f5ee400-3df8-4a70-a67f-c7e169060356",
   "metadata": {
    "tags": []
   },
   "outputs": [
    {
     "data": {
      "text/html": [
       "<pre>[[&#x27;a&#x27;, &#x27;b&#x27;, &#x27;a&#x27;, &#x27;b&#x27;, &#x27;a&#x27;, &#x27;b&#x27;],\n",
       " [],\n",
       " [&#x27;d&#x27;, &#x27;e&#x27;]]\n",
       "--------------------------------\n",
       "type: 3 * var * string</pre>"
      ],
      "text/plain": [
       "<Array [['a', 'b', 'a', 'b', 'a', 'b'], [], [...]] type='3 * var * string'>"
      ]
     },
     "execution_count": 39,
     "metadata": {},
     "output_type": "execute_result"
    }
   ],
   "source": [
    "rights"
   ]
  },
  {
   "cell_type": "code",
   "execution_count": 40,
   "id": "8ca64305-4797-41b7-a296-dee906dfcd86",
   "metadata": {
    "tags": []
   },
   "outputs": [
    {
     "data": {
      "text/plain": [
       "(<Array [6, 0, 2] type='3 * int64'>, <Array [6, 0, 2] type='3 * int64'>)"
      ]
     },
     "execution_count": 40,
     "metadata": {},
     "output_type": "execute_result"
    }
   ],
   "source": [
    "ak.num(lefts), ak.num(rights)"
   ]
  },
  {
   "cell_type": "markdown",
   "id": "69f2dc5d-c4fa-4320-9c64-3f153aeaedd5",
   "metadata": {},
   "source": [
    "<br>"
   ]
  },
  {
   "cell_type": "code",
   "execution_count": 41,
   "id": "7936513f-fd55-4fc9-8697-ddeb060ace3d",
   "metadata": {
    "tags": []
   },
   "outputs": [],
   "source": [
    "pairs = ak.combinations([[1.1, 2.2, 3.3, 4.4], [], [5.5, 6.6]], 2)"
   ]
  },
  {
   "cell_type": "code",
   "execution_count": 42,
   "id": "2e3d0a7f-9801-4eee-ab5b-b140f025ba66",
   "metadata": {
    "tags": []
   },
   "outputs": [
    {
     "data": {
      "text/html": [
       "<pre>[[1.1, 1.1, 1.1, 2.2, 2.2, 3.3],\n",
       " [],\n",
       " [5.5]]\n",
       "--------------------------------\n",
       "type: 3 * var * float64</pre>"
      ],
      "text/plain": [
       "<Array [[1.1, 1.1, 1.1, 2.2, 2.2, 3.3], ..., [5.5]] type='3 * var * float64'>"
      ]
     },
     "execution_count": 42,
     "metadata": {},
     "output_type": "execute_result"
    }
   ],
   "source": [
    "pairs[\"0\"]   # NOT pairs[0], the string \"0\" is the NAME of the first tuple field"
   ]
  },
  {
   "cell_type": "code",
   "execution_count": 43,
   "id": "52eebe7b-6220-4a0b-89ce-eff2044f4e8c",
   "metadata": {
    "tags": []
   },
   "outputs": [
    {
     "data": {
      "text/html": [
       "<pre>[[2.2, 3.3, 4.4, 3.3, 4.4, 4.4],\n",
       " [],\n",
       " [6.6]]\n",
       "--------------------------------\n",
       "type: 3 * var * float64</pre>"
      ],
      "text/plain": [
       "<Array [[2.2, 3.3, 4.4, 3.3, 4.4, 4.4], ..., [6.6]] type='3 * var * float64'>"
      ]
     },
     "execution_count": 43,
     "metadata": {},
     "output_type": "execute_result"
    }
   ],
   "source": [
    "pairs[\"1\"]"
   ]
  },
  {
   "cell_type": "code",
   "execution_count": 44,
   "id": "bdab6a3f-22fe-4b11-872b-de5019acb442",
   "metadata": {
    "tags": []
   },
   "outputs": [
    {
     "data": {
      "text/plain": [
       "(<Array [6, 0, 1] type='3 * int64'>, <Array [6, 0, 1] type='3 * int64'>)"
      ]
     },
     "execution_count": 44,
     "metadata": {},
     "output_type": "execute_result"
    }
   ],
   "source": [
    "ak.num(pairs[\"0\"]), ak.num(pairs[\"1\"])"
   ]
  },
  {
   "cell_type": "markdown",
   "id": "f0764042-7efb-4de2-b68d-130f0ee47371",
   "metadata": {},
   "source": [
    "<br><br><br><br><br>"
   ]
  },
  {
   "cell_type": "markdown",
   "id": "540e1593-c2ee-443a-9c25-45ffa3f0b23c",
   "metadata": {},
   "source": [
    "And so..."
   ]
  },
  {
   "cell_type": "code",
   "execution_count": 45,
   "id": "8206ed7b-4b6f-49b6-a534-d2a76cd7b5d7",
   "metadata": {
    "tags": []
   },
   "outputs": [
    {
     "data": {
      "image/png": "[encoded data removed]",
      "text/plain": [
       "<Figure size 640x480 with 1 Axes>"
      ]
     },
     "metadata": {},
     "output_type": "display_data"
    }
   ],
   "source": [
    "mu1, mu2 = ak.unzip(ak.combinations(events.muons, 2))\n",
    "hist.Hist.new.Regular(100, 0, 150).Double().fill(ak.ravel((mu1 + mu2).mass)).plot();"
   ]
  },
  {
   "cell_type": "markdown",
   "id": "4f3125af-4dc3-4762-8ef2-d0f365bd89fc",
   "metadata": {},
   "source": [
    "In the above, we're looking at all combinations of 2 muons in H → ZZ → 4μ, 4e, or 2μ2e.\n",
    "\n",
    "Some of these combinations even have the wrong charges."
   ]
  },
  {
   "cell_type": "code",
   "execution_count": 46,
   "id": "14bf45f5-ee92-4bd0-a9f8-d99f2a2a0b77",
   "metadata": {
    "tags": []
   },
   "outputs": [
    {
     "data": {
      "text/html": [
       "<pre>[[0, 2, 0],\n",
       " [],\n",
       " [],\n",
       " [0, 0, 2, 0, 0, 2, -2, 0, -2, -2, 0, 0, -2, -2, 0, 0, 0, 2, -2, 0, 0],\n",
       " [],\n",
       " [0],\n",
       " [],\n",
       " [],\n",
       " [],\n",
       " [],\n",
       " ...,\n",
       " [0],\n",
       " [0],\n",
       " [0],\n",
       " [],\n",
       " [0],\n",
       " [0],\n",
       " [0, 2, 2, 0, 0, 2],\n",
       " [],\n",
       " []]\n",
       "-----------------------------------------------------------------------\n",
       "type: 299973 * var * int32</pre>"
      ],
      "text/plain": [
       "<Array [[0, 2, 0], [], [], ..., [0, ...], [], []] type='299973 * var * int32'>"
      ]
     },
     "execution_count": 46,
     "metadata": {},
     "output_type": "execute_result"
    }
   ],
   "source": [
    "mu1.charge + mu2.charge"
   ]
  },
  {
   "cell_type": "code",
   "execution_count": 47,
   "id": "7e298aec-adbf-45e2-91d5-6a1745e53916",
   "metadata": {
    "tags": []
   },
   "outputs": [
    {
     "data": {
      "image/png": "[encoded data removed]",
      "text/plain": [
       "<Figure size 640x480 with 1 Axes>"
      ]
     },
     "metadata": {},
     "output_type": "display_data"
    }
   ],
   "source": [
    "hist.Hist.new.Regular(100, 0, 150).Double().fill(ak.ravel((mu1 + mu2)[mu1.charge + mu2.charge == 0].mass)).plot();"
   ]
  },
  {
   "cell_type": "markdown",
   "id": "5704a52f-e498-4949-aeba-5bd7b7f59444",
   "metadata": {},
   "source": [
    "In the above, we're only looking at μ⁺μ⁻, but some of those pairs have a μ⁺ from one Z and a μ⁻ from the other Z.\n",
    "\n",
    "That wouldn't happen in the 2μ2e final state."
   ]
  },
  {
   "cell_type": "code",
   "execution_count": 48,
   "id": "d3de8d42-4558-403f-a71d-86b96281d864",
   "metadata": {
    "tags": []
   },
   "outputs": [
    {
     "data": {
      "text/html": [
       "<pre>[False,\n",
       " True,\n",
       " True,\n",
       " False,\n",
       " True,\n",
       " False,\n",
       " False,\n",
       " False,\n",
       " True,\n",
       " False,\n",
       " ...,\n",
       " True,\n",
       " False,\n",
       " False,\n",
       " True,\n",
       " False,\n",
       " False,\n",
       " False,\n",
       " True,\n",
       " True]\n",
       "-------------------\n",
       "type: 299973 * bool</pre>"
      ],
      "text/plain": [
       "<Array [False, True, True, False, ..., False, True, True] type='299973 * bool'>"
      ]
     },
     "execution_count": 48,
     "metadata": {},
     "output_type": "execute_result"
    }
   ],
   "source": [
    "event_selection = ak.num(events.electrons) >= 2\n",
    "event_selection"
   ]
  },
  {
   "cell_type": "code",
   "execution_count": 49,
   "id": "244b3c57-be32-43a8-805d-da1abf4306cf",
   "metadata": {
    "tags": []
   },
   "outputs": [
    {
     "data": {
      "text/html": [
       "<pre>[[],\n",
       " [],\n",
       " [],\n",
       " [],\n",
       " [],\n",
       " [True],\n",
       " [],\n",
       " [],\n",
       " [False, True, True],\n",
       " [False],\n",
       " ...,\n",
       " [],\n",
       " [],\n",
       " [False, True, True],\n",
       " [],\n",
       " [],\n",
       " [True],\n",
       " [],\n",
       " [],\n",
       " []]\n",
       "-------------------------\n",
       "type: 137140 * var * bool</pre>"
      ],
      "text/plain": [
       "<Array [[], [], [], [], [], ..., [True], [], [], []] type='137140 * var * bool'>"
      ]
     },
     "execution_count": 49,
     "metadata": {},
     "output_type": "execute_result"
    }
   ],
   "source": [
    "candidate_selection = mu1[event_selection].charge + mu2[event_selection].charge == 0\n",
    "candidate_selection"
   ]
  },
  {
   "cell_type": "code",
   "execution_count": 50,
   "id": "48ac09e5-38b4-492f-b164-c3f1a8ccc141",
   "metadata": {
    "tags": []
   },
   "outputs": [
    {
     "data": {
      "image/png": "[encoded data removed]",
      "text/plain": [
       "<Figure size 640x480 with 1 Axes>"
      ]
     },
     "metadata": {},
     "output_type": "display_data"
    }
   ],
   "source": [
    "mumu_candidates_in_2mu2e = (mu1[event_selection] + mu2[event_selection])[candidate_selection]\n",
    "\n",
    "hist.Hist.new.Regular(100, 0, 150).Double().fill(ak.ravel(mumu_candidates_in_2mu2e.mass)).plot();"
   ]
  },
  {
   "cell_type": "markdown",
   "id": "5a101997-8bda-4f3f-a993-f08e0f0a01b9",
   "metadata": {},
   "source": [
    "There are still some non-Z muon pairs in this sample, but maybe isolation or a minimum $p_T$ would clean that up."
   ]
  },
  {
   "cell_type": "markdown",
   "id": "4e078b4c-1c97-4a4e-9599-50c51ad26928",
   "metadata": {},
   "source": [
    "<br><br><br><br><br>"
   ]
  },
  {
   "cell_type": "markdown",
   "id": "854e7a1b-734a-49a8-ad33-dd27b726a22a",
   "metadata": {},
   "source": [
    "# Next stop: the hands-on project"
   ]
  },
  {
   "cell_type": "markdown",
   "id": "68c22124-b0d6-4ba9-847d-995ff7a31319",
   "metadata": {
    "tags": []
   },
   "source": [
    "Go to [project-workbook.ipynb](project-workbook.ipynb) for the hands-on project."
   ]
  }
 ],
 "metadata": {
  "kernelspec": {
   "display_name": "Python 3 (ipykernel)",
   "language": "python",
   "name": "python3"
  },
  "language_info": {
   "codemirror_mode": {
    "name": "ipython",
    "version": 3
   },
   "file_extension": ".py",
   "mimetype": "text/x-python",
   "name": "python",
   "nbconvert_exporter": "python",
   "pygments_lexer": "ipython3",
   "version": "3.10.0"
  }
 },
 "nbformat": 4,
 "nbformat_minor": 5
}
